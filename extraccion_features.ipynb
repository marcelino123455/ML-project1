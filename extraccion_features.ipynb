{
  "cells": [
    {
      "cell_type": "code",
      "execution_count": null,
      "id": "759f0432",
      "metadata": {
        "colab": {
          "base_uri": "https://localhost:8080/"
        },
        "id": "759f0432",
        "outputId": "0c2d392b-5f3a-425a-fa9d-f0e5877b0b90"
      },
      "outputs": [
        {
          "output_type": "stream",
          "name": "stdout",
          "text": [
            "Requirement already satisfied: h5py in /usr/local/lib/python3.11/dist-packages (3.13.0)\n",
            "Requirement already satisfied: numpy>=1.19.3 in /usr/local/lib/python3.11/dist-packages (from h5py) (2.0.2)\n",
            "Requirement already satisfied: pandas in /usr/local/lib/python3.11/dist-packages (2.2.2)\n",
            "Requirement already satisfied: numpy>=1.23.2 in /usr/local/lib/python3.11/dist-packages (from pandas) (2.0.2)\n",
            "Requirement already satisfied: python-dateutil>=2.8.2 in /usr/local/lib/python3.11/dist-packages (from pandas) (2.9.0.post0)\n",
            "Requirement already satisfied: pytz>=2020.1 in /usr/local/lib/python3.11/dist-packages (from pandas) (2025.2)\n",
            "Requirement already satisfied: tzdata>=2022.7 in /usr/local/lib/python3.11/dist-packages (from pandas) (2025.2)\n",
            "Requirement already satisfied: six>=1.5 in /usr/local/lib/python3.11/dist-packages (from python-dateutil>=2.8.2->pandas) (1.17.0)\n",
            "Collecting tsfresh\n",
            "  Downloading tsfresh-0.21.0-py2.py3-none-any.whl.metadata (2.6 kB)\n",
            "Requirement already satisfied: requests>=2.9.1 in /usr/local/lib/python3.11/dist-packages (from tsfresh) (2.32.3)\n",
            "Requirement already satisfied: numpy>=1.15.1 in /usr/local/lib/python3.11/dist-packages (from tsfresh) (2.0.2)\n",
            "Requirement already satisfied: pandas>=0.25.0 in /usr/local/lib/python3.11/dist-packages (from tsfresh) (2.2.2)\n",
            "Requirement already satisfied: statsmodels>=0.13 in /usr/local/lib/python3.11/dist-packages (from tsfresh) (0.14.4)\n",
            "Requirement already satisfied: patsy>=0.4.1 in /usr/local/lib/python3.11/dist-packages (from tsfresh) (1.0.1)\n",
            "Collecting pywavelets (from tsfresh)\n",
            "  Downloading pywavelets-1.8.0-cp311-cp311-manylinux_2_17_x86_64.manylinux2014_x86_64.whl.metadata (9.0 kB)\n",
            "Requirement already satisfied: scikit-learn>=0.22.0 in /usr/local/lib/python3.11/dist-packages (from tsfresh) (1.6.1)\n",
            "Requirement already satisfied: tqdm>=4.10.0 in /usr/local/lib/python3.11/dist-packages (from tsfresh) (4.67.1)\n",
            "Collecting stumpy>=1.7.2 (from tsfresh)\n",
            "  Downloading stumpy-1.13.0-py3-none-any.whl.metadata (28 kB)\n",
            "Requirement already satisfied: cloudpickle in /usr/local/lib/python3.11/dist-packages (from tsfresh) (3.1.1)\n",
            "Requirement already satisfied: scipy>=1.14.0 in /usr/local/lib/python3.11/dist-packages (from tsfresh) (1.15.2)\n",
            "Requirement already satisfied: python-dateutil>=2.8.2 in /usr/local/lib/python3.11/dist-packages (from pandas>=0.25.0->tsfresh) (2.9.0.post0)\n",
            "Requirement already satisfied: pytz>=2020.1 in /usr/local/lib/python3.11/dist-packages (from pandas>=0.25.0->tsfresh) (2025.2)\n",
            "Requirement already satisfied: tzdata>=2022.7 in /usr/local/lib/python3.11/dist-packages (from pandas>=0.25.0->tsfresh) (2025.2)\n",
            "Requirement already satisfied: charset-normalizer<4,>=2 in /usr/local/lib/python3.11/dist-packages (from requests>=2.9.1->tsfresh) (3.4.1)\n",
            "Requirement already satisfied: idna<4,>=2.5 in /usr/local/lib/python3.11/dist-packages (from requests>=2.9.1->tsfresh) (3.10)\n",
            "Requirement already satisfied: urllib3<3,>=1.21.1 in /usr/local/lib/python3.11/dist-packages (from requests>=2.9.1->tsfresh) (2.4.0)\n",
            "Requirement already satisfied: certifi>=2017.4.17 in /usr/local/lib/python3.11/dist-packages (from requests>=2.9.1->tsfresh) (2025.4.26)\n",
            "Requirement already satisfied: joblib>=1.2.0 in /usr/local/lib/python3.11/dist-packages (from scikit-learn>=0.22.0->tsfresh) (1.4.2)\n",
            "Requirement already satisfied: threadpoolctl>=3.1.0 in /usr/local/lib/python3.11/dist-packages (from scikit-learn>=0.22.0->tsfresh) (3.6.0)\n",
            "Requirement already satisfied: packaging>=21.3 in /usr/local/lib/python3.11/dist-packages (from statsmodels>=0.13->tsfresh) (24.2)\n",
            "Requirement already satisfied: numba>=0.57.1 in /usr/local/lib/python3.11/dist-packages (from stumpy>=1.7.2->tsfresh) (0.60.0)\n",
            "Requirement already satisfied: llvmlite<0.44,>=0.43.0dev0 in /usr/local/lib/python3.11/dist-packages (from numba>=0.57.1->stumpy>=1.7.2->tsfresh) (0.43.0)\n",
            "Requirement already satisfied: six>=1.5 in /usr/local/lib/python3.11/dist-packages (from python-dateutil>=2.8.2->pandas>=0.25.0->tsfresh) (1.17.0)\n",
            "Downloading tsfresh-0.21.0-py2.py3-none-any.whl (96 kB)\n",
            "\u001b[2K   \u001b[90m━━━━━━━━━━━━━━━━━━━━━━━━━━━━━━━━━━━━━━━━\u001b[0m \u001b[32m96.0/96.0 kB\u001b[0m \u001b[31m3.5 MB/s\u001b[0m eta \u001b[36m0:00:00\u001b[0m\n",
            "\u001b[?25hDownloading stumpy-1.13.0-py3-none-any.whl (176 kB)\n",
            "\u001b[2K   \u001b[90m━━━━━━━━━━━━━━━━━━━━━━━━━━━━━━━━━━━━━━━━\u001b[0m \u001b[32m176.5/176.5 kB\u001b[0m \u001b[31m7.6 MB/s\u001b[0m eta \u001b[36m0:00:00\u001b[0m\n",
            "\u001b[?25hDownloading pywavelets-1.8.0-cp311-cp311-manylinux_2_17_x86_64.manylinux2014_x86_64.whl (4.5 MB)\n",
            "\u001b[2K   \u001b[90m━━━━━━━━━━━━━━━━━━━━━━━━━━━━━━━━━━━━━━━━\u001b[0m \u001b[32m4.5/4.5 MB\u001b[0m \u001b[31m62.3 MB/s\u001b[0m eta \u001b[36m0:00:00\u001b[0m\n",
            "\u001b[?25hInstalling collected packages: pywavelets, stumpy, tsfresh\n",
            "Successfully installed pywavelets-1.8.0 stumpy-1.13.0 tsfresh-0.21.0\n",
            "\u001b[31mERROR: Could not find a version that satisfies the requirement os (from versions: none)\u001b[0m\u001b[31m\n",
            "\u001b[0m\u001b[31mERROR: No matching distribution found for os\u001b[0m\u001b[31m\n",
            "\u001b[0m"
          ]
        }
      ],
      "source": [
        "!pip install h5py\n",
        "!pip install pandas\n",
        "!pip install tsfresh\n"
      ]
    },
    {
      "cell_type": "code",
      "execution_count": null,
      "id": "ced5dd4b",
      "metadata": {
        "id": "ced5dd4b"
      },
      "outputs": [],
      "source": [
        "import h5py\n",
        "import pandas as pd\n",
        "from google.colab import drive\n",
        "from tsfresh import extract_features, select_features\n",
        "from tsfresh.feature_extraction import EfficientFCParameters\n",
        "import multiprocessing\n",
        "import os\n",
        "import re"
      ]
    },
    {
      "cell_type": "code",
      "execution_count": null,
      "id": "9481d445",
      "metadata": {
        "colab": {
          "base_uri": "https://localhost:8080/"
        },
        "id": "9481d445",
        "outputId": "b54fda43-e392-47f5-cc68-9501bcdcab23"
      },
      "outputs": [
        {
          "output_type": "stream",
          "name": "stdout",
          "text": [
            "Keys (datasets disponibles): ['x', 'y']\n",
            "Shape de 'x': (204, 1, 18530)\n",
            "Tipos de datos de 'x':  float64\n",
            "Shape de 'y': (204,)\n",
            "Tipos de datos de 'y':  int64\n"
          ]
        }
      ],
      "source": [
        "\n",
        "with h5py.File(\"sample_data/train.h5\", \"r\") as f:\n",
        "    # Explorar las claves disponibles\n",
        "    print(\"Keys (datasets disponibles):\", list(f.keys()))\n",
        "    # Cargar datos de 'x' y 'y'\n",
        "    x = f['x'][:]\n",
        "    y = f['y'][:]\n",
        "\n",
        "    print(\"Shape de 'x':\", x.shape) # 1 representa el canal por el caul se tomo\n",
        "    print(\"Tipos de datos de 'x': \", x.dtype)\n",
        "    print(\"Shape de 'y':\", y.shape)\n",
        "    print(\"Tipos de datos de 'y': \", y.dtype)\n"
      ]
    },
    {
      "cell_type": "code",
      "execution_count": null,
      "id": "1873fd08",
      "metadata": {
        "colab": {
          "base_uri": "https://localhost:8080/",
          "height": 290
        },
        "id": "1873fd08",
        "outputId": "4fef2752-f4fe-4347-a1ff-4bd99744bedf"
      },
      "outputs": [
        {
          "output_type": "stream",
          "name": "stdout",
          "text": [
            "Shape de 'x': (204, 18530)\n",
            "Shape de 'y': (204,)\n"
          ]
        },
        {
          "output_type": "execute_result",
          "data": {
            "text/plain": [
              "      0         1         2         3         4         5         6      \\\n",
              "0 -0.005859 -0.011414 -0.010773 -0.010559 -0.008850 -0.008636 -0.009094   \n",
              "1  0.002380  0.005127  0.005737  0.007263  0.008575  0.010742  0.012970   \n",
              "2  0.058075  0.122040  0.108307  0.113769  0.105316  0.103912  0.094849   \n",
              "3 -0.007385 -0.011932 -0.004700 -0.003143  0.005493  0.006744  0.012085   \n",
              "4 -0.000458 -0.001099  0.003723  0.002930  0.004059  0.003906  0.003265   \n",
              "\n",
              "      7         8         9      ...     18520     18521     18522     18523  \\\n",
              "0 -0.008850 -0.009369 -0.009888  ...  0.012573  0.007721  0.002075 -0.003174   \n",
              "1  0.017212  0.022003  0.027954  ...  0.003815  0.005707  0.006683  0.006012   \n",
              "2  0.091187  0.080170  0.074432  ... -0.009613 -0.008301 -0.005402 -0.007690   \n",
              "3  0.012909  0.018097  0.021606  ... -0.003082 -0.007050 -0.010956 -0.013916   \n",
              "4  0.002777  0.000488 -0.001221  ...  0.040039  0.040680  0.041901  0.040710   \n",
              "\n",
              "      18524     18525     18526     18527     18528     18529  \n",
              "0 -0.007843 -0.012573 -0.017670 -0.019897 -0.021637 -0.018860  \n",
              "1  0.003601  0.000427 -0.001984 -0.003998 -0.005981 -0.007660  \n",
              "2 -0.006592 -0.007904 -0.009674 -0.013153 -0.014130 -0.018250  \n",
              "3 -0.017944 -0.019867 -0.025604 -0.027161 -0.030273 -0.039368  \n",
              "4  0.038727  0.025818  0.019470  0.010010  0.004242  0.003235  \n",
              "\n",
              "[5 rows x 18530 columns]"
            ],
            "text/html": [
              "\n",
              "  <div id=\"df-b25a29a8-4034-4882-b8e8-5deb1ea87f3a\" class=\"colab-df-container\">\n",
              "    <div>\n",
              "<style scoped>\n",
              "    .dataframe tbody tr th:only-of-type {\n",
              "        vertical-align: middle;\n",
              "    }\n",
              "\n",
              "    .dataframe tbody tr th {\n",
              "        vertical-align: top;\n",
              "    }\n",
              "\n",
              "    .dataframe thead th {\n",
              "        text-align: right;\n",
              "    }\n",
              "</style>\n",
              "<table border=\"1\" class=\"dataframe\">\n",
              "  <thead>\n",
              "    <tr style=\"text-align: right;\">\n",
              "      <th></th>\n",
              "      <th>0</th>\n",
              "      <th>1</th>\n",
              "      <th>2</th>\n",
              "      <th>3</th>\n",
              "      <th>4</th>\n",
              "      <th>5</th>\n",
              "      <th>6</th>\n",
              "      <th>7</th>\n",
              "      <th>8</th>\n",
              "      <th>9</th>\n",
              "      <th>...</th>\n",
              "      <th>18520</th>\n",
              "      <th>18521</th>\n",
              "      <th>18522</th>\n",
              "      <th>18523</th>\n",
              "      <th>18524</th>\n",
              "      <th>18525</th>\n",
              "      <th>18526</th>\n",
              "      <th>18527</th>\n",
              "      <th>18528</th>\n",
              "      <th>18529</th>\n",
              "    </tr>\n",
              "  </thead>\n",
              "  <tbody>\n",
              "    <tr>\n",
              "      <th>0</th>\n",
              "      <td>-0.005859</td>\n",
              "      <td>-0.011414</td>\n",
              "      <td>-0.010773</td>\n",
              "      <td>-0.010559</td>\n",
              "      <td>-0.008850</td>\n",
              "      <td>-0.008636</td>\n",
              "      <td>-0.009094</td>\n",
              "      <td>-0.008850</td>\n",
              "      <td>-0.009369</td>\n",
              "      <td>-0.009888</td>\n",
              "      <td>...</td>\n",
              "      <td>0.012573</td>\n",
              "      <td>0.007721</td>\n",
              "      <td>0.002075</td>\n",
              "      <td>-0.003174</td>\n",
              "      <td>-0.007843</td>\n",
              "      <td>-0.012573</td>\n",
              "      <td>-0.017670</td>\n",
              "      <td>-0.019897</td>\n",
              "      <td>-0.021637</td>\n",
              "      <td>-0.018860</td>\n",
              "    </tr>\n",
              "    <tr>\n",
              "      <th>1</th>\n",
              "      <td>0.002380</td>\n",
              "      <td>0.005127</td>\n",
              "      <td>0.005737</td>\n",
              "      <td>0.007263</td>\n",
              "      <td>0.008575</td>\n",
              "      <td>0.010742</td>\n",
              "      <td>0.012970</td>\n",
              "      <td>0.017212</td>\n",
              "      <td>0.022003</td>\n",
              "      <td>0.027954</td>\n",
              "      <td>...</td>\n",
              "      <td>0.003815</td>\n",
              "      <td>0.005707</td>\n",
              "      <td>0.006683</td>\n",
              "      <td>0.006012</td>\n",
              "      <td>0.003601</td>\n",
              "      <td>0.000427</td>\n",
              "      <td>-0.001984</td>\n",
              "      <td>-0.003998</td>\n",
              "      <td>-0.005981</td>\n",
              "      <td>-0.007660</td>\n",
              "    </tr>\n",
              "    <tr>\n",
              "      <th>2</th>\n",
              "      <td>0.058075</td>\n",
              "      <td>0.122040</td>\n",
              "      <td>0.108307</td>\n",
              "      <td>0.113769</td>\n",
              "      <td>0.105316</td>\n",
              "      <td>0.103912</td>\n",
              "      <td>0.094849</td>\n",
              "      <td>0.091187</td>\n",
              "      <td>0.080170</td>\n",
              "      <td>0.074432</td>\n",
              "      <td>...</td>\n",
              "      <td>-0.009613</td>\n",
              "      <td>-0.008301</td>\n",
              "      <td>-0.005402</td>\n",
              "      <td>-0.007690</td>\n",
              "      <td>-0.006592</td>\n",
              "      <td>-0.007904</td>\n",
              "      <td>-0.009674</td>\n",
              "      <td>-0.013153</td>\n",
              "      <td>-0.014130</td>\n",
              "      <td>-0.018250</td>\n",
              "    </tr>\n",
              "    <tr>\n",
              "      <th>3</th>\n",
              "      <td>-0.007385</td>\n",
              "      <td>-0.011932</td>\n",
              "      <td>-0.004700</td>\n",
              "      <td>-0.003143</td>\n",
              "      <td>0.005493</td>\n",
              "      <td>0.006744</td>\n",
              "      <td>0.012085</td>\n",
              "      <td>0.012909</td>\n",
              "      <td>0.018097</td>\n",
              "      <td>0.021606</td>\n",
              "      <td>...</td>\n",
              "      <td>-0.003082</td>\n",
              "      <td>-0.007050</td>\n",
              "      <td>-0.010956</td>\n",
              "      <td>-0.013916</td>\n",
              "      <td>-0.017944</td>\n",
              "      <td>-0.019867</td>\n",
              "      <td>-0.025604</td>\n",
              "      <td>-0.027161</td>\n",
              "      <td>-0.030273</td>\n",
              "      <td>-0.039368</td>\n",
              "    </tr>\n",
              "    <tr>\n",
              "      <th>4</th>\n",
              "      <td>-0.000458</td>\n",
              "      <td>-0.001099</td>\n",
              "      <td>0.003723</td>\n",
              "      <td>0.002930</td>\n",
              "      <td>0.004059</td>\n",
              "      <td>0.003906</td>\n",
              "      <td>0.003265</td>\n",
              "      <td>0.002777</td>\n",
              "      <td>0.000488</td>\n",
              "      <td>-0.001221</td>\n",
              "      <td>...</td>\n",
              "      <td>0.040039</td>\n",
              "      <td>0.040680</td>\n",
              "      <td>0.041901</td>\n",
              "      <td>0.040710</td>\n",
              "      <td>0.038727</td>\n",
              "      <td>0.025818</td>\n",
              "      <td>0.019470</td>\n",
              "      <td>0.010010</td>\n",
              "      <td>0.004242</td>\n",
              "      <td>0.003235</td>\n",
              "    </tr>\n",
              "  </tbody>\n",
              "</table>\n",
              "<p>5 rows × 18530 columns</p>\n",
              "</div>\n",
              "    <div class=\"colab-df-buttons\">\n",
              "\n",
              "  <div class=\"colab-df-container\">\n",
              "    <button class=\"colab-df-convert\" onclick=\"convertToInteractive('df-b25a29a8-4034-4882-b8e8-5deb1ea87f3a')\"\n",
              "            title=\"Convert this dataframe to an interactive table.\"\n",
              "            style=\"display:none;\">\n",
              "\n",
              "  <svg xmlns=\"http://www.w3.org/2000/svg\" height=\"24px\" viewBox=\"0 -960 960 960\">\n",
              "    <path d=\"M120-120v-720h720v720H120Zm60-500h600v-160H180v160Zm220 220h160v-160H400v160Zm0 220h160v-160H400v160ZM180-400h160v-160H180v160Zm440 0h160v-160H620v160ZM180-180h160v-160H180v160Zm440 0h160v-160H620v160Z\"/>\n",
              "  </svg>\n",
              "    </button>\n",
              "\n",
              "  <style>\n",
              "    .colab-df-container {\n",
              "      display:flex;\n",
              "      gap: 12px;\n",
              "    }\n",
              "\n",
              "    .colab-df-convert {\n",
              "      background-color: #E8F0FE;\n",
              "      border: none;\n",
              "      border-radius: 50%;\n",
              "      cursor: pointer;\n",
              "      display: none;\n",
              "      fill: #1967D2;\n",
              "      height: 32px;\n",
              "      padding: 0 0 0 0;\n",
              "      width: 32px;\n",
              "    }\n",
              "\n",
              "    .colab-df-convert:hover {\n",
              "      background-color: #E2EBFA;\n",
              "      box-shadow: 0px 1px 2px rgba(60, 64, 67, 0.3), 0px 1px 3px 1px rgba(60, 64, 67, 0.15);\n",
              "      fill: #174EA6;\n",
              "    }\n",
              "\n",
              "    .colab-df-buttons div {\n",
              "      margin-bottom: 4px;\n",
              "    }\n",
              "\n",
              "    [theme=dark] .colab-df-convert {\n",
              "      background-color: #3B4455;\n",
              "      fill: #D2E3FC;\n",
              "    }\n",
              "\n",
              "    [theme=dark] .colab-df-convert:hover {\n",
              "      background-color: #434B5C;\n",
              "      box-shadow: 0px 1px 3px 1px rgba(0, 0, 0, 0.15);\n",
              "      filter: drop-shadow(0px 1px 2px rgba(0, 0, 0, 0.3));\n",
              "      fill: #FFFFFF;\n",
              "    }\n",
              "  </style>\n",
              "\n",
              "    <script>\n",
              "      const buttonEl =\n",
              "        document.querySelector('#df-b25a29a8-4034-4882-b8e8-5deb1ea87f3a button.colab-df-convert');\n",
              "      buttonEl.style.display =\n",
              "        google.colab.kernel.accessAllowed ? 'block' : 'none';\n",
              "\n",
              "      async function convertToInteractive(key) {\n",
              "        const element = document.querySelector('#df-b25a29a8-4034-4882-b8e8-5deb1ea87f3a');\n",
              "        const dataTable =\n",
              "          await google.colab.kernel.invokeFunction('convertToInteractive',\n",
              "                                                    [key], {});\n",
              "        if (!dataTable) return;\n",
              "\n",
              "        const docLinkHtml = 'Like what you see? Visit the ' +\n",
              "          '<a target=\"_blank\" href=https://colab.research.google.com/notebooks/data_table.ipynb>data table notebook</a>'\n",
              "          + ' to learn more about interactive tables.';\n",
              "        element.innerHTML = '';\n",
              "        dataTable['output_type'] = 'display_data';\n",
              "        await google.colab.output.renderOutput(dataTable, element);\n",
              "        const docLink = document.createElement('div');\n",
              "        docLink.innerHTML = docLinkHtml;\n",
              "        element.appendChild(docLink);\n",
              "      }\n",
              "    </script>\n",
              "  </div>\n",
              "\n",
              "\n",
              "    <div id=\"df-ac1690b6-fba5-48c9-8c68-22dcc1ce5963\">\n",
              "      <button class=\"colab-df-quickchart\" onclick=\"quickchart('df-ac1690b6-fba5-48c9-8c68-22dcc1ce5963')\"\n",
              "                title=\"Suggest charts\"\n",
              "                style=\"display:none;\">\n",
              "\n",
              "<svg xmlns=\"http://www.w3.org/2000/svg\" height=\"24px\"viewBox=\"0 0 24 24\"\n",
              "     width=\"24px\">\n",
              "    <g>\n",
              "        <path d=\"M19 3H5c-1.1 0-2 .9-2 2v14c0 1.1.9 2 2 2h14c1.1 0 2-.9 2-2V5c0-1.1-.9-2-2-2zM9 17H7v-7h2v7zm4 0h-2V7h2v10zm4 0h-2v-4h2v4z\"/>\n",
              "    </g>\n",
              "</svg>\n",
              "      </button>\n",
              "\n",
              "<style>\n",
              "  .colab-df-quickchart {\n",
              "      --bg-color: #E8F0FE;\n",
              "      --fill-color: #1967D2;\n",
              "      --hover-bg-color: #E2EBFA;\n",
              "      --hover-fill-color: #174EA6;\n",
              "      --disabled-fill-color: #AAA;\n",
              "      --disabled-bg-color: #DDD;\n",
              "  }\n",
              "\n",
              "  [theme=dark] .colab-df-quickchart {\n",
              "      --bg-color: #3B4455;\n",
              "      --fill-color: #D2E3FC;\n",
              "      --hover-bg-color: #434B5C;\n",
              "      --hover-fill-color: #FFFFFF;\n",
              "      --disabled-bg-color: #3B4455;\n",
              "      --disabled-fill-color: #666;\n",
              "  }\n",
              "\n",
              "  .colab-df-quickchart {\n",
              "    background-color: var(--bg-color);\n",
              "    border: none;\n",
              "    border-radius: 50%;\n",
              "    cursor: pointer;\n",
              "    display: none;\n",
              "    fill: var(--fill-color);\n",
              "    height: 32px;\n",
              "    padding: 0;\n",
              "    width: 32px;\n",
              "  }\n",
              "\n",
              "  .colab-df-quickchart:hover {\n",
              "    background-color: var(--hover-bg-color);\n",
              "    box-shadow: 0 1px 2px rgba(60, 64, 67, 0.3), 0 1px 3px 1px rgba(60, 64, 67, 0.15);\n",
              "    fill: var(--button-hover-fill-color);\n",
              "  }\n",
              "\n",
              "  .colab-df-quickchart-complete:disabled,\n",
              "  .colab-df-quickchart-complete:disabled:hover {\n",
              "    background-color: var(--disabled-bg-color);\n",
              "    fill: var(--disabled-fill-color);\n",
              "    box-shadow: none;\n",
              "  }\n",
              "\n",
              "  .colab-df-spinner {\n",
              "    border: 2px solid var(--fill-color);\n",
              "    border-color: transparent;\n",
              "    border-bottom-color: var(--fill-color);\n",
              "    animation:\n",
              "      spin 1s steps(1) infinite;\n",
              "  }\n",
              "\n",
              "  @keyframes spin {\n",
              "    0% {\n",
              "      border-color: transparent;\n",
              "      border-bottom-color: var(--fill-color);\n",
              "      border-left-color: var(--fill-color);\n",
              "    }\n",
              "    20% {\n",
              "      border-color: transparent;\n",
              "      border-left-color: var(--fill-color);\n",
              "      border-top-color: var(--fill-color);\n",
              "    }\n",
              "    30% {\n",
              "      border-color: transparent;\n",
              "      border-left-color: var(--fill-color);\n",
              "      border-top-color: var(--fill-color);\n",
              "      border-right-color: var(--fill-color);\n",
              "    }\n",
              "    40% {\n",
              "      border-color: transparent;\n",
              "      border-right-color: var(--fill-color);\n",
              "      border-top-color: var(--fill-color);\n",
              "    }\n",
              "    60% {\n",
              "      border-color: transparent;\n",
              "      border-right-color: var(--fill-color);\n",
              "    }\n",
              "    80% {\n",
              "      border-color: transparent;\n",
              "      border-right-color: var(--fill-color);\n",
              "      border-bottom-color: var(--fill-color);\n",
              "    }\n",
              "    90% {\n",
              "      border-color: transparent;\n",
              "      border-bottom-color: var(--fill-color);\n",
              "    }\n",
              "  }\n",
              "</style>\n",
              "\n",
              "      <script>\n",
              "        async function quickchart(key) {\n",
              "          const quickchartButtonEl =\n",
              "            document.querySelector('#' + key + ' button');\n",
              "          quickchartButtonEl.disabled = true;  // To prevent multiple clicks.\n",
              "          quickchartButtonEl.classList.add('colab-df-spinner');\n",
              "          try {\n",
              "            const charts = await google.colab.kernel.invokeFunction(\n",
              "                'suggestCharts', [key], {});\n",
              "          } catch (error) {\n",
              "            console.error('Error during call to suggestCharts:', error);\n",
              "          }\n",
              "          quickchartButtonEl.classList.remove('colab-df-spinner');\n",
              "          quickchartButtonEl.classList.add('colab-df-quickchart-complete');\n",
              "        }\n",
              "        (() => {\n",
              "          let quickchartButtonEl =\n",
              "            document.querySelector('#df-ac1690b6-fba5-48c9-8c68-22dcc1ce5963 button');\n",
              "          quickchartButtonEl.style.display =\n",
              "            google.colab.kernel.accessAllowed ? 'block' : 'none';\n",
              "        })();\n",
              "      </script>\n",
              "    </div>\n",
              "\n",
              "    </div>\n",
              "  </div>\n"
            ],
            "application/vnd.google.colaboratory.intrinsic+json": {
              "type": "dataframe",
              "variable_name": "x_df"
            }
          },
          "metadata": {},
          "execution_count": 33
        }
      ],
      "source": [
        "with h5py.File(\"sample_data/train.h5\", \"r\") as f_pd:\n",
        "    x_data = f_pd['x'][:]\n",
        "    y_data = f_pd['y'][:]\n",
        "x_df = pd.DataFrame(x_data[:,0,:])\n",
        "y_df = pd.Series(y_data)\n",
        "\n",
        "print(\"Shape de 'x':\", x_df.shape)\n",
        "print(\"Shape de 'y':\", y_df.shape)\n",
        "\n",
        "# Ver las primeras filas del DataFrame\n",
        "x_df.head()\n"
      ]
    },
    {
      "cell_type": "code",
      "execution_count": null,
      "id": "85fd52c3",
      "metadata": {
        "colab": {
          "base_uri": "https://localhost:8080/",
          "height": 241
        },
        "id": "85fd52c3",
        "outputId": "cc291c86-ddd8-4fdf-8cec-b9311f63f296"
      },
      "outputs": [
        {
          "data": {
            "text/html": [
              "<div>\n",
              "<style scoped>\n",
              "    .dataframe tbody tr th:only-of-type {\n",
              "        vertical-align: middle;\n",
              "    }\n",
              "\n",
              "    .dataframe tbody tr th {\n",
              "        vertical-align: top;\n",
              "    }\n",
              "\n",
              "    .dataframe thead th {\n",
              "        text-align: right;\n",
              "    }\n",
              "</style>\n",
              "<table border=\"1\" class=\"dataframe\">\n",
              "  <thead>\n",
              "    <tr style=\"text-align: right;\">\n",
              "      <th></th>\n",
              "      <th>0</th>\n",
              "    </tr>\n",
              "  </thead>\n",
              "  <tbody>\n",
              "    <tr>\n",
              "      <th>0</th>\n",
              "      <td>0</td>\n",
              "    </tr>\n",
              "    <tr>\n",
              "      <th>1</th>\n",
              "      <td>1</td>\n",
              "    </tr>\n",
              "    <tr>\n",
              "      <th>2</th>\n",
              "      <td>0</td>\n",
              "    </tr>\n",
              "    <tr>\n",
              "      <th>3</th>\n",
              "      <td>0</td>\n",
              "    </tr>\n",
              "    <tr>\n",
              "      <th>4</th>\n",
              "      <td>0</td>\n",
              "    </tr>\n",
              "  </tbody>\n",
              "</table>\n",
              "</div><br><label><b>dtype:</b> int64</label>"
            ],
            "text/plain": [
              "0    0\n",
              "1    1\n",
              "2    0\n",
              "3    0\n",
              "4    0\n",
              "dtype: int64"
            ]
          },
          "execution_count": 11,
          "metadata": {},
          "output_type": "execute_result"
        }
      ],
      "source": [
        "y_df.head()"
      ]
    },
    {
      "cell_type": "code",
      "execution_count": null,
      "id": "5657b27c",
      "metadata": {
        "id": "5657b27c"
      },
      "outputs": [],
      "source": [
        "# Parseamos el dataset para poder usar la libreía de las series temporales\n",
        "def parsear_time_series(dataset):\n",
        "    parsed = []\n",
        "    for id, series in enumerate(dataset.values):\n",
        "        # Aplanar la serie (la serie tiene forma (1, N), la aplanamos)\n",
        "        series = series.flatten()\n",
        "\n",
        "        # Crear el DataFrame para cada serie temporal\n",
        "        df = pd.DataFrame({\n",
        "            'id': id,  # Identificador de la serie\n",
        "            'time': range(len(series)),  # Tiempo\n",
        "            'valor': series  # Los valores de la serie temporal\n",
        "        })\n",
        "        parsed.append(df)\n",
        "\n",
        "    # Concatenamos todos los DataFrames en uno solo\n",
        "    result = pd.concat(parsed, ignore_index=True)\n",
        "\n",
        "    return result\n",
        "\n"
      ]
    },
    {
      "cell_type": "code",
      "execution_count": null,
      "id": "ae4fef09",
      "metadata": {
        "colab": {
          "base_uri": "https://localhost:8080/",
          "height": 224
        },
        "id": "ae4fef09",
        "outputId": "d5939991-439e-4557-fdc4-dfb7b799dd92"
      },
      "outputs": [
        {
          "name": "stdout",
          "output_type": "stream",
          "text": [
            "EL shape de df_rady para la extracción es:  (3780120, 3)\n"
          ]
        },
        {
          "data": {
            "application/vnd.google.colaboratory.intrinsic+json": {
              "type": "dataframe",
              "variable_name": "df_ready"
            },
            "text/html": [
              "\n",
              "  <div id=\"df-f9dd5f92-a97f-4ed5-86fb-b3e54b32222c\" class=\"colab-df-container\">\n",
              "    <div>\n",
              "<style scoped>\n",
              "    .dataframe tbody tr th:only-of-type {\n",
              "        vertical-align: middle;\n",
              "    }\n",
              "\n",
              "    .dataframe tbody tr th {\n",
              "        vertical-align: top;\n",
              "    }\n",
              "\n",
              "    .dataframe thead th {\n",
              "        text-align: right;\n",
              "    }\n",
              "</style>\n",
              "<table border=\"1\" class=\"dataframe\">\n",
              "  <thead>\n",
              "    <tr style=\"text-align: right;\">\n",
              "      <th></th>\n",
              "      <th>id</th>\n",
              "      <th>time</th>\n",
              "      <th>valor</th>\n",
              "    </tr>\n",
              "  </thead>\n",
              "  <tbody>\n",
              "    <tr>\n",
              "      <th>0</th>\n",
              "      <td>0</td>\n",
              "      <td>0</td>\n",
              "      <td>-0.005859</td>\n",
              "    </tr>\n",
              "    <tr>\n",
              "      <th>1</th>\n",
              "      <td>0</td>\n",
              "      <td>1</td>\n",
              "      <td>-0.011414</td>\n",
              "    </tr>\n",
              "    <tr>\n",
              "      <th>2</th>\n",
              "      <td>0</td>\n",
              "      <td>2</td>\n",
              "      <td>-0.010773</td>\n",
              "    </tr>\n",
              "    <tr>\n",
              "      <th>3</th>\n",
              "      <td>0</td>\n",
              "      <td>3</td>\n",
              "      <td>-0.010559</td>\n",
              "    </tr>\n",
              "    <tr>\n",
              "      <th>4</th>\n",
              "      <td>0</td>\n",
              "      <td>4</td>\n",
              "      <td>-0.008850</td>\n",
              "    </tr>\n",
              "  </tbody>\n",
              "</table>\n",
              "</div>\n",
              "    <div class=\"colab-df-buttons\">\n",
              "\n",
              "  <div class=\"colab-df-container\">\n",
              "    <button class=\"colab-df-convert\" onclick=\"convertToInteractive('df-f9dd5f92-a97f-4ed5-86fb-b3e54b32222c')\"\n",
              "            title=\"Convert this dataframe to an interactive table.\"\n",
              "            style=\"display:none;\">\n",
              "\n",
              "  <svg xmlns=\"http://www.w3.org/2000/svg\" height=\"24px\" viewBox=\"0 -960 960 960\">\n",
              "    <path d=\"M120-120v-720h720v720H120Zm60-500h600v-160H180v160Zm220 220h160v-160H400v160Zm0 220h160v-160H400v160ZM180-400h160v-160H180v160Zm440 0h160v-160H620v160ZM180-180h160v-160H180v160Zm440 0h160v-160H620v160Z\"/>\n",
              "  </svg>\n",
              "    </button>\n",
              "\n",
              "  <style>\n",
              "    .colab-df-container {\n",
              "      display:flex;\n",
              "      gap: 12px;\n",
              "    }\n",
              "\n",
              "    .colab-df-convert {\n",
              "      background-color: #E8F0FE;\n",
              "      border: none;\n",
              "      border-radius: 50%;\n",
              "      cursor: pointer;\n",
              "      display: none;\n",
              "      fill: #1967D2;\n",
              "      height: 32px;\n",
              "      padding: 0 0 0 0;\n",
              "      width: 32px;\n",
              "    }\n",
              "\n",
              "    .colab-df-convert:hover {\n",
              "      background-color: #E2EBFA;\n",
              "      box-shadow: 0px 1px 2px rgba(60, 64, 67, 0.3), 0px 1px 3px 1px rgba(60, 64, 67, 0.15);\n",
              "      fill: #174EA6;\n",
              "    }\n",
              "\n",
              "    .colab-df-buttons div {\n",
              "      margin-bottom: 4px;\n",
              "    }\n",
              "\n",
              "    [theme=dark] .colab-df-convert {\n",
              "      background-color: #3B4455;\n",
              "      fill: #D2E3FC;\n",
              "    }\n",
              "\n",
              "    [theme=dark] .colab-df-convert:hover {\n",
              "      background-color: #434B5C;\n",
              "      box-shadow: 0px 1px 3px 1px rgba(0, 0, 0, 0.15);\n",
              "      filter: drop-shadow(0px 1px 2px rgba(0, 0, 0, 0.3));\n",
              "      fill: #FFFFFF;\n",
              "    }\n",
              "  </style>\n",
              "\n",
              "    <script>\n",
              "      const buttonEl =\n",
              "        document.querySelector('#df-f9dd5f92-a97f-4ed5-86fb-b3e54b32222c button.colab-df-convert');\n",
              "      buttonEl.style.display =\n",
              "        google.colab.kernel.accessAllowed ? 'block' : 'none';\n",
              "\n",
              "      async function convertToInteractive(key) {\n",
              "        const element = document.querySelector('#df-f9dd5f92-a97f-4ed5-86fb-b3e54b32222c');\n",
              "        const dataTable =\n",
              "          await google.colab.kernel.invokeFunction('convertToInteractive',\n",
              "                                                    [key], {});\n",
              "        if (!dataTable) return;\n",
              "\n",
              "        const docLinkHtml = 'Like what you see? Visit the ' +\n",
              "          '<a target=\"_blank\" href=https://colab.research.google.com/notebooks/data_table.ipynb>data table notebook</a>'\n",
              "          + ' to learn more about interactive tables.';\n",
              "        element.innerHTML = '';\n",
              "        dataTable['output_type'] = 'display_data';\n",
              "        await google.colab.output.renderOutput(dataTable, element);\n",
              "        const docLink = document.createElement('div');\n",
              "        docLink.innerHTML = docLinkHtml;\n",
              "        element.appendChild(docLink);\n",
              "      }\n",
              "    </script>\n",
              "  </div>\n",
              "\n",
              "\n",
              "    <div id=\"df-d5c58828-cc86-421a-bf9d-f557c0d23b11\">\n",
              "      <button class=\"colab-df-quickchart\" onclick=\"quickchart('df-d5c58828-cc86-421a-bf9d-f557c0d23b11')\"\n",
              "                title=\"Suggest charts\"\n",
              "                style=\"display:none;\">\n",
              "\n",
              "<svg xmlns=\"http://www.w3.org/2000/svg\" height=\"24px\"viewBox=\"0 0 24 24\"\n",
              "     width=\"24px\">\n",
              "    <g>\n",
              "        <path d=\"M19 3H5c-1.1 0-2 .9-2 2v14c0 1.1.9 2 2 2h14c1.1 0 2-.9 2-2V5c0-1.1-.9-2-2-2zM9 17H7v-7h2v7zm4 0h-2V7h2v10zm4 0h-2v-4h2v4z\"/>\n",
              "    </g>\n",
              "</svg>\n",
              "      </button>\n",
              "\n",
              "<style>\n",
              "  .colab-df-quickchart {\n",
              "      --bg-color: #E8F0FE;\n",
              "      --fill-color: #1967D2;\n",
              "      --hover-bg-color: #E2EBFA;\n",
              "      --hover-fill-color: #174EA6;\n",
              "      --disabled-fill-color: #AAA;\n",
              "      --disabled-bg-color: #DDD;\n",
              "  }\n",
              "\n",
              "  [theme=dark] .colab-df-quickchart {\n",
              "      --bg-color: #3B4455;\n",
              "      --fill-color: #D2E3FC;\n",
              "      --hover-bg-color: #434B5C;\n",
              "      --hover-fill-color: #FFFFFF;\n",
              "      --disabled-bg-color: #3B4455;\n",
              "      --disabled-fill-color: #666;\n",
              "  }\n",
              "\n",
              "  .colab-df-quickchart {\n",
              "    background-color: var(--bg-color);\n",
              "    border: none;\n",
              "    border-radius: 50%;\n",
              "    cursor: pointer;\n",
              "    display: none;\n",
              "    fill: var(--fill-color);\n",
              "    height: 32px;\n",
              "    padding: 0;\n",
              "    width: 32px;\n",
              "  }\n",
              "\n",
              "  .colab-df-quickchart:hover {\n",
              "    background-color: var(--hover-bg-color);\n",
              "    box-shadow: 0 1px 2px rgba(60, 64, 67, 0.3), 0 1px 3px 1px rgba(60, 64, 67, 0.15);\n",
              "    fill: var(--button-hover-fill-color);\n",
              "  }\n",
              "\n",
              "  .colab-df-quickchart-complete:disabled,\n",
              "  .colab-df-quickchart-complete:disabled:hover {\n",
              "    background-color: var(--disabled-bg-color);\n",
              "    fill: var(--disabled-fill-color);\n",
              "    box-shadow: none;\n",
              "  }\n",
              "\n",
              "  .colab-df-spinner {\n",
              "    border: 2px solid var(--fill-color);\n",
              "    border-color: transparent;\n",
              "    border-bottom-color: var(--fill-color);\n",
              "    animation:\n",
              "      spin 1s steps(1) infinite;\n",
              "  }\n",
              "\n",
              "  @keyframes spin {\n",
              "    0% {\n",
              "      border-color: transparent;\n",
              "      border-bottom-color: var(--fill-color);\n",
              "      border-left-color: var(--fill-color);\n",
              "    }\n",
              "    20% {\n",
              "      border-color: transparent;\n",
              "      border-left-color: var(--fill-color);\n",
              "      border-top-color: var(--fill-color);\n",
              "    }\n",
              "    30% {\n",
              "      border-color: transparent;\n",
              "      border-left-color: var(--fill-color);\n",
              "      border-top-color: var(--fill-color);\n",
              "      border-right-color: var(--fill-color);\n",
              "    }\n",
              "    40% {\n",
              "      border-color: transparent;\n",
              "      border-right-color: var(--fill-color);\n",
              "      border-top-color: var(--fill-color);\n",
              "    }\n",
              "    60% {\n",
              "      border-color: transparent;\n",
              "      border-right-color: var(--fill-color);\n",
              "    }\n",
              "    80% {\n",
              "      border-color: transparent;\n",
              "      border-right-color: var(--fill-color);\n",
              "      border-bottom-color: var(--fill-color);\n",
              "    }\n",
              "    90% {\n",
              "      border-color: transparent;\n",
              "      border-bottom-color: var(--fill-color);\n",
              "    }\n",
              "  }\n",
              "</style>\n",
              "\n",
              "      <script>\n",
              "        async function quickchart(key) {\n",
              "          const quickchartButtonEl =\n",
              "            document.querySelector('#' + key + ' button');\n",
              "          quickchartButtonEl.disabled = true;  // To prevent multiple clicks.\n",
              "          quickchartButtonEl.classList.add('colab-df-spinner');\n",
              "          try {\n",
              "            const charts = await google.colab.kernel.invokeFunction(\n",
              "                'suggestCharts', [key], {});\n",
              "          } catch (error) {\n",
              "            console.error('Error during call to suggestCharts:', error);\n",
              "          }\n",
              "          quickchartButtonEl.classList.remove('colab-df-spinner');\n",
              "          quickchartButtonEl.classList.add('colab-df-quickchart-complete');\n",
              "        }\n",
              "        (() => {\n",
              "          let quickchartButtonEl =\n",
              "            document.querySelector('#df-d5c58828-cc86-421a-bf9d-f557c0d23b11 button');\n",
              "          quickchartButtonEl.style.display =\n",
              "            google.colab.kernel.accessAllowed ? 'block' : 'none';\n",
              "        })();\n",
              "      </script>\n",
              "    </div>\n",
              "\n",
              "    </div>\n",
              "  </div>\n"
            ],
            "text/plain": [
              "   id  time     valor\n",
              "0   0     0 -0.005859\n",
              "1   0     1 -0.011414\n",
              "2   0     2 -0.010773\n",
              "3   0     3 -0.010559\n",
              "4   0     4 -0.008850"
            ]
          },
          "execution_count": 24,
          "metadata": {},
          "output_type": "execute_result"
        }
      ],
      "source": [
        "df_ready = parsear_time_series(x_df)\n",
        "\n",
        "print(\"EL shape de df_rady para la extracción es: \", df_ready.shape)\n",
        "df_ready.head()\n"
      ]
    },
    {
      "cell_type": "code",
      "execution_count": null,
      "id": "aAkWXN309KjR",
      "metadata": {
        "colab": {
          "base_uri": "https://localhost:8080/"
        },
        "id": "aAkWXN309KjR",
        "outputId": "7ae87171-3ae3-465f-873a-b49539fc6743"
      },
      "outputs": [
        {
          "output_type": "stream",
          "name": "stdout",
          "text": [
            "Número de CPUs disponibles: 2\n"
          ]
        }
      ],
      "source": [
        "import multiprocessing\n",
        "print(\"Número de CPUs disponibles:\", multiprocessing.cpu_count())\n",
        "\n",
        "\n",
        "\n"
      ]
    },
    {
      "cell_type": "code",
      "execution_count": null,
      "id": "bD-nGTbuJO7l",
      "metadata": {
        "id": "bD-nGTbuJO7l",
        "colab": {
          "base_uri": "https://localhost:8080/"
        },
        "outputId": "a56ab096-6c84-41b7-8eeb-27c37b10c378"
      },
      "outputs": [
        {
          "metadata": {
            "tags": null
          },
          "name": "stderr",
          "output_type": "stream",
          "text": [
            "WARNING:tsfresh.feature_extraction.settings:Dependency not available for matrix_profile, this feature will be disabled!\n"
          ]
        },
        {
          "metadata": {
            "tags": null
          },
          "name": "stdout",
          "output_type": "stream",
          "text": [
            "Drive already mounted at /content/drive; to attempt to forcibly remount, call drive.mount(\"/content/drive\", force_remount=True).\n",
            "Procesando ID: 0...\n"
          ]
        },
        {
          "metadata": {
            "tags": null
          },
          "name": "stderr",
          "output_type": "stream",
          "text": [
            "Feature Extraction: 100%|██████████| 1/1 [00:26<00:00, 26.64s/it]\n",
            "WARNING:tsfresh.feature_extraction.settings:Dependency not available for matrix_profile, this feature will be disabled!\n"
          ]
        },
        {
          "metadata": {
            "tags": null
          },
          "name": "stdout",
          "output_type": "stream",
          "text": [
            "EL tamaño de feature id es:  (1, 777)\n",
            "✅ Características de ID=0 guardadas en: /content/drive/MyDrive/features_blocks/features_id_0.pkl\n",
            "Procesando ID: 1...\n"
          ]
        },
        {
          "metadata": {
            "tags": null
          },
          "name": "stderr",
          "output_type": "stream",
          "text": [
            "Feature Extraction: 100%|██████████| 1/1 [00:28<00:00, 28.35s/it]\n",
            "WARNING:tsfresh.feature_extraction.settings:Dependency not available for matrix_profile, this feature will be disabled!\n"
          ]
        },
        {
          "metadata": {
            "tags": null
          },
          "name": "stdout",
          "output_type": "stream",
          "text": [
            "EL tamaño de feature id es:  (1, 777)\n",
            "✅ Características de ID=1 guardadas en: /content/drive/MyDrive/features_blocks/features_id_1.pkl\n",
            "Procesando ID: 2...\n"
          ]
        },
        {
          "metadata": {
            "tags": null
          },
          "name": "stderr",
          "output_type": "stream",
          "text": [
            "Feature Extraction: 100%|██████████| 1/1 [00:27<00:00, 27.80s/it]\n",
            "WARNING:tsfresh.feature_extraction.settings:Dependency not available for matrix_profile, this feature will be disabled!\n"
          ]
        },
        {
          "metadata": {
            "tags": null
          },
          "name": "stdout",
          "output_type": "stream",
          "text": [
            "EL tamaño de feature id es:  (1, 777)\n",
            "✅ Características de ID=2 guardadas en: /content/drive/MyDrive/features_blocks/features_id_2.pkl\n",
            "Procesando ID: 3...\n"
          ]
        },
        {
          "metadata": {
            "tags": null
          },
          "name": "stderr",
          "output_type": "stream",
          "text": [
            "Feature Extraction: 100%|██████████| 1/1 [00:30<00:00, 30.70s/it]\n",
            "WARNING:tsfresh.feature_extraction.settings:Dependency not available for matrix_profile, this feature will be disabled!\n"
          ]
        },
        {
          "metadata": {
            "tags": null
          },
          "name": "stdout",
          "output_type": "stream",
          "text": [
            "EL tamaño de feature id es:  (1, 777)\n",
            "✅ Características de ID=3 guardadas en: /content/drive/MyDrive/features_blocks/features_id_3.pkl\n",
            "Procesando ID: 4...\n"
          ]
        },
        {
          "metadata": {
            "tags": null
          },
          "name": "stderr",
          "output_type": "stream",
          "text": [
            "Feature Extraction: 100%|██████████| 1/1 [00:29<00:00, 29.17s/it]\n",
            "WARNING:tsfresh.feature_extraction.settings:Dependency not available for matrix_profile, this feature will be disabled!\n"
          ]
        },
        {
          "metadata": {
            "tags": null
          },
          "name": "stdout",
          "output_type": "stream",
          "text": [
            "EL tamaño de feature id es:  (1, 777)\n",
            "✅ Características de ID=4 guardadas en: /content/drive/MyDrive/features_blocks/features_id_4.pkl\n",
            "Procesando ID: 5...\n"
          ]
        },
        {
          "metadata": {
            "tags": null
          },
          "name": "stderr",
          "output_type": "stream",
          "text": [
            "Feature Extraction: 100%|██████████| 1/1 [00:29<00:00, 29.73s/it]\n",
            "WARNING:tsfresh.feature_extraction.settings:Dependency not available for matrix_profile, this feature will be disabled!\n"
          ]
        },
        {
          "metadata": {
            "tags": null
          },
          "name": "stdout",
          "output_type": "stream",
          "text": [
            "EL tamaño de feature id es:  (1, 777)\n",
            "✅ Características de ID=5 guardadas en: /content/drive/MyDrive/features_blocks/features_id_5.pkl\n",
            "Procesando ID: 6...\n"
          ]
        },
        {
          "metadata": {
            "tags": null
          },
          "name": "stderr",
          "output_type": "stream",
          "text": [
            "Feature Extraction: 100%|██████████| 1/1 [00:31<00:00, 31.74s/it]\n",
            "WARNING:tsfresh.feature_extraction.settings:Dependency not available for matrix_profile, this feature will be disabled!\n"
          ]
        },
        {
          "metadata": {
            "tags": null
          },
          "name": "stdout",
          "output_type": "stream",
          "text": [
            "EL tamaño de feature id es:  (1, 777)\n",
            "✅ Características de ID=6 guardadas en: /content/drive/MyDrive/features_blocks/features_id_6.pkl\n",
            "Procesando ID: 7...\n"
          ]
        },
        {
          "metadata": {
            "tags": null
          },
          "name": "stderr",
          "output_type": "stream",
          "text": [
            "Feature Extraction: 100%|██████████| 1/1 [00:28<00:00, 28.24s/it]\n",
            "WARNING:tsfresh.feature_extraction.settings:Dependency not available for matrix_profile, this feature will be disabled!\n"
          ]
        },
        {
          "metadata": {
            "tags": null
          },
          "name": "stdout",
          "output_type": "stream",
          "text": [
            "EL tamaño de feature id es:  (1, 777)\n",
            "✅ Características de ID=7 guardadas en: /content/drive/MyDrive/features_blocks/features_id_7.pkl\n",
            "Procesando ID: 8...\n"
          ]
        },
        {
          "metadata": {
            "tags": null
          },
          "name": "stderr",
          "output_type": "stream",
          "text": [
            "Feature Extraction: 100%|██████████| 1/1 [00:22<00:00, 22.87s/it]\n",
            "WARNING:tsfresh.feature_extraction.settings:Dependency not available for matrix_profile, this feature will be disabled!\n"
          ]
        },
        {
          "metadata": {
            "tags": null
          },
          "name": "stdout",
          "output_type": "stream",
          "text": [
            "EL tamaño de feature id es:  (1, 777)\n",
            "✅ Características de ID=8 guardadas en: /content/drive/MyDrive/features_blocks/features_id_8.pkl\n",
            "Procesando ID: 9...\n"
          ]
        },
        {
          "metadata": {
            "tags": null
          },
          "name": "stderr",
          "output_type": "stream",
          "text": [
            "Feature Extraction: 100%|██████████| 1/1 [00:34<00:00, 34.10s/it]\n",
            "WARNING:tsfresh.feature_extraction.settings:Dependency not available for matrix_profile, this feature will be disabled!\n"
          ]
        },
        {
          "metadata": {
            "tags": null
          },
          "name": "stdout",
          "output_type": "stream",
          "text": [
            "EL tamaño de feature id es:  (1, 777)\n",
            "✅ Características de ID=9 guardadas en: /content/drive/MyDrive/features_blocks/features_id_9.pkl\n",
            "Procesando ID: 10...\n"
          ]
        },
        {
          "metadata": {
            "tags": null
          },
          "name": "stderr",
          "output_type": "stream",
          "text": [
            "Feature Extraction: 100%|██████████| 1/1 [00:26<00:00, 26.56s/it]\n",
            "WARNING:tsfresh.feature_extraction.settings:Dependency not available for matrix_profile, this feature will be disabled!\n"
          ]
        },
        {
          "metadata": {
            "tags": null
          },
          "name": "stdout",
          "output_type": "stream",
          "text": [
            "EL tamaño de feature id es:  (1, 777)\n",
            "✅ Características de ID=10 guardadas en: /content/drive/MyDrive/features_blocks/features_id_10.pkl\n",
            "Procesando ID: 11...\n"
          ]
        },
        {
          "metadata": {
            "tags": null
          },
          "name": "stderr",
          "output_type": "stream",
          "text": [
            "Feature Extraction: 100%|██████████| 1/1 [00:15<00:00, 15.94s/it]\n",
            "WARNING:tsfresh.feature_extraction.settings:Dependency not available for matrix_profile, this feature will be disabled!\n"
          ]
        },
        {
          "metadata": {
            "tags": null
          },
          "name": "stdout",
          "output_type": "stream",
          "text": [
            "EL tamaño de feature id es:  (1, 777)\n",
            "✅ Características de ID=11 guardadas en: /content/drive/MyDrive/features_blocks/features_id_11.pkl\n",
            "Procesando ID: 12...\n"
          ]
        },
        {
          "metadata": {
            "tags": null
          },
          "name": "stderr",
          "output_type": "stream",
          "text": [
            "Feature Extraction: 100%|██████████| 1/1 [00:13<00:00, 13.91s/it]\n",
            "WARNING:tsfresh.feature_extraction.settings:Dependency not available for matrix_profile, this feature will be disabled!\n"
          ]
        },
        {
          "metadata": {
            "tags": null
          },
          "name": "stdout",
          "output_type": "stream",
          "text": [
            "EL tamaño de feature id es:  (1, 777)\n",
            "✅ Características de ID=12 guardadas en: /content/drive/MyDrive/features_blocks/features_id_12.pkl\n",
            "Procesando ID: 13...\n"
          ]
        },
        {
          "metadata": {
            "tags": null
          },
          "name": "stderr",
          "output_type": "stream",
          "text": [
            "Feature Extraction: 100%|██████████| 1/1 [00:12<00:00, 12.64s/it]\n",
            "WARNING:tsfresh.feature_extraction.settings:Dependency not available for matrix_profile, this feature will be disabled!\n"
          ]
        },
        {
          "metadata": {
            "tags": null
          },
          "name": "stdout",
          "output_type": "stream",
          "text": [
            "EL tamaño de feature id es:  (1, 777)\n",
            "✅ Características de ID=13 guardadas en: /content/drive/MyDrive/features_blocks/features_id_13.pkl\n",
            "Procesando ID: 14...\n"
          ]
        },
        {
          "metadata": {
            "tags": null
          },
          "name": "stderr",
          "output_type": "stream",
          "text": [
            "Feature Extraction: 100%|██████████| 1/1 [00:13<00:00, 13.32s/it]\n",
            "WARNING:tsfresh.feature_extraction.settings:Dependency not available for matrix_profile, this feature will be disabled!\n"
          ]
        },
        {
          "metadata": {
            "tags": null
          },
          "name": "stdout",
          "output_type": "stream",
          "text": [
            "EL tamaño de feature id es:  (1, 777)\n",
            "✅ Características de ID=14 guardadas en: /content/drive/MyDrive/features_blocks/features_id_14.pkl\n",
            "Procesando ID: 15...\n"
          ]
        },
        {
          "metadata": {
            "tags": null
          },
          "name": "stderr",
          "output_type": "stream",
          "text": [
            "Feature Extraction: 100%|██████████| 1/1 [00:04<00:00,  4.73s/it]\n",
            "WARNING:tsfresh.feature_extraction.settings:Dependency not available for matrix_profile, this feature will be disabled!\n"
          ]
        },
        {
          "metadata": {
            "tags": null
          },
          "name": "stdout",
          "output_type": "stream",
          "text": [
            "EL tamaño de feature id es:  (1, 777)\n",
            "✅ Características de ID=15 guardadas en: /content/drive/MyDrive/features_blocks/features_id_15.pkl\n",
            "Procesando ID: 16...\n"
          ]
        },
        {
          "metadata": {
            "tags": null
          },
          "name": "stderr",
          "output_type": "stream",
          "text": [
            "Feature Extraction: 100%|██████████| 1/1 [00:05<00:00,  5.66s/it]\n",
            "WARNING:tsfresh.feature_extraction.settings:Dependency not available for matrix_profile, this feature will be disabled!\n"
          ]
        },
        {
          "metadata": {
            "tags": null
          },
          "name": "stdout",
          "output_type": "stream",
          "text": [
            "EL tamaño de feature id es:  (1, 777)\n",
            "✅ Características de ID=16 guardadas en: /content/drive/MyDrive/features_blocks/features_id_16.pkl\n",
            "Procesando ID: 17...\n"
          ]
        },
        {
          "metadata": {
            "tags": null
          },
          "name": "stderr",
          "output_type": "stream",
          "text": [
            "Feature Extraction: 100%|██████████| 1/1 [00:04<00:00,  4.25s/it]\n",
            "WARNING:tsfresh.feature_extraction.settings:Dependency not available for matrix_profile, this feature will be disabled!\n"
          ]
        },
        {
          "metadata": {
            "tags": null
          },
          "name": "stdout",
          "output_type": "stream",
          "text": [
            "EL tamaño de feature id es:  (1, 777)\n",
            "✅ Características de ID=17 guardadas en: /content/drive/MyDrive/features_blocks/features_id_17.pkl\n",
            "Procesando ID: 18...\n"
          ]
        },
        {
          "metadata": {
            "tags": null
          },
          "name": "stderr",
          "output_type": "stream",
          "text": [
            "Feature Extraction: 100%|██████████| 1/1 [00:06<00:00,  6.04s/it]\n",
            "WARNING:tsfresh.feature_extraction.settings:Dependency not available for matrix_profile, this feature will be disabled!\n"
          ]
        },
        {
          "metadata": {
            "tags": null
          },
          "name": "stdout",
          "output_type": "stream",
          "text": [
            "EL tamaño de feature id es:  (1, 777)\n",
            "✅ Características de ID=18 guardadas en: /content/drive/MyDrive/features_blocks/features_id_18.pkl\n",
            "Procesando ID: 19...\n"
          ]
        },
        {
          "metadata": {
            "tags": null
          },
          "name": "stderr",
          "output_type": "stream",
          "text": [
            "Feature Extraction: 100%|██████████| 1/1 [00:05<00:00,  5.53s/it]\n",
            "WARNING:tsfresh.feature_extraction.settings:Dependency not available for matrix_profile, this feature will be disabled!\n"
          ]
        },
        {
          "metadata": {
            "tags": null
          },
          "name": "stdout",
          "output_type": "stream",
          "text": [
            "EL tamaño de feature id es:  (1, 777)\n",
            "✅ Características de ID=19 guardadas en: /content/drive/MyDrive/features_blocks/features_id_19.pkl\n",
            "Procesando ID: 20...\n"
          ]
        },
        {
          "metadata": {
            "tags": null
          },
          "name": "stderr",
          "output_type": "stream",
          "text": [
            "Feature Extraction: 100%|██████████| 1/1 [00:04<00:00,  4.51s/it]\n",
            "WARNING:tsfresh.feature_extraction.settings:Dependency not available for matrix_profile, this feature will be disabled!\n"
          ]
        },
        {
          "metadata": {
            "tags": null
          },
          "name": "stdout",
          "output_type": "stream",
          "text": [
            "EL tamaño de feature id es:  (1, 777)\n",
            "✅ Características de ID=20 guardadas en: /content/drive/MyDrive/features_blocks/features_id_20.pkl\n",
            "Procesando ID: 21...\n"
          ]
        },
        {
          "metadata": {
            "tags": null
          },
          "name": "stderr",
          "output_type": "stream",
          "text": [
            "Feature Extraction: 100%|██████████| 1/1 [00:07<00:00,  7.78s/it]\n",
            "WARNING:tsfresh.feature_extraction.settings:Dependency not available for matrix_profile, this feature will be disabled!\n"
          ]
        },
        {
          "metadata": {
            "tags": null
          },
          "name": "stdout",
          "output_type": "stream",
          "text": [
            "EL tamaño de feature id es:  (1, 777)\n",
            "✅ Características de ID=21 guardadas en: /content/drive/MyDrive/features_blocks/features_id_21.pkl\n",
            "Procesando ID: 22...\n"
          ]
        },
        {
          "metadata": {
            "tags": null
          },
          "name": "stderr",
          "output_type": "stream",
          "text": [
            "Feature Extraction: 100%|██████████| 1/1 [00:04<00:00,  4.50s/it]\n",
            "WARNING:tsfresh.feature_extraction.settings:Dependency not available for matrix_profile, this feature will be disabled!\n"
          ]
        },
        {
          "metadata": {
            "tags": null
          },
          "name": "stdout",
          "output_type": "stream",
          "text": [
            "EL tamaño de feature id es:  (1, 777)\n",
            "✅ Características de ID=22 guardadas en: /content/drive/MyDrive/features_blocks/features_id_22.pkl\n",
            "Procesando ID: 23...\n"
          ]
        },
        {
          "metadata": {
            "tags": null
          },
          "name": "stderr",
          "output_type": "stream",
          "text": [
            "Feature Extraction: 100%|██████████| 1/1 [00:04<00:00,  4.50s/it]\n",
            "WARNING:tsfresh.feature_extraction.settings:Dependency not available for matrix_profile, this feature will be disabled!\n"
          ]
        },
        {
          "metadata": {
            "tags": null
          },
          "name": "stdout",
          "output_type": "stream",
          "text": [
            "EL tamaño de feature id es:  (1, 777)\n",
            "✅ Características de ID=23 guardadas en: /content/drive/MyDrive/features_blocks/features_id_23.pkl\n",
            "Procesando ID: 24...\n"
          ]
        },
        {
          "metadata": {
            "tags": null
          },
          "name": "stderr",
          "output_type": "stream",
          "text": [
            "Feature Extraction: 100%|██████████| 1/1 [00:06<00:00,  6.33s/it]\n",
            "WARNING:tsfresh.feature_extraction.settings:Dependency not available for matrix_profile, this feature will be disabled!\n"
          ]
        },
        {
          "metadata": {
            "tags": null
          },
          "name": "stdout",
          "output_type": "stream",
          "text": [
            "EL tamaño de feature id es:  (1, 777)\n",
            "✅ Características de ID=24 guardadas en: /content/drive/MyDrive/features_blocks/features_id_24.pkl\n",
            "Procesando ID: 25...\n"
          ]
        },
        {
          "metadata": {
            "tags": null
          },
          "name": "stderr",
          "output_type": "stream",
          "text": [
            "Feature Extraction: 100%|██████████| 1/1 [00:04<00:00,  4.49s/it]\n",
            "WARNING:tsfresh.feature_extraction.settings:Dependency not available for matrix_profile, this feature will be disabled!\n"
          ]
        },
        {
          "metadata": {
            "tags": null
          },
          "name": "stdout",
          "output_type": "stream",
          "text": [
            "EL tamaño de feature id es:  (1, 777)\n",
            "✅ Características de ID=25 guardadas en: /content/drive/MyDrive/features_blocks/features_id_25.pkl\n",
            "Procesando ID: 26...\n"
          ]
        },
        {
          "metadata": {
            "tags": null
          },
          "name": "stderr",
          "output_type": "stream",
          "text": [
            "Feature Extraction: 100%|██████████| 1/1 [00:06<00:00,  6.23s/it]\n",
            "WARNING:tsfresh.feature_extraction.settings:Dependency not available for matrix_profile, this feature will be disabled!\n"
          ]
        },
        {
          "metadata": {
            "tags": null
          },
          "name": "stdout",
          "output_type": "stream",
          "text": [
            "EL tamaño de feature id es:  (1, 777)\n",
            "✅ Características de ID=26 guardadas en: /content/drive/MyDrive/features_blocks/features_id_26.pkl\n",
            "Procesando ID: 27...\n"
          ]
        },
        {
          "metadata": {
            "tags": null
          },
          "name": "stderr",
          "output_type": "stream",
          "text": [
            "Feature Extraction: 100%|██████████| 1/1 [00:05<00:00,  5.08s/it]\n",
            "WARNING:tsfresh.feature_extraction.settings:Dependency not available for matrix_profile, this feature will be disabled!\n"
          ]
        },
        {
          "metadata": {
            "tags": null
          },
          "name": "stdout",
          "output_type": "stream",
          "text": [
            "EL tamaño de feature id es:  (1, 777)\n",
            "✅ Características de ID=27 guardadas en: /content/drive/MyDrive/features_blocks/features_id_27.pkl\n",
            "Procesando ID: 28...\n"
          ]
        },
        {
          "metadata": {
            "tags": null
          },
          "name": "stderr",
          "output_type": "stream",
          "text": [
            "Feature Extraction: 100%|██████████| 1/1 [00:04<00:00,  4.30s/it]\n",
            "WARNING:tsfresh.feature_extraction.settings:Dependency not available for matrix_profile, this feature will be disabled!\n"
          ]
        },
        {
          "metadata": {
            "tags": null
          },
          "name": "stdout",
          "output_type": "stream",
          "text": [
            "EL tamaño de feature id es:  (1, 777)\n",
            "✅ Características de ID=28 guardadas en: /content/drive/MyDrive/features_blocks/features_id_28.pkl\n",
            "Procesando ID: 29...\n"
          ]
        },
        {
          "metadata": {
            "tags": null
          },
          "name": "stderr",
          "output_type": "stream",
          "text": [
            "Feature Extraction: 100%|██████████| 1/1 [00:07<00:00,  7.95s/it]\n",
            "WARNING:tsfresh.feature_extraction.settings:Dependency not available for matrix_profile, this feature will be disabled!\n"
          ]
        },
        {
          "metadata": {
            "tags": null
          },
          "name": "stdout",
          "output_type": "stream",
          "text": [
            "EL tamaño de feature id es:  (1, 777)\n",
            "✅ Características de ID=29 guardadas en: /content/drive/MyDrive/features_blocks/features_id_29.pkl\n",
            "Procesando ID: 30...\n"
          ]
        },
        {
          "metadata": {
            "tags": null
          },
          "name": "stderr",
          "output_type": "stream",
          "text": [
            "Feature Extraction: 100%|██████████| 1/1 [00:04<00:00,  4.37s/it]\n",
            "WARNING:tsfresh.feature_extraction.settings:Dependency not available for matrix_profile, this feature will be disabled!\n"
          ]
        },
        {
          "metadata": {
            "tags": null
          },
          "name": "stdout",
          "output_type": "stream",
          "text": [
            "EL tamaño de feature id es:  (1, 777)\n",
            "✅ Características de ID=30 guardadas en: /content/drive/MyDrive/features_blocks/features_id_30.pkl\n",
            "Procesando ID: 31...\n"
          ]
        },
        {
          "metadata": {
            "tags": null
          },
          "name": "stderr",
          "output_type": "stream",
          "text": [
            "Feature Extraction: 100%|██████████| 1/1 [00:04<00:00,  4.33s/it]\n",
            "WARNING:tsfresh.feature_extraction.settings:Dependency not available for matrix_profile, this feature will be disabled!\n"
          ]
        },
        {
          "metadata": {
            "tags": null
          },
          "name": "stdout",
          "output_type": "stream",
          "text": [
            "EL tamaño de feature id es:  (1, 777)\n",
            "✅ Características de ID=31 guardadas en: /content/drive/MyDrive/features_blocks/features_id_31.pkl\n",
            "Procesando ID: 32...\n"
          ]
        },
        {
          "metadata": {
            "tags": null
          },
          "name": "stderr",
          "output_type": "stream",
          "text": [
            "Feature Extraction: 100%|██████████| 1/1 [00:07<00:00,  7.30s/it]\n",
            "WARNING:tsfresh.feature_extraction.settings:Dependency not available for matrix_profile, this feature will be disabled!\n"
          ]
        },
        {
          "metadata": {
            "tags": null
          },
          "name": "stdout",
          "output_type": "stream",
          "text": [
            "EL tamaño de feature id es:  (1, 777)\n",
            "✅ Características de ID=32 guardadas en: /content/drive/MyDrive/features_blocks/features_id_32.pkl\n",
            "Procesando ID: 33...\n"
          ]
        },
        {
          "metadata": {
            "tags": null
          },
          "name": "stderr",
          "output_type": "stream",
          "text": [
            "Feature Extraction: 100%|██████████| 1/1 [00:04<00:00,  4.31s/it]\n",
            "WARNING:tsfresh.feature_extraction.settings:Dependency not available for matrix_profile, this feature will be disabled!\n"
          ]
        },
        {
          "metadata": {
            "tags": null
          },
          "name": "stdout",
          "output_type": "stream",
          "text": [
            "EL tamaño de feature id es:  (1, 777)\n",
            "✅ Características de ID=33 guardadas en: /content/drive/MyDrive/features_blocks/features_id_33.pkl\n",
            "Procesando ID: 34...\n"
          ]
        },
        {
          "metadata": {
            "tags": null
          },
          "name": "stderr",
          "output_type": "stream",
          "text": [
            "Feature Extraction: 100%|██████████| 1/1 [00:04<00:00,  4.99s/it]\n",
            "WARNING:tsfresh.feature_extraction.settings:Dependency not available for matrix_profile, this feature will be disabled!\n"
          ]
        },
        {
          "metadata": {
            "tags": null
          },
          "name": "stdout",
          "output_type": "stream",
          "text": [
            "EL tamaño de feature id es:  (1, 777)\n",
            "✅ Características de ID=34 guardadas en: /content/drive/MyDrive/features_blocks/features_id_34.pkl\n",
            "Procesando ID: 35...\n"
          ]
        },
        {
          "metadata": {
            "tags": null
          },
          "name": "stderr",
          "output_type": "stream",
          "text": [
            "Feature Extraction: 100%|██████████| 1/1 [00:05<00:00,  5.82s/it]\n",
            "WARNING:tsfresh.feature_extraction.settings:Dependency not available for matrix_profile, this feature will be disabled!\n"
          ]
        },
        {
          "metadata": {
            "tags": null
          },
          "name": "stdout",
          "output_type": "stream",
          "text": [
            "EL tamaño de feature id es:  (1, 777)\n",
            "✅ Características de ID=35 guardadas en: /content/drive/MyDrive/features_blocks/features_id_35.pkl\n",
            "Procesando ID: 36...\n"
          ]
        },
        {
          "metadata": {
            "tags": null
          },
          "name": "stderr",
          "output_type": "stream",
          "text": [
            "Feature Extraction: 100%|██████████| 1/1 [00:04<00:00,  4.47s/it]\n",
            "WARNING:tsfresh.feature_extraction.settings:Dependency not available for matrix_profile, this feature will be disabled!\n"
          ]
        },
        {
          "metadata": {
            "tags": null
          },
          "name": "stdout",
          "output_type": "stream",
          "text": [
            "EL tamaño de feature id es:  (1, 777)\n",
            "✅ Características de ID=36 guardadas en: /content/drive/MyDrive/features_blocks/features_id_36.pkl\n",
            "Procesando ID: 37...\n"
          ]
        },
        {
          "metadata": {
            "tags": null
          },
          "name": "stderr",
          "output_type": "stream",
          "text": [
            "Feature Extraction: 100%|██████████| 1/1 [00:07<00:00,  7.88s/it]\n",
            "WARNING:tsfresh.feature_extraction.settings:Dependency not available for matrix_profile, this feature will be disabled!\n"
          ]
        },
        {
          "metadata": {
            "tags": null
          },
          "name": "stdout",
          "output_type": "stream",
          "text": [
            "EL tamaño de feature id es:  (1, 777)\n",
            "✅ Características de ID=37 guardadas en: /content/drive/MyDrive/features_blocks/features_id_37.pkl\n",
            "Procesando ID: 38...\n"
          ]
        },
        {
          "metadata": {
            "tags": null
          },
          "name": "stderr",
          "output_type": "stream",
          "text": [
            "Feature Extraction: 100%|██████████| 1/1 [00:04<00:00,  4.32s/it]\n",
            "WARNING:tsfresh.feature_extraction.settings:Dependency not available for matrix_profile, this feature will be disabled!\n"
          ]
        },
        {
          "metadata": {
            "tags": null
          },
          "name": "stdout",
          "output_type": "stream",
          "text": [
            "EL tamaño de feature id es:  (1, 777)\n",
            "✅ Características de ID=38 guardadas en: /content/drive/MyDrive/features_blocks/features_id_38.pkl\n",
            "Procesando ID: 39...\n"
          ]
        },
        {
          "metadata": {
            "tags": null
          },
          "name": "stderr",
          "output_type": "stream",
          "text": [
            "Feature Extraction: 100%|██████████| 1/1 [00:04<00:00,  4.36s/it]\n",
            "WARNING:tsfresh.feature_extraction.settings:Dependency not available for matrix_profile, this feature will be disabled!\n"
          ]
        },
        {
          "metadata": {
            "tags": null
          },
          "name": "stdout",
          "output_type": "stream",
          "text": [
            "EL tamaño de feature id es:  (1, 777)\n",
            "✅ Características de ID=39 guardadas en: /content/drive/MyDrive/features_blocks/features_id_39.pkl\n",
            "Procesando ID: 40...\n"
          ]
        },
        {
          "metadata": {
            "tags": null
          },
          "name": "stderr",
          "output_type": "stream",
          "text": [
            "Feature Extraction: 100%|██████████| 1/1 [00:07<00:00,  7.19s/it]\n",
            "WARNING:tsfresh.feature_extraction.settings:Dependency not available for matrix_profile, this feature will be disabled!\n"
          ]
        },
        {
          "metadata": {
            "tags": null
          },
          "name": "stdout",
          "output_type": "stream",
          "text": [
            "EL tamaño de feature id es:  (1, 777)\n",
            "✅ Características de ID=40 guardadas en: /content/drive/MyDrive/features_blocks/features_id_40.pkl\n",
            "Procesando ID: 41...\n"
          ]
        },
        {
          "metadata": {
            "tags": null
          },
          "name": "stderr",
          "output_type": "stream",
          "text": [
            "Feature Extraction: 100%|██████████| 1/1 [00:04<00:00,  4.39s/it]\n",
            "WARNING:tsfresh.feature_extraction.settings:Dependency not available for matrix_profile, this feature will be disabled!\n"
          ]
        },
        {
          "metadata": {
            "tags": null
          },
          "name": "stdout",
          "output_type": "stream",
          "text": [
            "EL tamaño de feature id es:  (1, 777)\n",
            "✅ Características de ID=41 guardadas en: /content/drive/MyDrive/features_blocks/features_id_41.pkl\n",
            "Procesando ID: 42...\n"
          ]
        },
        {
          "metadata": {
            "tags": null
          },
          "name": "stderr",
          "output_type": "stream",
          "text": [
            "Feature Extraction: 100%|██████████| 1/1 [00:04<00:00,  4.84s/it]\n",
            "WARNING:tsfresh.feature_extraction.settings:Dependency not available for matrix_profile, this feature will be disabled!\n"
          ]
        },
        {
          "metadata": {
            "tags": null
          },
          "name": "stdout",
          "output_type": "stream",
          "text": [
            "EL tamaño de feature id es:  (1, 777)\n",
            "✅ Características de ID=42 guardadas en: /content/drive/MyDrive/features_blocks/features_id_42.pkl\n",
            "Procesando ID: 43...\n"
          ]
        },
        {
          "metadata": {
            "tags": null
          },
          "name": "stderr",
          "output_type": "stream",
          "text": [
            "Feature Extraction: 100%|██████████| 1/1 [00:05<00:00,  5.76s/it]\n",
            "WARNING:tsfresh.feature_extraction.settings:Dependency not available for matrix_profile, this feature will be disabled!\n"
          ]
        },
        {
          "metadata": {
            "tags": null
          },
          "name": "stdout",
          "output_type": "stream",
          "text": [
            "EL tamaño de feature id es:  (1, 777)\n",
            "✅ Características de ID=43 guardadas en: /content/drive/MyDrive/features_blocks/features_id_43.pkl\n",
            "Procesando ID: 44...\n"
          ]
        },
        {
          "metadata": {
            "tags": null
          },
          "name": "stderr",
          "output_type": "stream",
          "text": [
            "Feature Extraction: 100%|██████████| 1/1 [00:04<00:00,  4.22s/it]\n",
            "WARNING:tsfresh.feature_extraction.settings:Dependency not available for matrix_profile, this feature will be disabled!\n"
          ]
        },
        {
          "metadata": {
            "tags": null
          },
          "name": "stdout",
          "output_type": "stream",
          "text": [
            "EL tamaño de feature id es:  (1, 777)\n",
            "✅ Características de ID=44 guardadas en: /content/drive/MyDrive/features_blocks/features_id_44.pkl\n",
            "Procesando ID: 45...\n"
          ]
        },
        {
          "metadata": {
            "tags": null
          },
          "name": "stderr",
          "output_type": "stream",
          "text": [
            "Feature Extraction: 100%|██████████| 1/1 [00:06<00:00,  6.30s/it]\n",
            "WARNING:tsfresh.feature_extraction.settings:Dependency not available for matrix_profile, this feature will be disabled!\n"
          ]
        },
        {
          "metadata": {
            "tags": null
          },
          "name": "stdout",
          "output_type": "stream",
          "text": [
            "EL tamaño de feature id es:  (1, 777)\n",
            "✅ Características de ID=45 guardadas en: /content/drive/MyDrive/features_blocks/features_id_45.pkl\n",
            "Procesando ID: 46...\n"
          ]
        },
        {
          "metadata": {
            "tags": null
          },
          "name": "stderr",
          "output_type": "stream",
          "text": [
            "Feature Extraction: 100%|██████████| 1/1 [00:05<00:00,  5.11s/it]\n",
            "WARNING:tsfresh.feature_extraction.settings:Dependency not available for matrix_profile, this feature will be disabled!\n"
          ]
        },
        {
          "metadata": {
            "tags": null
          },
          "name": "stdout",
          "output_type": "stream",
          "text": [
            "EL tamaño de feature id es:  (1, 777)\n",
            "✅ Características de ID=46 guardadas en: /content/drive/MyDrive/features_blocks/features_id_46.pkl\n",
            "Procesando ID: 47...\n"
          ]
        },
        {
          "metadata": {
            "tags": null
          },
          "name": "stderr",
          "output_type": "stream",
          "text": [
            "Feature Extraction: 100%|██████████| 1/1 [00:04<00:00,  4.52s/it]\n",
            "WARNING:tsfresh.feature_extraction.settings:Dependency not available for matrix_profile, this feature will be disabled!\n"
          ]
        },
        {
          "metadata": {
            "tags": null
          },
          "name": "stdout",
          "output_type": "stream",
          "text": [
            "EL tamaño de feature id es:  (1, 777)\n",
            "✅ Características de ID=47 guardadas en: /content/drive/MyDrive/features_blocks/features_id_47.pkl\n",
            "Procesando ID: 48...\n"
          ]
        },
        {
          "metadata": {
            "tags": null
          },
          "name": "stderr",
          "output_type": "stream",
          "text": [
            "Feature Extraction: 100%|██████████| 1/1 [00:07<00:00,  7.96s/it]\n",
            "WARNING:tsfresh.feature_extraction.settings:Dependency not available for matrix_profile, this feature will be disabled!\n"
          ]
        },
        {
          "metadata": {
            "tags": null
          },
          "name": "stdout",
          "output_type": "stream",
          "text": [
            "EL tamaño de feature id es:  (1, 777)\n",
            "✅ Características de ID=48 guardadas en: /content/drive/MyDrive/features_blocks/features_id_48.pkl\n",
            "Procesando ID: 49...\n"
          ]
        },
        {
          "metadata": {
            "tags": null
          },
          "name": "stderr",
          "output_type": "stream",
          "text": [
            "Feature Extraction: 100%|██████████| 1/1 [00:04<00:00,  4.30s/it]\n",
            "WARNING:tsfresh.feature_extraction.settings:Dependency not available for matrix_profile, this feature will be disabled!\n"
          ]
        },
        {
          "metadata": {
            "tags": null
          },
          "name": "stdout",
          "output_type": "stream",
          "text": [
            "EL tamaño de feature id es:  (1, 777)\n",
            "✅ Características de ID=49 guardadas en: /content/drive/MyDrive/features_blocks/features_id_49.pkl\n",
            "Procesando ID: 50...\n"
          ]
        },
        {
          "metadata": {
            "tags": null
          },
          "name": "stderr",
          "output_type": "stream",
          "text": [
            "Feature Extraction: 100%|██████████| 1/1 [00:04<00:00,  4.87s/it]\n",
            "WARNING:tsfresh.feature_extraction.settings:Dependency not available for matrix_profile, this feature will be disabled!\n"
          ]
        },
        {
          "metadata": {
            "tags": null
          },
          "name": "stdout",
          "output_type": "stream",
          "text": [
            "EL tamaño de feature id es:  (1, 777)\n",
            "✅ Características de ID=50 guardadas en: /content/drive/MyDrive/features_blocks/features_id_50.pkl\n",
            "Procesando ID: 51...\n"
          ]
        },
        {
          "metadata": {
            "tags": null
          },
          "name": "stderr",
          "output_type": "stream",
          "text": [
            "Feature Extraction: 100%|██████████| 1/1 [00:05<00:00,  5.62s/it]\n",
            "WARNING:tsfresh.feature_extraction.settings:Dependency not available for matrix_profile, this feature will be disabled!\n"
          ]
        },
        {
          "metadata": {
            "tags": null
          },
          "name": "stdout",
          "output_type": "stream",
          "text": [
            "EL tamaño de feature id es:  (1, 777)\n",
            "✅ Características de ID=51 guardadas en: /content/drive/MyDrive/features_blocks/features_id_51.pkl\n",
            "Procesando ID: 52...\n"
          ]
        },
        {
          "metadata": {
            "tags": null
          },
          "name": "stderr",
          "output_type": "stream",
          "text": [
            "Feature Extraction: 100%|██████████| 1/1 [00:04<00:00,  4.51s/it]\n",
            "WARNING:tsfresh.feature_extraction.settings:Dependency not available for matrix_profile, this feature will be disabled!\n"
          ]
        },
        {
          "metadata": {
            "tags": null
          },
          "name": "stdout",
          "output_type": "stream",
          "text": [
            "EL tamaño de feature id es:  (1, 777)\n",
            "✅ Características de ID=52 guardadas en: /content/drive/MyDrive/features_blocks/features_id_52.pkl\n",
            "Procesando ID: 53...\n"
          ]
        },
        {
          "metadata": {
            "tags": null
          },
          "name": "stderr",
          "output_type": "stream",
          "text": [
            "Feature Extraction: 100%|██████████| 1/1 [00:06<00:00,  6.15s/it]\n",
            "WARNING:tsfresh.feature_extraction.settings:Dependency not available for matrix_profile, this feature will be disabled!\n"
          ]
        },
        {
          "metadata": {
            "tags": null
          },
          "name": "stdout",
          "output_type": "stream",
          "text": [
            "EL tamaño de feature id es:  (1, 777)\n",
            "✅ Características de ID=53 guardadas en: /content/drive/MyDrive/features_blocks/features_id_53.pkl\n",
            "Procesando ID: 54...\n"
          ]
        },
        {
          "metadata": {
            "tags": null
          },
          "name": "stderr",
          "output_type": "stream",
          "text": [
            "Feature Extraction: 100%|██████████| 1/1 [00:05<00:00,  5.26s/it]\n",
            "WARNING:tsfresh.feature_extraction.settings:Dependency not available for matrix_profile, this feature will be disabled!\n"
          ]
        },
        {
          "metadata": {
            "tags": null
          },
          "name": "stdout",
          "output_type": "stream",
          "text": [
            "EL tamaño de feature id es:  (1, 777)\n",
            "✅ Características de ID=54 guardadas en: /content/drive/MyDrive/features_blocks/features_id_54.pkl\n",
            "Procesando ID: 55...\n"
          ]
        },
        {
          "metadata": {
            "tags": null
          },
          "name": "stderr",
          "output_type": "stream",
          "text": [
            "Feature Extraction: 100%|██████████| 1/1 [00:04<00:00,  4.29s/it]\n",
            "WARNING:tsfresh.feature_extraction.settings:Dependency not available for matrix_profile, this feature will be disabled!\n"
          ]
        },
        {
          "metadata": {
            "tags": null
          },
          "name": "stdout",
          "output_type": "stream",
          "text": [
            "EL tamaño de feature id es:  (1, 777)\n",
            "✅ Características de ID=55 guardadas en: /content/drive/MyDrive/features_blocks/features_id_55.pkl\n",
            "Procesando ID: 56...\n"
          ]
        },
        {
          "metadata": {
            "tags": null
          },
          "name": "stderr",
          "output_type": "stream",
          "text": [
            "Feature Extraction: 100%|██████████| 1/1 [00:07<00:00,  7.95s/it]\n",
            "WARNING:tsfresh.feature_extraction.settings:Dependency not available for matrix_profile, this feature will be disabled!\n"
          ]
        },
        {
          "metadata": {
            "tags": null
          },
          "name": "stdout",
          "output_type": "stream",
          "text": [
            "EL tamaño de feature id es:  (1, 777)\n",
            "✅ Características de ID=56 guardadas en: /content/drive/MyDrive/features_blocks/features_id_56.pkl\n",
            "Procesando ID: 57...\n"
          ]
        },
        {
          "metadata": {
            "tags": null
          },
          "name": "stderr",
          "output_type": "stream",
          "text": [
            "Feature Extraction: 100%|██████████| 1/1 [00:04<00:00,  4.44s/it]\n",
            "WARNING:tsfresh.feature_extraction.settings:Dependency not available for matrix_profile, this feature will be disabled!\n"
          ]
        },
        {
          "metadata": {
            "tags": null
          },
          "name": "stdout",
          "output_type": "stream",
          "text": [
            "EL tamaño de feature id es:  (1, 777)\n",
            "✅ Características de ID=57 guardadas en: /content/drive/MyDrive/features_blocks/features_id_57.pkl\n",
            "Procesando ID: 58...\n"
          ]
        },
        {
          "metadata": {
            "tags": null
          },
          "name": "stderr",
          "output_type": "stream",
          "text": [
            "Feature Extraction: 100%|██████████| 1/1 [00:04<00:00,  4.45s/it]\n",
            "WARNING:tsfresh.feature_extraction.settings:Dependency not available for matrix_profile, this feature will be disabled!\n"
          ]
        },
        {
          "metadata": {
            "tags": null
          },
          "name": "stdout",
          "output_type": "stream",
          "text": [
            "EL tamaño de feature id es:  (1, 777)\n",
            "✅ Características de ID=58 guardadas en: /content/drive/MyDrive/features_blocks/features_id_58.pkl\n",
            "Procesando ID: 59...\n"
          ]
        },
        {
          "metadata": {
            "tags": null
          },
          "name": "stderr",
          "output_type": "stream",
          "text": [
            "Feature Extraction: 100%|██████████| 1/1 [00:06<00:00,  6.54s/it]\n",
            "WARNING:tsfresh.feature_extraction.settings:Dependency not available for matrix_profile, this feature will be disabled!\n"
          ]
        },
        {
          "metadata": {
            "tags": null
          },
          "name": "stdout",
          "output_type": "stream",
          "text": [
            "EL tamaño de feature id es:  (1, 777)\n",
            "✅ Características de ID=59 guardadas en: /content/drive/MyDrive/features_blocks/features_id_59.pkl\n",
            "Procesando ID: 60...\n"
          ]
        },
        {
          "metadata": {
            "tags": null
          },
          "name": "stderr",
          "output_type": "stream",
          "text": [
            "Feature Extraction: 100%|██████████| 1/1 [00:04<00:00,  4.22s/it]\n",
            "WARNING:tsfresh.feature_extraction.settings:Dependency not available for matrix_profile, this feature will be disabled!\n"
          ]
        },
        {
          "metadata": {
            "tags": null
          },
          "name": "stdout",
          "output_type": "stream",
          "text": [
            "EL tamaño de feature id es:  (1, 777)\n",
            "✅ Características de ID=60 guardadas en: /content/drive/MyDrive/features_blocks/features_id_60.pkl\n",
            "Procesando ID: 61...\n"
          ]
        },
        {
          "metadata": {
            "tags": null
          },
          "name": "stderr",
          "output_type": "stream",
          "text": [
            "Feature Extraction: 100%|██████████| 1/1 [00:06<00:00,  6.40s/it]\n",
            "WARNING:tsfresh.feature_extraction.settings:Dependency not available for matrix_profile, this feature will be disabled!\n"
          ]
        },
        {
          "metadata": {
            "tags": null
          },
          "name": "stdout",
          "output_type": "stream",
          "text": [
            "EL tamaño de feature id es:  (1, 777)\n",
            "✅ Características de ID=61 guardadas en: /content/drive/MyDrive/features_blocks/features_id_61.pkl\n",
            "Procesando ID: 62...\n"
          ]
        },
        {
          "metadata": {
            "tags": null
          },
          "name": "stderr",
          "output_type": "stream",
          "text": [
            "Feature Extraction: 100%|██████████| 1/1 [00:04<00:00,  4.86s/it]\n",
            "WARNING:tsfresh.feature_extraction.settings:Dependency not available for matrix_profile, this feature will be disabled!\n"
          ]
        },
        {
          "metadata": {
            "tags": null
          },
          "name": "stdout",
          "output_type": "stream",
          "text": [
            "EL tamaño de feature id es:  (1, 777)\n",
            "✅ Características de ID=62 guardadas en: /content/drive/MyDrive/features_blocks/features_id_62.pkl\n",
            "Procesando ID: 63...\n"
          ]
        },
        {
          "metadata": {
            "tags": null
          },
          "name": "stderr",
          "output_type": "stream",
          "text": [
            "Feature Extraction: 100%|██████████| 1/1 [00:04<00:00,  4.65s/it]\n",
            "WARNING:tsfresh.feature_extraction.settings:Dependency not available for matrix_profile, this feature will be disabled!\n"
          ]
        },
        {
          "metadata": {
            "tags": null
          },
          "name": "stdout",
          "output_type": "stream",
          "text": [
            "EL tamaño de feature id es:  (1, 777)\n",
            "✅ Características de ID=63 guardadas en: /content/drive/MyDrive/features_blocks/features_id_63.pkl\n",
            "Procesando ID: 64...\n"
          ]
        },
        {
          "metadata": {
            "tags": null
          },
          "name": "stderr",
          "output_type": "stream",
          "text": [
            "Feature Extraction: 100%|██████████| 1/1 [00:07<00:00,  7.62s/it]\n",
            "WARNING:tsfresh.feature_extraction.settings:Dependency not available for matrix_profile, this feature will be disabled!\n"
          ]
        },
        {
          "metadata": {
            "tags": null
          },
          "name": "stdout",
          "output_type": "stream",
          "text": [
            "EL tamaño de feature id es:  (1, 777)\n",
            "✅ Características de ID=64 guardadas en: /content/drive/MyDrive/features_blocks/features_id_64.pkl\n",
            "Procesando ID: 65...\n"
          ]
        },
        {
          "metadata": {
            "tags": null
          },
          "name": "stderr",
          "output_type": "stream",
          "text": [
            "Feature Extraction: 100%|██████████| 1/1 [00:04<00:00,  4.27s/it]\n",
            "WARNING:tsfresh.feature_extraction.settings:Dependency not available for matrix_profile, this feature will be disabled!\n"
          ]
        },
        {
          "metadata": {
            "tags": null
          },
          "name": "stdout",
          "output_type": "stream",
          "text": [
            "EL tamaño de feature id es:  (1, 777)\n",
            "✅ Características de ID=65 guardadas en: /content/drive/MyDrive/features_blocks/features_id_65.pkl\n",
            "Procesando ID: 66...\n"
          ]
        },
        {
          "metadata": {
            "tags": null
          },
          "name": "stderr",
          "output_type": "stream",
          "text": [
            "Feature Extraction: 100%|██████████| 1/1 [00:04<00:00,  4.38s/it]\n",
            "WARNING:tsfresh.feature_extraction.settings:Dependency not available for matrix_profile, this feature will be disabled!\n"
          ]
        },
        {
          "metadata": {
            "tags": null
          },
          "name": "stdout",
          "output_type": "stream",
          "text": [
            "EL tamaño de feature id es:  (1, 777)\n",
            "✅ Características de ID=66 guardadas en: /content/drive/MyDrive/features_blocks/features_id_66.pkl\n",
            "Procesando ID: 67...\n"
          ]
        },
        {
          "metadata": {
            "tags": null
          },
          "name": "stderr",
          "output_type": "stream",
          "text": [
            "Feature Extraction: 100%|██████████| 1/1 [00:06<00:00,  6.36s/it]\n",
            "WARNING:tsfresh.feature_extraction.settings:Dependency not available for matrix_profile, this feature will be disabled!\n"
          ]
        },
        {
          "metadata": {
            "tags": null
          },
          "name": "stdout",
          "output_type": "stream",
          "text": [
            "EL tamaño de feature id es:  (1, 777)\n",
            "✅ Características de ID=67 guardadas en: /content/drive/MyDrive/features_blocks/features_id_67.pkl\n",
            "Procesando ID: 68...\n"
          ]
        },
        {
          "metadata": {
            "tags": null
          },
          "name": "stderr",
          "output_type": "stream",
          "text": [
            "Feature Extraction: 100%|██████████| 1/1 [00:04<00:00,  4.29s/it]\n",
            "WARNING:tsfresh.feature_extraction.settings:Dependency not available for matrix_profile, this feature will be disabled!\n"
          ]
        },
        {
          "metadata": {
            "tags": null
          },
          "name": "stdout",
          "output_type": "stream",
          "text": [
            "EL tamaño de feature id es:  (1, 777)\n",
            "✅ Características de ID=68 guardadas en: /content/drive/MyDrive/features_blocks/features_id_68.pkl\n",
            "Procesando ID: 69...\n"
          ]
        },
        {
          "metadata": {
            "tags": null
          },
          "name": "stderr",
          "output_type": "stream",
          "text": [
            "Feature Extraction: 100%|██████████| 1/1 [00:06<00:00,  6.36s/it]\n",
            "WARNING:tsfresh.feature_extraction.settings:Dependency not available for matrix_profile, this feature will be disabled!\n"
          ]
        },
        {
          "metadata": {
            "tags": null
          },
          "name": "stdout",
          "output_type": "stream",
          "text": [
            "EL tamaño de feature id es:  (1, 777)\n",
            "✅ Características de ID=69 guardadas en: /content/drive/MyDrive/features_blocks/features_id_69.pkl\n",
            "Procesando ID: 70...\n"
          ]
        },
        {
          "metadata": {
            "tags": null
          },
          "name": "stderr",
          "output_type": "stream",
          "text": [
            "Feature Extraction: 100%|██████████| 1/1 [00:05<00:00,  5.07s/it]\n",
            "WARNING:tsfresh.feature_extraction.settings:Dependency not available for matrix_profile, this feature will be disabled!\n"
          ]
        },
        {
          "metadata": {
            "tags": null
          },
          "name": "stdout",
          "output_type": "stream",
          "text": [
            "EL tamaño de feature id es:  (1, 777)\n",
            "✅ Características de ID=70 guardadas en: /content/drive/MyDrive/features_blocks/features_id_70.pkl\n",
            "Procesando ID: 71...\n"
          ]
        },
        {
          "metadata": {
            "tags": null
          },
          "name": "stderr",
          "output_type": "stream",
          "text": [
            "Feature Extraction: 100%|██████████| 1/1 [00:04<00:00,  4.25s/it]\n",
            "WARNING:tsfresh.feature_extraction.settings:Dependency not available for matrix_profile, this feature will be disabled!\n"
          ]
        },
        {
          "metadata": {
            "tags": null
          },
          "name": "stdout",
          "output_type": "stream",
          "text": [
            "EL tamaño de feature id es:  (1, 777)\n",
            "✅ Características de ID=71 guardadas en: /content/drive/MyDrive/features_blocks/features_id_71.pkl\n",
            "Procesando ID: 72...\n"
          ]
        },
        {
          "metadata": {
            "tags": null
          },
          "name": "stderr",
          "output_type": "stream",
          "text": [
            "Feature Extraction: 100%|██████████| 1/1 [00:08<00:00,  8.09s/it]\n",
            "WARNING:tsfresh.feature_extraction.settings:Dependency not available for matrix_profile, this feature will be disabled!\n"
          ]
        },
        {
          "metadata": {
            "tags": null
          },
          "name": "stdout",
          "output_type": "stream",
          "text": [
            "EL tamaño de feature id es:  (1, 777)\n",
            "✅ Características de ID=72 guardadas en: /content/drive/MyDrive/features_blocks/features_id_72.pkl\n",
            "Procesando ID: 73...\n"
          ]
        },
        {
          "metadata": {
            "tags": null
          },
          "name": "stderr",
          "output_type": "stream",
          "text": [
            "Feature Extraction: 100%|██████████| 1/1 [00:04<00:00,  4.30s/it]\n",
            "WARNING:tsfresh.feature_extraction.settings:Dependency not available for matrix_profile, this feature will be disabled!\n"
          ]
        },
        {
          "metadata": {
            "tags": null
          },
          "name": "stdout",
          "output_type": "stream",
          "text": [
            "EL tamaño de feature id es:  (1, 777)\n",
            "✅ Características de ID=73 guardadas en: /content/drive/MyDrive/features_blocks/features_id_73.pkl\n",
            "Procesando ID: 74...\n"
          ]
        },
        {
          "metadata": {
            "tags": null
          },
          "name": "stderr",
          "output_type": "stream",
          "text": [
            "Feature Extraction: 100%|██████████| 1/1 [00:04<00:00,  4.61s/it]\n",
            "WARNING:tsfresh.feature_extraction.settings:Dependency not available for matrix_profile, this feature will be disabled!\n"
          ]
        },
        {
          "metadata": {
            "tags": null
          },
          "name": "stdout",
          "output_type": "stream",
          "text": [
            "EL tamaño de feature id es:  (1, 777)\n",
            "✅ Características de ID=74 guardadas en: /content/drive/MyDrive/features_blocks/features_id_74.pkl\n",
            "Procesando ID: 75...\n"
          ]
        },
        {
          "metadata": {
            "tags": null
          },
          "name": "stderr",
          "output_type": "stream",
          "text": [
            "Feature Extraction: 100%|██████████| 1/1 [00:06<00:00,  6.42s/it]\n",
            "WARNING:tsfresh.feature_extraction.settings:Dependency not available for matrix_profile, this feature will be disabled!\n"
          ]
        },
        {
          "metadata": {
            "tags": null
          },
          "name": "stdout",
          "output_type": "stream",
          "text": [
            "EL tamaño de feature id es:  (1, 777)\n",
            "✅ Características de ID=75 guardadas en: /content/drive/MyDrive/features_blocks/features_id_75.pkl\n",
            "Procesando ID: 76...\n"
          ]
        },
        {
          "metadata": {
            "tags": null
          },
          "name": "stderr",
          "output_type": "stream",
          "text": [
            "Feature Extraction: 100%|██████████| 1/1 [00:04<00:00,  4.13s/it]\n",
            "WARNING:tsfresh.feature_extraction.settings:Dependency not available for matrix_profile, this feature will be disabled!\n"
          ]
        },
        {
          "metadata": {
            "tags": null
          },
          "name": "stdout",
          "output_type": "stream",
          "text": [
            "EL tamaño de feature id es:  (1, 777)\n",
            "✅ Características de ID=76 guardadas en: /content/drive/MyDrive/features_blocks/features_id_76.pkl\n",
            "Procesando ID: 77...\n"
          ]
        },
        {
          "metadata": {
            "tags": null
          },
          "name": "stderr",
          "output_type": "stream",
          "text": [
            "Feature Extraction: 100%|██████████| 1/1 [00:05<00:00,  5.68s/it]\n",
            "WARNING:tsfresh.feature_extraction.settings:Dependency not available for matrix_profile, this feature will be disabled!\n"
          ]
        },
        {
          "metadata": {
            "tags": null
          },
          "name": "stdout",
          "output_type": "stream",
          "text": [
            "EL tamaño de feature id es:  (1, 777)\n",
            "✅ Características de ID=77 guardadas en: /content/drive/MyDrive/features_blocks/features_id_77.pkl\n",
            "Procesando ID: 78...\n"
          ]
        },
        {
          "metadata": {
            "tags": null
          },
          "name": "stderr",
          "output_type": "stream",
          "text": [
            "Feature Extraction: 100%|██████████| 1/1 [00:05<00:00,  5.54s/it]\n",
            "WARNING:tsfresh.feature_extraction.settings:Dependency not available for matrix_profile, this feature will be disabled!\n"
          ]
        },
        {
          "metadata": {
            "tags": null
          },
          "name": "stdout",
          "output_type": "stream",
          "text": [
            "EL tamaño de feature id es:  (1, 777)\n",
            "✅ Características de ID=78 guardadas en: /content/drive/MyDrive/features_blocks/features_id_78.pkl\n",
            "Procesando ID: 79...\n"
          ]
        },
        {
          "metadata": {
            "tags": null
          },
          "name": "stderr",
          "output_type": "stream",
          "text": [
            "Feature Extraction: 100%|██████████| 1/1 [00:04<00:00,  4.25s/it]\n",
            "WARNING:tsfresh.feature_extraction.settings:Dependency not available for matrix_profile, this feature will be disabled!\n"
          ]
        },
        {
          "metadata": {
            "tags": null
          },
          "name": "stdout",
          "output_type": "stream",
          "text": [
            "EL tamaño de feature id es:  (1, 777)\n",
            "✅ Características de ID=79 guardadas en: /content/drive/MyDrive/features_blocks/features_id_79.pkl\n",
            "Procesando ID: 80...\n"
          ]
        },
        {
          "metadata": {
            "tags": null
          },
          "name": "stderr",
          "output_type": "stream",
          "text": [
            "Feature Extraction: 100%|██████████| 1/1 [00:08<00:00,  8.13s/it]\n",
            "WARNING:tsfresh.feature_extraction.settings:Dependency not available for matrix_profile, this feature will be disabled!\n"
          ]
        },
        {
          "metadata": {
            "tags": null
          },
          "name": "stdout",
          "output_type": "stream",
          "text": [
            "EL tamaño de feature id es:  (1, 777)\n",
            "✅ Características de ID=80 guardadas en: /content/drive/MyDrive/features_blocks/features_id_80.pkl\n",
            "Procesando ID: 81...\n"
          ]
        },
        {
          "metadata": {
            "tags": null
          },
          "name": "stderr",
          "output_type": "stream",
          "text": [
            "Feature Extraction: 100%|██████████| 1/1 [00:04<00:00,  4.34s/it]\n",
            "WARNING:tsfresh.feature_extraction.settings:Dependency not available for matrix_profile, this feature will be disabled!\n"
          ]
        },
        {
          "metadata": {
            "tags": null
          },
          "name": "stdout",
          "output_type": "stream",
          "text": [
            "EL tamaño de feature id es:  (1, 777)\n",
            "✅ Características de ID=81 guardadas en: /content/drive/MyDrive/features_blocks/features_id_81.pkl\n",
            "Procesando ID: 82...\n"
          ]
        },
        {
          "metadata": {
            "tags": null
          },
          "name": "stderr",
          "output_type": "stream",
          "text": [
            "Feature Extraction: 100%|██████████| 1/1 [00:04<00:00,  4.33s/it]\n",
            "WARNING:tsfresh.feature_extraction.settings:Dependency not available for matrix_profile, this feature will be disabled!\n"
          ]
        },
        {
          "metadata": {
            "tags": null
          },
          "name": "stdout",
          "output_type": "stream",
          "text": [
            "EL tamaño de feature id es:  (1, 777)\n",
            "✅ Características de ID=82 guardadas en: /content/drive/MyDrive/features_blocks/features_id_82.pkl\n",
            "Procesando ID: 83...\n"
          ]
        },
        {
          "metadata": {
            "tags": null
          },
          "name": "stderr",
          "output_type": "stream",
          "text": [
            "Feature Extraction: 100%|██████████| 1/1 [00:06<00:00,  6.66s/it]\n",
            "WARNING:tsfresh.feature_extraction.settings:Dependency not available for matrix_profile, this feature will be disabled!\n"
          ]
        },
        {
          "metadata": {
            "tags": null
          },
          "name": "stdout",
          "output_type": "stream",
          "text": [
            "EL tamaño de feature id es:  (1, 777)\n",
            "✅ Características de ID=83 guardadas en: /content/drive/MyDrive/features_blocks/features_id_83.pkl\n",
            "Procesando ID: 84...\n"
          ]
        },
        {
          "metadata": {
            "tags": null
          },
          "name": "stderr",
          "output_type": "stream",
          "text": [
            "Feature Extraction: 100%|██████████| 1/1 [00:04<00:00,  4.28s/it]\n",
            "WARNING:tsfresh.feature_extraction.settings:Dependency not available for matrix_profile, this feature will be disabled!\n"
          ]
        },
        {
          "metadata": {
            "tags": null
          },
          "name": "stdout",
          "output_type": "stream",
          "text": [
            "EL tamaño de feature id es:  (1, 777)\n",
            "✅ Características de ID=84 guardadas en: /content/drive/MyDrive/features_blocks/features_id_84.pkl\n",
            "Procesando ID: 85...\n"
          ]
        },
        {
          "metadata": {
            "tags": null
          },
          "name": "stderr",
          "output_type": "stream",
          "text": [
            "Feature Extraction: 100%|██████████| 1/1 [00:05<00:00,  5.76s/it]\n",
            "WARNING:tsfresh.feature_extraction.settings:Dependency not available for matrix_profile, this feature will be disabled!\n"
          ]
        },
        {
          "metadata": {
            "tags": null
          },
          "name": "stdout",
          "output_type": "stream",
          "text": [
            "EL tamaño de feature id es:  (1, 777)\n",
            "✅ Características de ID=85 guardadas en: /content/drive/MyDrive/features_blocks/features_id_85.pkl\n",
            "Procesando ID: 86...\n"
          ]
        },
        {
          "metadata": {
            "tags": null
          },
          "name": "stderr",
          "output_type": "stream",
          "text": [
            "Feature Extraction: 100%|██████████| 1/1 [00:05<00:00,  5.74s/it]\n",
            "WARNING:tsfresh.feature_extraction.settings:Dependency not available for matrix_profile, this feature will be disabled!\n"
          ]
        },
        {
          "metadata": {
            "tags": null
          },
          "name": "stdout",
          "output_type": "stream",
          "text": [
            "EL tamaño de feature id es:  (1, 777)\n",
            "✅ Características de ID=86 guardadas en: /content/drive/MyDrive/features_blocks/features_id_86.pkl\n",
            "Procesando ID: 87...\n"
          ]
        },
        {
          "metadata": {
            "tags": null
          },
          "name": "stderr",
          "output_type": "stream",
          "text": [
            "Feature Extraction: 100%|██████████| 1/1 [00:04<00:00,  4.38s/it]\n",
            "WARNING:tsfresh.feature_extraction.settings:Dependency not available for matrix_profile, this feature will be disabled!\n"
          ]
        },
        {
          "metadata": {
            "tags": null
          },
          "name": "stdout",
          "output_type": "stream",
          "text": [
            "EL tamaño de feature id es:  (1, 777)\n",
            "✅ Características de ID=87 guardadas en: /content/drive/MyDrive/features_blocks/features_id_87.pkl\n",
            "Procesando ID: 88...\n"
          ]
        },
        {
          "metadata": {
            "tags": null
          },
          "name": "stderr",
          "output_type": "stream",
          "text": [
            "Feature Extraction: 100%|██████████| 1/1 [00:08<00:00,  8.13s/it]\n",
            "WARNING:tsfresh.feature_extraction.settings:Dependency not available for matrix_profile, this feature will be disabled!\n"
          ]
        },
        {
          "metadata": {
            "tags": null
          },
          "name": "stdout",
          "output_type": "stream",
          "text": [
            "EL tamaño de feature id es:  (1, 777)\n",
            "✅ Características de ID=88 guardadas en: /content/drive/MyDrive/features_blocks/features_id_88.pkl\n",
            "Procesando ID: 89...\n"
          ]
        },
        {
          "metadata": {
            "tags": null
          },
          "name": "stderr",
          "output_type": "stream",
          "text": [
            "Feature Extraction: 100%|██████████| 1/1 [00:04<00:00,  4.34s/it]\n",
            "WARNING:tsfresh.feature_extraction.settings:Dependency not available for matrix_profile, this feature will be disabled!\n"
          ]
        },
        {
          "metadata": {
            "tags": null
          },
          "name": "stdout",
          "output_type": "stream",
          "text": [
            "EL tamaño de feature id es:  (1, 777)\n",
            "✅ Características de ID=89 guardadas en: /content/drive/MyDrive/features_blocks/features_id_89.pkl\n",
            "Procesando ID: 90...\n"
          ]
        },
        {
          "metadata": {
            "tags": null
          },
          "name": "stderr",
          "output_type": "stream",
          "text": [
            "Feature Extraction: 100%|██████████| 1/1 [00:04<00:00,  4.76s/it]\n",
            "WARNING:tsfresh.feature_extraction.settings:Dependency not available for matrix_profile, this feature will be disabled!\n"
          ]
        },
        {
          "metadata": {
            "tags": null
          },
          "name": "stdout",
          "output_type": "stream",
          "text": [
            "EL tamaño de feature id es:  (1, 777)\n",
            "✅ Características de ID=90 guardadas en: /content/drive/MyDrive/features_blocks/features_id_90.pkl\n",
            "Procesando ID: 91...\n"
          ]
        },
        {
          "metadata": {
            "tags": null
          },
          "name": "stderr",
          "output_type": "stream",
          "text": [
            "Feature Extraction: 100%|██████████| 1/1 [00:06<00:00,  6.23s/it]\n",
            "WARNING:tsfresh.feature_extraction.settings:Dependency not available for matrix_profile, this feature will be disabled!\n"
          ]
        },
        {
          "metadata": {
            "tags": null
          },
          "name": "stdout",
          "output_type": "stream",
          "text": [
            "EL tamaño de feature id es:  (1, 777)\n",
            "✅ Características de ID=91 guardadas en: /content/drive/MyDrive/features_blocks/features_id_91.pkl\n",
            "Procesando ID: 92...\n"
          ]
        },
        {
          "metadata": {
            "tags": null
          },
          "name": "stderr",
          "output_type": "stream",
          "text": [
            "Feature Extraction: 100%|██████████| 1/1 [00:04<00:00,  4.28s/it]\n",
            "WARNING:tsfresh.feature_extraction.settings:Dependency not available for matrix_profile, this feature will be disabled!\n"
          ]
        },
        {
          "metadata": {
            "tags": null
          },
          "name": "stdout",
          "output_type": "stream",
          "text": [
            "EL tamaño de feature id es:  (1, 777)\n",
            "✅ Características de ID=92 guardadas en: /content/drive/MyDrive/features_blocks/features_id_92.pkl\n",
            "Procesando ID: 93...\n"
          ]
        },
        {
          "metadata": {
            "tags": null
          },
          "name": "stderr",
          "output_type": "stream",
          "text": [
            "Feature Extraction: 100%|██████████| 1/1 [00:05<00:00,  5.06s/it]\n",
            "WARNING:tsfresh.feature_extraction.settings:Dependency not available for matrix_profile, this feature will be disabled!\n"
          ]
        },
        {
          "metadata": {
            "tags": null
          },
          "name": "stdout",
          "output_type": "stream",
          "text": [
            "EL tamaño de feature id es:  (1, 777)\n",
            "✅ Características de ID=93 guardadas en: /content/drive/MyDrive/features_blocks/features_id_93.pkl\n",
            "Procesando ID: 94...\n"
          ]
        },
        {
          "metadata": {
            "tags": null
          },
          "name": "stderr",
          "output_type": "stream",
          "text": [
            "Feature Extraction: 100%|██████████| 1/1 [00:05<00:00,  5.57s/it]\n",
            "WARNING:tsfresh.feature_extraction.settings:Dependency not available for matrix_profile, this feature will be disabled!\n"
          ]
        },
        {
          "metadata": {
            "tags": null
          },
          "name": "stdout",
          "output_type": "stream",
          "text": [
            "EL tamaño de feature id es:  (1, 777)\n",
            "✅ Características de ID=94 guardadas en: /content/drive/MyDrive/features_blocks/features_id_94.pkl\n",
            "Procesando ID: 95...\n"
          ]
        },
        {
          "metadata": {
            "tags": null
          },
          "name": "stderr",
          "output_type": "stream",
          "text": [
            "Feature Extraction: 100%|██████████| 1/1 [00:04<00:00,  4.28s/it]\n",
            "WARNING:tsfresh.feature_extraction.settings:Dependency not available for matrix_profile, this feature will be disabled!\n"
          ]
        },
        {
          "metadata": {
            "tags": null
          },
          "name": "stdout",
          "output_type": "stream",
          "text": [
            "EL tamaño de feature id es:  (1, 777)\n",
            "✅ Características de ID=95 guardadas en: /content/drive/MyDrive/features_blocks/features_id_95.pkl\n",
            "Procesando ID: 96...\n"
          ]
        },
        {
          "metadata": {
            "tags": null
          },
          "name": "stderr",
          "output_type": "stream",
          "text": [
            "Feature Extraction: 100%|██████████| 1/1 [00:08<00:00,  8.20s/it]\n",
            "WARNING:tsfresh.feature_extraction.settings:Dependency not available for matrix_profile, this feature will be disabled!\n"
          ]
        },
        {
          "metadata": {
            "tags": null
          },
          "name": "stdout",
          "output_type": "stream",
          "text": [
            "EL tamaño de feature id es:  (1, 777)\n",
            "✅ Características de ID=96 guardadas en: /content/drive/MyDrive/features_blocks/features_id_96.pkl\n",
            "Procesando ID: 97...\n"
          ]
        },
        {
          "metadata": {
            "tags": null
          },
          "name": "stderr",
          "output_type": "stream",
          "text": [
            "Feature Extraction: 100%|██████████| 1/1 [00:04<00:00,  4.39s/it]\n",
            "WARNING:tsfresh.feature_extraction.settings:Dependency not available for matrix_profile, this feature will be disabled!\n"
          ]
        },
        {
          "metadata": {
            "tags": null
          },
          "name": "stdout",
          "output_type": "stream",
          "text": [
            "EL tamaño de feature id es:  (1, 777)\n",
            "✅ Características de ID=97 guardadas en: /content/drive/MyDrive/features_blocks/features_id_97.pkl\n",
            "Procesando ID: 98...\n"
          ]
        },
        {
          "metadata": {
            "tags": null
          },
          "name": "stderr",
          "output_type": "stream",
          "text": [
            "Feature Extraction: 100%|██████████| 1/1 [00:04<00:00,  4.49s/it]\n",
            "WARNING:tsfresh.feature_extraction.settings:Dependency not available for matrix_profile, this feature will be disabled!\n"
          ]
        },
        {
          "metadata": {
            "tags": null
          },
          "name": "stdout",
          "output_type": "stream",
          "text": [
            "EL tamaño de feature id es:  (1, 777)\n",
            "✅ Características de ID=98 guardadas en: /content/drive/MyDrive/features_blocks/features_id_98.pkl\n",
            "Procesando ID: 99...\n"
          ]
        },
        {
          "metadata": {
            "tags": null
          },
          "name": "stderr",
          "output_type": "stream",
          "text": [
            "Feature Extraction: 100%|██████████| 1/1 [00:07<00:00,  7.17s/it]\n",
            "WARNING:tsfresh.feature_extraction.settings:Dependency not available for matrix_profile, this feature will be disabled!\n"
          ]
        },
        {
          "metadata": {
            "tags": null
          },
          "name": "stdout",
          "output_type": "stream",
          "text": [
            "EL tamaño de feature id es:  (1, 777)\n",
            "✅ Características de ID=99 guardadas en: /content/drive/MyDrive/features_blocks/features_id_99.pkl\n",
            "Procesando ID: 100...\n"
          ]
        },
        {
          "metadata": {
            "tags": null
          },
          "name": "stderr",
          "output_type": "stream",
          "text": [
            "Feature Extraction: 100%|██████████| 1/1 [00:04<00:00,  4.37s/it]\n",
            "WARNING:tsfresh.feature_extraction.settings:Dependency not available for matrix_profile, this feature will be disabled!\n"
          ]
        },
        {
          "metadata": {
            "tags": null
          },
          "name": "stdout",
          "output_type": "stream",
          "text": [
            "EL tamaño de feature id es:  (1, 777)\n",
            "✅ Características de ID=100 guardadas en: /content/drive/MyDrive/features_blocks/features_id_100.pkl\n",
            "Procesando ID: 101...\n"
          ]
        },
        {
          "metadata": {
            "tags": null
          },
          "name": "stderr",
          "output_type": "stream",
          "text": [
            "Feature Extraction: 100%|██████████| 1/1 [00:05<00:00,  5.21s/it]\n",
            "WARNING:tsfresh.feature_extraction.settings:Dependency not available for matrix_profile, this feature will be disabled!\n"
          ]
        },
        {
          "metadata": {
            "tags": null
          },
          "name": "stdout",
          "output_type": "stream",
          "text": [
            "EL tamaño de feature id es:  (1, 777)\n",
            "✅ Características de ID=101 guardadas en: /content/drive/MyDrive/features_blocks/features_id_101.pkl\n",
            "Procesando ID: 102...\n"
          ]
        },
        {
          "metadata": {
            "tags": null
          },
          "name": "stderr",
          "output_type": "stream",
          "text": [
            "Feature Extraction: 100%|██████████| 1/1 [00:05<00:00,  5.55s/it]\n",
            "WARNING:tsfresh.feature_extraction.settings:Dependency not available for matrix_profile, this feature will be disabled!\n"
          ]
        },
        {
          "metadata": {
            "tags": null
          },
          "name": "stdout",
          "output_type": "stream",
          "text": [
            "EL tamaño de feature id es:  (1, 777)\n",
            "✅ Características de ID=102 guardadas en: /content/drive/MyDrive/features_blocks/features_id_102.pkl\n",
            "Procesando ID: 103...\n"
          ]
        },
        {
          "metadata": {
            "tags": null
          },
          "name": "stderr",
          "output_type": "stream",
          "text": [
            "Feature Extraction: 100%|██████████| 1/1 [00:04<00:00,  4.25s/it]\n",
            "WARNING:tsfresh.feature_extraction.settings:Dependency not available for matrix_profile, this feature will be disabled!\n"
          ]
        },
        {
          "metadata": {
            "tags": null
          },
          "name": "stdout",
          "output_type": "stream",
          "text": [
            "EL tamaño de feature id es:  (1, 777)\n",
            "✅ Características de ID=103 guardadas en: /content/drive/MyDrive/features_blocks/features_id_103.pkl\n",
            "Procesando ID: 104...\n"
          ]
        },
        {
          "metadata": {
            "tags": null
          },
          "name": "stderr",
          "output_type": "stream",
          "text": [
            "Feature Extraction: 100%|██████████| 1/1 [00:06<00:00,  6.24s/it]\n",
            "WARNING:tsfresh.feature_extraction.settings:Dependency not available for matrix_profile, this feature will be disabled!\n"
          ]
        },
        {
          "metadata": {
            "tags": null
          },
          "name": "stdout",
          "output_type": "stream",
          "text": [
            "EL tamaño de feature id es:  (1, 777)\n",
            "✅ Características de ID=104 guardadas en: /content/drive/MyDrive/features_blocks/features_id_104.pkl\n",
            "Procesando ID: 105...\n"
          ]
        },
        {
          "metadata": {
            "tags": null
          },
          "name": "stderr",
          "output_type": "stream",
          "text": [
            "Feature Extraction: 100%|██████████| 1/1 [00:05<00:00,  5.11s/it]\n",
            "WARNING:tsfresh.feature_extraction.settings:Dependency not available for matrix_profile, this feature will be disabled!\n"
          ]
        },
        {
          "metadata": {
            "tags": null
          },
          "name": "stdout",
          "output_type": "stream",
          "text": [
            "EL tamaño de feature id es:  (1, 777)\n",
            "✅ Características de ID=105 guardadas en: /content/drive/MyDrive/features_blocks/features_id_105.pkl\n",
            "Procesando ID: 106...\n"
          ]
        },
        {
          "metadata": {
            "tags": null
          },
          "name": "stderr",
          "output_type": "stream",
          "text": [
            "Feature Extraction: 100%|██████████| 1/1 [00:04<00:00,  4.37s/it]\n",
            "WARNING:tsfresh.feature_extraction.settings:Dependency not available for matrix_profile, this feature will be disabled!\n"
          ]
        },
        {
          "metadata": {
            "tags": null
          },
          "name": "stdout",
          "output_type": "stream",
          "text": [
            "EL tamaño de feature id es:  (1, 777)\n",
            "✅ Características de ID=106 guardadas en: /content/drive/MyDrive/features_blocks/features_id_106.pkl\n",
            "Procesando ID: 107...\n"
          ]
        },
        {
          "metadata": {
            "tags": null
          },
          "name": "stderr",
          "output_type": "stream",
          "text": [
            "Feature Extraction: 100%|██████████| 1/1 [00:08<00:00,  8.25s/it]\n",
            "WARNING:tsfresh.feature_extraction.settings:Dependency not available for matrix_profile, this feature will be disabled!\n"
          ]
        },
        {
          "metadata": {
            "tags": null
          },
          "name": "stdout",
          "output_type": "stream",
          "text": [
            "EL tamaño de feature id es:  (1, 777)\n",
            "✅ Características de ID=107 guardadas en: /content/drive/MyDrive/features_blocks/features_id_107.pkl\n",
            "Procesando ID: 108...\n"
          ]
        },
        {
          "metadata": {
            "tags": null
          },
          "name": "stderr",
          "output_type": "stream",
          "text": [
            "Feature Extraction: 100%|██████████| 1/1 [00:04<00:00,  4.34s/it]\n",
            "WARNING:tsfresh.feature_extraction.settings:Dependency not available for matrix_profile, this feature will be disabled!\n"
          ]
        },
        {
          "metadata": {
            "tags": null
          },
          "name": "stdout",
          "output_type": "stream",
          "text": [
            "EL tamaño de feature id es:  (1, 777)\n",
            "✅ Características de ID=108 guardadas en: /content/drive/MyDrive/features_blocks/features_id_108.pkl\n",
            "Procesando ID: 109...\n"
          ]
        },
        {
          "metadata": {
            "tags": null
          },
          "name": "stderr",
          "output_type": "stream",
          "text": [
            "Feature Extraction: 100%|██████████| 1/1 [00:04<00:00,  4.25s/it]\n",
            "WARNING:tsfresh.feature_extraction.settings:Dependency not available for matrix_profile, this feature will be disabled!\n"
          ]
        },
        {
          "metadata": {
            "tags": null
          },
          "name": "stdout",
          "output_type": "stream",
          "text": [
            "EL tamaño de feature id es:  (1, 777)\n",
            "✅ Características de ID=109 guardadas en: /content/drive/MyDrive/features_blocks/features_id_109.pkl\n",
            "Procesando ID: 110...\n"
          ]
        },
        {
          "metadata": {
            "tags": null
          },
          "name": "stderr",
          "output_type": "stream",
          "text": [
            "Feature Extraction: 100%|██████████| 1/1 [00:06<00:00,  6.69s/it]\n",
            "WARNING:tsfresh.feature_extraction.settings:Dependency not available for matrix_profile, this feature will be disabled!\n"
          ]
        },
        {
          "metadata": {
            "tags": null
          },
          "name": "stdout",
          "output_type": "stream",
          "text": [
            "EL tamaño de feature id es:  (1, 777)\n",
            "✅ Características de ID=110 guardadas en: /content/drive/MyDrive/features_blocks/features_id_110.pkl\n",
            "Procesando ID: 111...\n"
          ]
        },
        {
          "metadata": {
            "tags": null
          },
          "name": "stderr",
          "output_type": "stream",
          "text": [
            "Feature Extraction: 100%|██████████| 1/1 [00:04<00:00,  4.32s/it]\n",
            "WARNING:tsfresh.feature_extraction.settings:Dependency not available for matrix_profile, this feature will be disabled!\n"
          ]
        },
        {
          "metadata": {
            "tags": null
          },
          "name": "stdout",
          "output_type": "stream",
          "text": [
            "EL tamaño de feature id es:  (1, 777)\n",
            "✅ Características de ID=111 guardadas en: /content/drive/MyDrive/features_blocks/features_id_111.pkl\n",
            "Procesando ID: 112...\n"
          ]
        },
        {
          "metadata": {
            "tags": null
          },
          "name": "stderr",
          "output_type": "stream",
          "text": [
            "Feature Extraction: 100%|██████████| 1/1 [00:04<00:00,  4.77s/it]\n",
            "WARNING:tsfresh.feature_extraction.settings:Dependency not available for matrix_profile, this feature will be disabled!\n"
          ]
        },
        {
          "metadata": {
            "tags": null
          },
          "name": "stdout",
          "output_type": "stream",
          "text": [
            "EL tamaño de feature id es:  (1, 777)\n",
            "✅ Características de ID=112 guardadas en: /content/drive/MyDrive/features_blocks/features_id_112.pkl\n",
            "Procesando ID: 113...\n"
          ]
        },
        {
          "metadata": {
            "tags": null
          },
          "name": "stderr",
          "output_type": "stream",
          "text": [
            "Feature Extraction: 100%|██████████| 1/1 [00:05<00:00,  5.91s/it]\n",
            "WARNING:tsfresh.feature_extraction.settings:Dependency not available for matrix_profile, this feature will be disabled!\n"
          ]
        },
        {
          "metadata": {
            "tags": null
          },
          "name": "stdout",
          "output_type": "stream",
          "text": [
            "EL tamaño de feature id es:  (1, 777)\n",
            "✅ Características de ID=113 guardadas en: /content/drive/MyDrive/features_blocks/features_id_113.pkl\n",
            "Procesando ID: 114...\n"
          ]
        },
        {
          "metadata": {
            "tags": null
          },
          "name": "stderr",
          "output_type": "stream",
          "text": [
            "Feature Extraction: 100%|██████████| 1/1 [00:04<00:00,  4.28s/it]\n",
            "WARNING:tsfresh.feature_extraction.settings:Dependency not available for matrix_profile, this feature will be disabled!\n"
          ]
        },
        {
          "metadata": {
            "tags": null
          },
          "name": "stdout",
          "output_type": "stream",
          "text": [
            "EL tamaño de feature id es:  (1, 777)\n",
            "✅ Características de ID=114 guardadas en: /content/drive/MyDrive/features_blocks/features_id_114.pkl\n",
            "Procesando ID: 115...\n"
          ]
        },
        {
          "metadata": {
            "tags": null
          },
          "name": "stderr",
          "output_type": "stream",
          "text": [
            "Feature Extraction: 100%|██████████| 1/1 [00:06<00:00,  6.08s/it]\n",
            "WARNING:tsfresh.feature_extraction.settings:Dependency not available for matrix_profile, this feature will be disabled!\n"
          ]
        },
        {
          "metadata": {
            "tags": null
          },
          "name": "stdout",
          "output_type": "stream",
          "text": [
            "EL tamaño de feature id es:  (1, 777)\n",
            "✅ Características de ID=115 guardadas en: /content/drive/MyDrive/features_blocks/features_id_115.pkl\n",
            "Procesando ID: 116...\n"
          ]
        },
        {
          "metadata": {
            "tags": null
          },
          "name": "stderr",
          "output_type": "stream",
          "text": [
            "Feature Extraction: 100%|██████████| 1/1 [00:04<00:00,  5.00s/it]\n",
            "WARNING:tsfresh.feature_extraction.settings:Dependency not available for matrix_profile, this feature will be disabled!\n"
          ]
        },
        {
          "metadata": {
            "tags": null
          },
          "name": "stdout",
          "output_type": "stream",
          "text": [
            "EL tamaño de feature id es:  (1, 777)\n",
            "✅ Características de ID=116 guardadas en: /content/drive/MyDrive/features_blocks/features_id_116.pkl\n",
            "Procesando ID: 117...\n"
          ]
        },
        {
          "metadata": {
            "tags": null
          },
          "name": "stderr",
          "output_type": "stream",
          "text": [
            "Feature Extraction: 100%|██████████| 1/1 [00:04<00:00,  4.40s/it]\n",
            "WARNING:tsfresh.feature_extraction.settings:Dependency not available for matrix_profile, this feature will be disabled!\n"
          ]
        },
        {
          "metadata": {
            "tags": null
          },
          "name": "stdout",
          "output_type": "stream",
          "text": [
            "EL tamaño de feature id es:  (1, 777)\n",
            "✅ Características de ID=117 guardadas en: /content/drive/MyDrive/features_blocks/features_id_117.pkl\n",
            "Procesando ID: 118...\n"
          ]
        },
        {
          "metadata": {
            "tags": null
          },
          "name": "stderr",
          "output_type": "stream",
          "text": [
            "Feature Extraction: 100%|██████████| 1/1 [00:08<00:00,  8.29s/it]\n",
            "WARNING:tsfresh.feature_extraction.settings:Dependency not available for matrix_profile, this feature will be disabled!\n"
          ]
        },
        {
          "metadata": {
            "tags": null
          },
          "name": "stdout",
          "output_type": "stream",
          "text": [
            "EL tamaño de feature id es:  (1, 777)\n",
            "✅ Características de ID=118 guardadas en: /content/drive/MyDrive/features_blocks/features_id_118.pkl\n",
            "Procesando ID: 119...\n"
          ]
        },
        {
          "metadata": {
            "tags": null
          },
          "name": "stderr",
          "output_type": "stream",
          "text": [
            "Feature Extraction: 100%|██████████| 1/1 [00:04<00:00,  4.29s/it]\n",
            "WARNING:tsfresh.feature_extraction.settings:Dependency not available for matrix_profile, this feature will be disabled!\n"
          ]
        },
        {
          "metadata": {
            "tags": null
          },
          "name": "stdout",
          "output_type": "stream",
          "text": [
            "EL tamaño de feature id es:  (1, 777)\n",
            "✅ Características de ID=119 guardadas en: /content/drive/MyDrive/features_blocks/features_id_119.pkl\n",
            "Procesando ID: 120...\n"
          ]
        },
        {
          "metadata": {
            "tags": null
          },
          "name": "stderr",
          "output_type": "stream",
          "text": [
            "Feature Extraction: 100%|██████████| 1/1 [00:04<00:00,  4.32s/it]\n",
            "WARNING:tsfresh.feature_extraction.settings:Dependency not available for matrix_profile, this feature will be disabled!\n"
          ]
        },
        {
          "metadata": {
            "tags": null
          },
          "name": "stdout",
          "output_type": "stream",
          "text": [
            "EL tamaño de feature id es:  (1, 777)\n",
            "✅ Características de ID=120 guardadas en: /content/drive/MyDrive/features_blocks/features_id_120.pkl\n",
            "Procesando ID: 121...\n"
          ]
        },
        {
          "metadata": {
            "tags": null
          },
          "name": "stderr",
          "output_type": "stream",
          "text": [
            "Feature Extraction: 100%|██████████| 1/1 [00:06<00:00,  6.94s/it]\n",
            "WARNING:tsfresh.feature_extraction.settings:Dependency not available for matrix_profile, this feature will be disabled!\n"
          ]
        },
        {
          "metadata": {
            "tags": null
          },
          "name": "stdout",
          "output_type": "stream",
          "text": [
            "EL tamaño de feature id es:  (1, 777)\n",
            "✅ Características de ID=121 guardadas en: /content/drive/MyDrive/features_blocks/features_id_121.pkl\n",
            "Procesando ID: 122...\n"
          ]
        },
        {
          "metadata": {
            "tags": null
          },
          "name": "stderr",
          "output_type": "stream",
          "text": [
            "Feature Extraction: 100%|██████████| 1/1 [00:04<00:00,  4.32s/it]\n",
            "WARNING:tsfresh.feature_extraction.settings:Dependency not available for matrix_profile, this feature will be disabled!\n"
          ]
        },
        {
          "metadata": {
            "tags": null
          },
          "name": "stdout",
          "output_type": "stream",
          "text": [
            "EL tamaño de feature id es:  (1, 777)\n",
            "✅ Características de ID=122 guardadas en: /content/drive/MyDrive/features_blocks/features_id_122.pkl\n",
            "Procesando ID: 123...\n"
          ]
        },
        {
          "metadata": {
            "tags": null
          },
          "name": "stderr",
          "output_type": "stream",
          "text": [
            "Feature Extraction: 100%|██████████| 1/1 [00:04<00:00,  4.91s/it]\n",
            "WARNING:tsfresh.feature_extraction.settings:Dependency not available for matrix_profile, this feature will be disabled!\n"
          ]
        },
        {
          "metadata": {
            "tags": null
          },
          "name": "stdout",
          "output_type": "stream",
          "text": [
            "EL tamaño de feature id es:  (1, 777)\n",
            "✅ Características de ID=123 guardadas en: /content/drive/MyDrive/features_blocks/features_id_123.pkl\n",
            "Procesando ID: 124...\n"
          ]
        },
        {
          "metadata": {
            "tags": null
          },
          "name": "stderr",
          "output_type": "stream",
          "text": [
            "Feature Extraction: 100%|██████████| 1/1 [00:05<00:00,  5.80s/it]\n",
            "WARNING:tsfresh.feature_extraction.settings:Dependency not available for matrix_profile, this feature will be disabled!\n"
          ]
        },
        {
          "metadata": {
            "tags": null
          },
          "name": "stdout",
          "output_type": "stream",
          "text": [
            "EL tamaño de feature id es:  (1, 777)\n",
            "✅ Características de ID=124 guardadas en: /content/drive/MyDrive/features_blocks/features_id_124.pkl\n",
            "Procesando ID: 125...\n"
          ]
        },
        {
          "metadata": {
            "tags": null
          },
          "name": "stderr",
          "output_type": "stream",
          "text": [
            "Feature Extraction: 100%|██████████| 1/1 [00:04<00:00,  4.35s/it]\n",
            "WARNING:tsfresh.feature_extraction.settings:Dependency not available for matrix_profile, this feature will be disabled!\n"
          ]
        },
        {
          "metadata": {
            "tags": null
          },
          "name": "stdout",
          "output_type": "stream",
          "text": [
            "EL tamaño de feature id es:  (1, 777)\n",
            "✅ Características de ID=125 guardadas en: /content/drive/MyDrive/features_blocks/features_id_125.pkl\n",
            "Procesando ID: 126...\n"
          ]
        },
        {
          "metadata": {
            "tags": null
          },
          "name": "stderr",
          "output_type": "stream",
          "text": [
            "Feature Extraction: 100%|██████████| 1/1 [00:07<00:00,  7.28s/it]\n",
            "WARNING:tsfresh.feature_extraction.settings:Dependency not available for matrix_profile, this feature will be disabled!\n"
          ]
        },
        {
          "metadata": {
            "tags": null
          },
          "name": "stdout",
          "output_type": "stream",
          "text": [
            "EL tamaño de feature id es:  (1, 777)\n",
            "✅ Características de ID=126 guardadas en: /content/drive/MyDrive/features_blocks/features_id_126.pkl\n",
            "Procesando ID: 127...\n"
          ]
        },
        {
          "metadata": {
            "tags": null
          },
          "name": "stderr",
          "output_type": "stream",
          "text": [
            "Feature Extraction: 100%|██████████| 1/1 [00:04<00:00,  4.52s/it]\n",
            "WARNING:tsfresh.feature_extraction.settings:Dependency not available for matrix_profile, this feature will be disabled!\n"
          ]
        },
        {
          "metadata": {
            "tags": null
          },
          "name": "stdout",
          "output_type": "stream",
          "text": [
            "EL tamaño de feature id es:  (1, 777)\n",
            "✅ Características de ID=127 guardadas en: /content/drive/MyDrive/features_blocks/features_id_127.pkl\n",
            "Procesando ID: 128...\n"
          ]
        },
        {
          "metadata": {
            "tags": null
          },
          "name": "stderr",
          "output_type": "stream",
          "text": [
            "Feature Extraction: 100%|██████████| 1/1 [00:04<00:00,  4.39s/it]\n",
            "WARNING:tsfresh.feature_extraction.settings:Dependency not available for matrix_profile, this feature will be disabled!\n"
          ]
        },
        {
          "metadata": {
            "tags": null
          },
          "name": "stdout",
          "output_type": "stream",
          "text": [
            "EL tamaño de feature id es:  (1, 777)\n",
            "✅ Características de ID=128 guardadas en: /content/drive/MyDrive/features_blocks/features_id_128.pkl\n",
            "Procesando ID: 129...\n"
          ]
        },
        {
          "metadata": {
            "tags": null
          },
          "name": "stderr",
          "output_type": "stream",
          "text": [
            "Feature Extraction: 100%|██████████| 1/1 [00:07<00:00,  7.84s/it]\n",
            "WARNING:tsfresh.feature_extraction.settings:Dependency not available for matrix_profile, this feature will be disabled!\n"
          ]
        },
        {
          "metadata": {
            "tags": null
          },
          "name": "stdout",
          "output_type": "stream",
          "text": [
            "EL tamaño de feature id es:  (1, 777)\n",
            "✅ Características de ID=129 guardadas en: /content/drive/MyDrive/features_blocks/features_id_129.pkl\n",
            "Procesando ID: 130...\n"
          ]
        },
        {
          "metadata": {
            "tags": null
          },
          "name": "stderr",
          "output_type": "stream",
          "text": [
            "Feature Extraction: 100%|██████████| 1/1 [00:04<00:00,  4.26s/it]\n",
            "WARNING:tsfresh.feature_extraction.settings:Dependency not available for matrix_profile, this feature will be disabled!\n"
          ]
        },
        {
          "metadata": {
            "tags": null
          },
          "name": "stdout",
          "output_type": "stream",
          "text": [
            "EL tamaño de feature id es:  (1, 777)\n",
            "✅ Características de ID=130 guardadas en: /content/drive/MyDrive/features_blocks/features_id_130.pkl\n",
            "Procesando ID: 131...\n"
          ]
        },
        {
          "metadata": {
            "tags": null
          },
          "name": "stderr",
          "output_type": "stream",
          "text": [
            "Feature Extraction: 100%|██████████| 1/1 [00:04<00:00,  4.32s/it]\n",
            "WARNING:tsfresh.feature_extraction.settings:Dependency not available for matrix_profile, this feature will be disabled!\n"
          ]
        },
        {
          "metadata": {
            "tags": null
          },
          "name": "stdout",
          "output_type": "stream",
          "text": [
            "EL tamaño de feature id es:  (1, 777)\n",
            "✅ Características de ID=131 guardadas en: /content/drive/MyDrive/features_blocks/features_id_131.pkl\n",
            "Procesando ID: 132...\n"
          ]
        },
        {
          "metadata": {
            "tags": null
          },
          "name": "stderr",
          "output_type": "stream",
          "text": [
            "Feature Extraction: 100%|██████████| 1/1 [00:06<00:00,  6.59s/it]\n",
            "WARNING:tsfresh.feature_extraction.settings:Dependency not available for matrix_profile, this feature will be disabled!\n"
          ]
        },
        {
          "metadata": {
            "tags": null
          },
          "name": "stdout",
          "output_type": "stream",
          "text": [
            "EL tamaño de feature id es:  (1, 777)\n",
            "✅ Características de ID=132 guardadas en: /content/drive/MyDrive/features_blocks/features_id_132.pkl\n",
            "Procesando ID: 133...\n"
          ]
        },
        {
          "metadata": {
            "tags": null
          },
          "name": "stderr",
          "output_type": "stream",
          "text": [
            "Feature Extraction: 100%|██████████| 1/1 [00:04<00:00,  4.23s/it]\n",
            "WARNING:tsfresh.feature_extraction.settings:Dependency not available for matrix_profile, this feature will be disabled!\n"
          ]
        },
        {
          "metadata": {
            "tags": null
          },
          "name": "stdout",
          "output_type": "stream",
          "text": [
            "EL tamaño de feature id es:  (1, 777)\n",
            "✅ Características de ID=133 guardadas en: /content/drive/MyDrive/features_blocks/features_id_133.pkl\n",
            "Procesando ID: 134...\n"
          ]
        },
        {
          "metadata": {
            "tags": null
          },
          "name": "stderr",
          "output_type": "stream",
          "text": [
            "Feature Extraction: 100%|██████████| 1/1 [00:05<00:00,  5.85s/it]\n",
            "WARNING:tsfresh.feature_extraction.settings:Dependency not available for matrix_profile, this feature will be disabled!\n"
          ]
        },
        {
          "metadata": {
            "tags": null
          },
          "name": "stdout",
          "output_type": "stream",
          "text": [
            "EL tamaño de feature id es:  (1, 777)\n",
            "✅ Características de ID=134 guardadas en: /content/drive/MyDrive/features_blocks/features_id_134.pkl\n",
            "Procesando ID: 135...\n"
          ]
        },
        {
          "metadata": {
            "tags": null
          },
          "name": "stderr",
          "output_type": "stream",
          "text": [
            "Feature Extraction: 100%|██████████| 1/1 [00:05<00:00,  5.44s/it]\n",
            "WARNING:tsfresh.feature_extraction.settings:Dependency not available for matrix_profile, this feature will be disabled!\n"
          ]
        },
        {
          "metadata": {
            "tags": null
          },
          "name": "stdout",
          "output_type": "stream",
          "text": [
            "EL tamaño de feature id es:  (1, 777)\n",
            "✅ Características de ID=135 guardadas en: /content/drive/MyDrive/features_blocks/features_id_135.pkl\n",
            "Procesando ID: 136...\n"
          ]
        },
        {
          "metadata": {
            "tags": null
          },
          "name": "stderr",
          "output_type": "stream",
          "text": [
            "Feature Extraction: 100%|██████████| 1/1 [00:04<00:00,  4.32s/it]\n",
            "WARNING:tsfresh.feature_extraction.settings:Dependency not available for matrix_profile, this feature will be disabled!\n"
          ]
        },
        {
          "metadata": {
            "tags": null
          },
          "name": "stdout",
          "output_type": "stream",
          "text": [
            "EL tamaño de feature id es:  (1, 777)\n",
            "✅ Características de ID=136 guardadas en: /content/drive/MyDrive/features_blocks/features_id_136.pkl\n",
            "Procesando ID: 137...\n"
          ]
        },
        {
          "metadata": {
            "tags": null
          },
          "name": "stderr",
          "output_type": "stream",
          "text": [
            "Feature Extraction: 100%|██████████| 1/1 [00:07<00:00,  7.95s/it]\n",
            "WARNING:tsfresh.feature_extraction.settings:Dependency not available for matrix_profile, this feature will be disabled!\n"
          ]
        },
        {
          "metadata": {
            "tags": null
          },
          "name": "stdout",
          "output_type": "stream",
          "text": [
            "EL tamaño de feature id es:  (1, 777)\n",
            "✅ Características de ID=137 guardadas en: /content/drive/MyDrive/features_blocks/features_id_137.pkl\n",
            "Procesando ID: 138...\n"
          ]
        },
        {
          "metadata": {
            "tags": null
          },
          "name": "stderr",
          "output_type": "stream",
          "text": [
            "Feature Extraction: 100%|██████████| 1/1 [00:04<00:00,  4.35s/it]\n",
            "WARNING:tsfresh.feature_extraction.settings:Dependency not available for matrix_profile, this feature will be disabled!\n"
          ]
        },
        {
          "metadata": {
            "tags": null
          },
          "name": "stdout",
          "output_type": "stream",
          "text": [
            "EL tamaño de feature id es:  (1, 777)\n",
            "✅ Características de ID=138 guardadas en: /content/drive/MyDrive/features_blocks/features_id_138.pkl\n",
            "Procesando ID: 139...\n"
          ]
        },
        {
          "metadata": {
            "tags": null
          },
          "name": "stderr",
          "output_type": "stream",
          "text": [
            "Feature Extraction: 100%|██████████| 1/1 [00:04<00:00,  4.38s/it]\n",
            "WARNING:tsfresh.feature_extraction.settings:Dependency not available for matrix_profile, this feature will be disabled!\n"
          ]
        },
        {
          "metadata": {
            "tags": null
          },
          "name": "stdout",
          "output_type": "stream",
          "text": [
            "EL tamaño de feature id es:  (1, 777)\n",
            "✅ Características de ID=139 guardadas en: /content/drive/MyDrive/features_blocks/features_id_139.pkl\n",
            "Procesando ID: 140...\n"
          ]
        },
        {
          "metadata": {
            "tags": null
          },
          "name": "stderr",
          "output_type": "stream",
          "text": [
            "Feature Extraction: 100%|██████████| 1/1 [00:07<00:00,  7.24s/it]\n",
            "WARNING:tsfresh.feature_extraction.settings:Dependency not available for matrix_profile, this feature will be disabled!\n"
          ]
        },
        {
          "metadata": {
            "tags": null
          },
          "name": "stdout",
          "output_type": "stream",
          "text": [
            "EL tamaño de feature id es:  (1, 777)\n",
            "✅ Características de ID=140 guardadas en: /content/drive/MyDrive/features_blocks/features_id_140.pkl\n",
            "Procesando ID: 141...\n"
          ]
        },
        {
          "metadata": {
            "tags": null
          },
          "name": "stderr",
          "output_type": "stream",
          "text": [
            "Feature Extraction: 100%|██████████| 1/1 [00:04<00:00,  4.21s/it]\n",
            "WARNING:tsfresh.feature_extraction.settings:Dependency not available for matrix_profile, this feature will be disabled!\n"
          ]
        },
        {
          "metadata": {
            "tags": null
          },
          "name": "stdout",
          "output_type": "stream",
          "text": [
            "EL tamaño de feature id es:  (1, 777)\n",
            "✅ Características de ID=141 guardadas en: /content/drive/MyDrive/features_blocks/features_id_141.pkl\n",
            "Procesando ID: 142...\n"
          ]
        },
        {
          "metadata": {
            "tags": null
          },
          "name": "stderr",
          "output_type": "stream",
          "text": [
            "Feature Extraction: 100%|██████████| 1/1 [00:04<00:00,  4.80s/it]\n",
            "WARNING:tsfresh.feature_extraction.settings:Dependency not available for matrix_profile, this feature will be disabled!\n"
          ]
        },
        {
          "metadata": {
            "tags": null
          },
          "name": "stdout",
          "output_type": "stream",
          "text": [
            "EL tamaño de feature id es:  (1, 777)\n",
            "✅ Características de ID=142 guardadas en: /content/drive/MyDrive/features_blocks/features_id_142.pkl\n",
            "Procesando ID: 143...\n"
          ]
        },
        {
          "metadata": {
            "tags": null
          },
          "name": "stderr",
          "output_type": "stream",
          "text": [
            "Feature Extraction: 100%|██████████| 1/1 [00:05<00:00,  5.76s/it]\n",
            "WARNING:tsfresh.feature_extraction.settings:Dependency not available for matrix_profile, this feature will be disabled!\n"
          ]
        },
        {
          "metadata": {
            "tags": null
          },
          "name": "stdout",
          "output_type": "stream",
          "text": [
            "EL tamaño de feature id es:  (1, 777)\n",
            "✅ Características de ID=143 guardadas en: /content/drive/MyDrive/features_blocks/features_id_143.pkl\n",
            "Procesando ID: 144...\n"
          ]
        },
        {
          "metadata": {
            "tags": null
          },
          "name": "stderr",
          "output_type": "stream",
          "text": [
            "Feature Extraction: 100%|██████████| 1/1 [00:04<00:00,  4.39s/it]\n",
            "WARNING:tsfresh.feature_extraction.settings:Dependency not available for matrix_profile, this feature will be disabled!\n"
          ]
        },
        {
          "metadata": {
            "tags": null
          },
          "name": "stdout",
          "output_type": "stream",
          "text": [
            "EL tamaño de feature id es:  (1, 777)\n",
            "✅ Características de ID=144 guardadas en: /content/drive/MyDrive/features_blocks/features_id_144.pkl\n",
            "Procesando ID: 145...\n"
          ]
        },
        {
          "metadata": {
            "tags": null
          },
          "name": "stderr",
          "output_type": "stream",
          "text": [
            "Feature Extraction: 100%|██████████| 1/1 [00:07<00:00,  7.30s/it]\n",
            "WARNING:tsfresh.feature_extraction.settings:Dependency not available for matrix_profile, this feature will be disabled!\n"
          ]
        },
        {
          "metadata": {
            "tags": null
          },
          "name": "stdout",
          "output_type": "stream",
          "text": [
            "EL tamaño de feature id es:  (1, 777)\n",
            "✅ Características de ID=145 guardadas en: /content/drive/MyDrive/features_blocks/features_id_145.pkl\n",
            "Procesando ID: 146...\n"
          ]
        },
        {
          "metadata": {
            "tags": null
          },
          "name": "stderr",
          "output_type": "stream",
          "text": [
            "Feature Extraction: 100%|██████████| 1/1 [00:04<00:00,  4.69s/it]\n",
            "WARNING:tsfresh.feature_extraction.settings:Dependency not available for matrix_profile, this feature will be disabled!\n"
          ]
        },
        {
          "metadata": {
            "tags": null
          },
          "name": "stdout",
          "output_type": "stream",
          "text": [
            "EL tamaño de feature id es:  (1, 777)\n",
            "✅ Características de ID=146 guardadas en: /content/drive/MyDrive/features_blocks/features_id_146.pkl\n",
            "Procesando ID: 147...\n"
          ]
        },
        {
          "metadata": {
            "tags": null
          },
          "name": "stderr",
          "output_type": "stream",
          "text": [
            "Feature Extraction: 100%|██████████| 1/1 [00:04<00:00,  4.31s/it]\n",
            "WARNING:tsfresh.feature_extraction.settings:Dependency not available for matrix_profile, this feature will be disabled!\n"
          ]
        },
        {
          "metadata": {
            "tags": null
          },
          "name": "stdout",
          "output_type": "stream",
          "text": [
            "EL tamaño de feature id es:  (1, 777)\n",
            "✅ Características de ID=147 guardadas en: /content/drive/MyDrive/features_blocks/features_id_147.pkl\n",
            "Procesando ID: 148...\n"
          ]
        },
        {
          "metadata": {
            "tags": null
          },
          "name": "stderr",
          "output_type": "stream",
          "text": [
            "Feature Extraction: 100%|██████████| 1/1 [00:07<00:00,  7.83s/it]\n",
            "WARNING:tsfresh.feature_extraction.settings:Dependency not available for matrix_profile, this feature will be disabled!\n"
          ]
        },
        {
          "metadata": {
            "tags": null
          },
          "name": "stdout",
          "output_type": "stream",
          "text": [
            "EL tamaño de feature id es:  (1, 777)\n",
            "✅ Características de ID=148 guardadas en: /content/drive/MyDrive/features_blocks/features_id_148.pkl\n",
            "Procesando ID: 149...\n"
          ]
        },
        {
          "metadata": {
            "tags": null
          },
          "name": "stderr",
          "output_type": "stream",
          "text": [
            "Feature Extraction: 100%|██████████| 1/1 [00:04<00:00,  4.30s/it]\n",
            "WARNING:tsfresh.feature_extraction.settings:Dependency not available for matrix_profile, this feature will be disabled!\n"
          ]
        },
        {
          "metadata": {
            "tags": null
          },
          "name": "stdout",
          "output_type": "stream",
          "text": [
            "EL tamaño de feature id es:  (1, 777)\n",
            "✅ Características de ID=149 guardadas en: /content/drive/MyDrive/features_blocks/features_id_149.pkl\n",
            "Procesando ID: 150...\n"
          ]
        },
        {
          "metadata": {
            "tags": null
          },
          "name": "stderr",
          "output_type": "stream",
          "text": [
            "Feature Extraction: 100%|██████████| 1/1 [00:05<00:00,  5.01s/it]\n",
            "WARNING:tsfresh.feature_extraction.settings:Dependency not available for matrix_profile, this feature will be disabled!\n"
          ]
        },
        {
          "metadata": {
            "tags": null
          },
          "name": "stdout",
          "output_type": "stream",
          "text": [
            "EL tamaño de feature id es:  (1, 777)\n",
            "✅ Características de ID=150 guardadas en: /content/drive/MyDrive/features_blocks/features_id_150.pkl\n",
            "Procesando ID: 151...\n"
          ]
        },
        {
          "metadata": {
            "tags": null
          },
          "name": "stderr",
          "output_type": "stream",
          "text": [
            "Feature Extraction: 100%|██████████| 1/1 [00:05<00:00,  5.83s/it]\n",
            "WARNING:tsfresh.feature_extraction.settings:Dependency not available for matrix_profile, this feature will be disabled!\n"
          ]
        },
        {
          "metadata": {
            "tags": null
          },
          "name": "stdout",
          "output_type": "stream",
          "text": [
            "EL tamaño de feature id es:  (1, 777)\n",
            "✅ Características de ID=151 guardadas en: /content/drive/MyDrive/features_blocks/features_id_151.pkl\n",
            "Procesando ID: 152...\n"
          ]
        },
        {
          "metadata": {
            "tags": null
          },
          "name": "stderr",
          "output_type": "stream",
          "text": [
            "Feature Extraction: 100%|██████████| 1/1 [00:04<00:00,  4.35s/it]\n",
            "WARNING:tsfresh.feature_extraction.settings:Dependency not available for matrix_profile, this feature will be disabled!\n"
          ]
        },
        {
          "metadata": {
            "tags": null
          },
          "name": "stdout",
          "output_type": "stream",
          "text": [
            "EL tamaño de feature id es:  (1, 777)\n",
            "✅ Características de ID=152 guardadas en: /content/drive/MyDrive/features_blocks/features_id_152.pkl\n",
            "Procesando ID: 153...\n"
          ]
        },
        {
          "metadata": {
            "tags": null
          },
          "name": "stderr",
          "output_type": "stream",
          "text": [
            "Feature Extraction: 100%|██████████| 1/1 [00:06<00:00,  6.47s/it]\n",
            "WARNING:tsfresh.feature_extraction.settings:Dependency not available for matrix_profile, this feature will be disabled!\n"
          ]
        },
        {
          "metadata": {
            "tags": null
          },
          "name": "stdout",
          "output_type": "stream",
          "text": [
            "EL tamaño de feature id es:  (1, 777)\n",
            "✅ Características de ID=153 guardadas en: /content/drive/MyDrive/features_blocks/features_id_153.pkl\n",
            "Procesando ID: 154...\n"
          ]
        },
        {
          "metadata": {
            "tags": null
          },
          "name": "stderr",
          "output_type": "stream",
          "text": [
            "Feature Extraction: 100%|██████████| 1/1 [00:04<00:00,  4.92s/it]\n",
            "WARNING:tsfresh.feature_extraction.settings:Dependency not available for matrix_profile, this feature will be disabled!\n"
          ]
        },
        {
          "metadata": {
            "tags": null
          },
          "name": "stdout",
          "output_type": "stream",
          "text": [
            "EL tamaño de feature id es:  (1, 777)\n",
            "✅ Características de ID=154 guardadas en: /content/drive/MyDrive/features_blocks/features_id_154.pkl\n",
            "Procesando ID: 155...\n"
          ]
        },
        {
          "metadata": {
            "tags": null
          },
          "name": "stderr",
          "output_type": "stream",
          "text": [
            "Feature Extraction: 100%|██████████| 1/1 [00:04<00:00,  4.30s/it]\n",
            "WARNING:tsfresh.feature_extraction.settings:Dependency not available for matrix_profile, this feature will be disabled!\n"
          ]
        },
        {
          "metadata": {
            "tags": null
          },
          "name": "stdout",
          "output_type": "stream",
          "text": [
            "EL tamaño de feature id es:  (1, 777)\n",
            "✅ Características de ID=155 guardadas en: /content/drive/MyDrive/features_blocks/features_id_155.pkl\n",
            "Procesando ID: 156...\n"
          ]
        },
        {
          "metadata": {
            "tags": null
          },
          "name": "stderr",
          "output_type": "stream",
          "text": [
            "Feature Extraction: 100%|██████████| 1/1 [00:08<00:00,  8.40s/it]\n",
            "WARNING:tsfresh.feature_extraction.settings:Dependency not available for matrix_profile, this feature will be disabled!\n"
          ]
        },
        {
          "metadata": {
            "tags": null
          },
          "name": "stdout",
          "output_type": "stream",
          "text": [
            "EL tamaño de feature id es:  (1, 777)\n",
            "✅ Características de ID=156 guardadas en: /content/drive/MyDrive/features_blocks/features_id_156.pkl\n",
            "Procesando ID: 157...\n"
          ]
        },
        {
          "metadata": {
            "tags": null
          },
          "name": "stderr",
          "output_type": "stream",
          "text": [
            "Feature Extraction: 100%|██████████| 1/1 [00:04<00:00,  4.34s/it]\n",
            "WARNING:tsfresh.feature_extraction.settings:Dependency not available for matrix_profile, this feature will be disabled!\n"
          ]
        },
        {
          "metadata": {
            "tags": null
          },
          "name": "stdout",
          "output_type": "stream",
          "text": [
            "EL tamaño de feature id es:  (1, 777)\n",
            "✅ Características de ID=157 guardadas en: /content/drive/MyDrive/features_blocks/features_id_157.pkl\n",
            "Procesando ID: 158...\n"
          ]
        },
        {
          "metadata": {
            "tags": null
          },
          "name": "stderr",
          "output_type": "stream",
          "text": [
            "Feature Extraction: 100%|██████████| 1/1 [00:04<00:00,  4.44s/it]\n",
            "WARNING:tsfresh.feature_extraction.settings:Dependency not available for matrix_profile, this feature will be disabled!\n"
          ]
        },
        {
          "metadata": {
            "tags": null
          },
          "name": "stdout",
          "output_type": "stream",
          "text": [
            "EL tamaño de feature id es:  (1, 777)\n",
            "✅ Características de ID=158 guardadas en: /content/drive/MyDrive/features_blocks/features_id_158.pkl\n",
            "Procesando ID: 159...\n"
          ]
        },
        {
          "metadata": {
            "tags": null
          },
          "name": "stderr",
          "output_type": "stream",
          "text": [
            "Feature Extraction: 100%|██████████| 1/1 [00:06<00:00,  6.22s/it]\n",
            "WARNING:tsfresh.feature_extraction.settings:Dependency not available for matrix_profile, this feature will be disabled!\n"
          ]
        },
        {
          "metadata": {
            "tags": null
          },
          "name": "stdout",
          "output_type": "stream",
          "text": [
            "EL tamaño de feature id es:  (1, 777)\n",
            "✅ Características de ID=159 guardadas en: /content/drive/MyDrive/features_blocks/features_id_159.pkl\n",
            "Procesando ID: 160...\n"
          ]
        },
        {
          "metadata": {
            "tags": null
          },
          "name": "stderr",
          "output_type": "stream",
          "text": [
            "Feature Extraction: 100%|██████████| 1/1 [00:04<00:00,  4.48s/it]\n",
            "WARNING:tsfresh.feature_extraction.settings:Dependency not available for matrix_profile, this feature will be disabled!\n"
          ]
        },
        {
          "metadata": {
            "tags": null
          },
          "name": "stdout",
          "output_type": "stream",
          "text": [
            "EL tamaño de feature id es:  (1, 777)\n",
            "✅ Características de ID=160 guardadas en: /content/drive/MyDrive/features_blocks/features_id_160.pkl\n",
            "Procesando ID: 161...\n"
          ]
        },
        {
          "output_type": "stream",
          "name": "stderr",
          "text": [
            "Feature Extraction: 100%|██████████| 1/1 [00:06<00:00,  6.35s/it]\n",
            "WARNING:tsfresh.feature_extraction.settings:Dependency not available for matrix_profile, this feature will be disabled!\n"
          ]
        },
        {
          "output_type": "stream",
          "name": "stdout",
          "text": [
            "EL tamaño de feature id es:  (1, 777)\n",
            "✅ Características de ID=161 guardadas en: /content/drive/MyDrive/features_blocks/features_id_161.pkl\n",
            "Procesando ID: 162...\n"
          ]
        },
        {
          "output_type": "stream",
          "name": "stderr",
          "text": [
            "Feature Extraction: 100%|██████████| 1/1 [00:04<00:00,  4.98s/it]\n",
            "WARNING:tsfresh.feature_extraction.settings:Dependency not available for matrix_profile, this feature will be disabled!\n"
          ]
        },
        {
          "output_type": "stream",
          "name": "stdout",
          "text": [
            "EL tamaño de feature id es:  (1, 777)\n",
            "✅ Características de ID=162 guardadas en: /content/drive/MyDrive/features_blocks/features_id_162.pkl\n",
            "Procesando ID: 163...\n"
          ]
        },
        {
          "output_type": "stream",
          "name": "stderr",
          "text": [
            "Feature Extraction: 100%|██████████| 1/1 [00:04<00:00,  4.33s/it]\n",
            "WARNING:tsfresh.feature_extraction.settings:Dependency not available for matrix_profile, this feature will be disabled!\n"
          ]
        },
        {
          "output_type": "stream",
          "name": "stdout",
          "text": [
            "EL tamaño de feature id es:  (1, 777)\n",
            "✅ Características de ID=163 guardadas en: /content/drive/MyDrive/features_blocks/features_id_163.pkl\n",
            "Procesando ID: 164...\n"
          ]
        },
        {
          "output_type": "stream",
          "name": "stderr",
          "text": [
            "Feature Extraction: 100%|██████████| 1/1 [00:07<00:00,  7.81s/it]\n",
            "WARNING:tsfresh.feature_extraction.settings:Dependency not available for matrix_profile, this feature will be disabled!\n"
          ]
        },
        {
          "output_type": "stream",
          "name": "stdout",
          "text": [
            "EL tamaño de feature id es:  (1, 777)\n",
            "✅ Características de ID=164 guardadas en: /content/drive/MyDrive/features_blocks/features_id_164.pkl\n",
            "Procesando ID: 165...\n"
          ]
        },
        {
          "output_type": "stream",
          "name": "stderr",
          "text": [
            "Feature Extraction: 100%|██████████| 1/1 [00:04<00:00,  4.44s/it]\n",
            "WARNING:tsfresh.feature_extraction.settings:Dependency not available for matrix_profile, this feature will be disabled!\n"
          ]
        },
        {
          "output_type": "stream",
          "name": "stdout",
          "text": [
            "EL tamaño de feature id es:  (1, 777)\n",
            "✅ Características de ID=165 guardadas en: /content/drive/MyDrive/features_blocks/features_id_165.pkl\n",
            "Procesando ID: 166...\n"
          ]
        },
        {
          "output_type": "stream",
          "name": "stderr",
          "text": [
            "Feature Extraction: 100%|██████████| 1/1 [00:04<00:00,  4.55s/it]\n",
            "WARNING:tsfresh.feature_extraction.settings:Dependency not available for matrix_profile, this feature will be disabled!\n"
          ]
        },
        {
          "output_type": "stream",
          "name": "stdout",
          "text": [
            "EL tamaño de feature id es:  (1, 777)\n",
            "✅ Características de ID=166 guardadas en: /content/drive/MyDrive/features_blocks/features_id_166.pkl\n",
            "Procesando ID: 167...\n"
          ]
        },
        {
          "output_type": "stream",
          "name": "stderr",
          "text": [
            "Feature Extraction: 100%|██████████| 1/1 [00:06<00:00,  6.25s/it]\n",
            "WARNING:tsfresh.feature_extraction.settings:Dependency not available for matrix_profile, this feature will be disabled!\n"
          ]
        },
        {
          "output_type": "stream",
          "name": "stdout",
          "text": [
            "EL tamaño de feature id es:  (1, 777)\n",
            "✅ Características de ID=167 guardadas en: /content/drive/MyDrive/features_blocks/features_id_167.pkl\n",
            "Procesando ID: 168...\n"
          ]
        },
        {
          "output_type": "stream",
          "name": "stderr",
          "text": [
            "Feature Extraction: 100%|██████████| 1/1 [00:04<00:00,  4.29s/it]\n",
            "WARNING:tsfresh.feature_extraction.settings:Dependency not available for matrix_profile, this feature will be disabled!\n"
          ]
        },
        {
          "output_type": "stream",
          "name": "stdout",
          "text": [
            "EL tamaño de feature id es:  (1, 777)\n",
            "✅ Características de ID=168 guardadas en: /content/drive/MyDrive/features_blocks/features_id_168.pkl\n",
            "Procesando ID: 169...\n"
          ]
        },
        {
          "output_type": "stream",
          "name": "stderr",
          "text": [
            "Feature Extraction: 100%|██████████| 1/1 [00:06<00:00,  6.81s/it]\n",
            "WARNING:tsfresh.feature_extraction.settings:Dependency not available for matrix_profile, this feature will be disabled!\n"
          ]
        },
        {
          "output_type": "stream",
          "name": "stdout",
          "text": [
            "EL tamaño de feature id es:  (1, 777)\n",
            "✅ Características de ID=169 guardadas en: /content/drive/MyDrive/features_blocks/features_id_169.pkl\n",
            "Procesando ID: 170...\n"
          ]
        },
        {
          "output_type": "stream",
          "name": "stderr",
          "text": [
            "Feature Extraction: 100%|██████████| 1/1 [00:04<00:00,  4.59s/it]\n",
            "WARNING:tsfresh.feature_extraction.settings:Dependency not available for matrix_profile, this feature will be disabled!\n"
          ]
        },
        {
          "output_type": "stream",
          "name": "stdout",
          "text": [
            "EL tamaño de feature id es:  (1, 777)\n",
            "✅ Características de ID=170 guardadas en: /content/drive/MyDrive/features_blocks/features_id_170.pkl\n",
            "Procesando ID: 171...\n"
          ]
        },
        {
          "output_type": "stream",
          "name": "stderr",
          "text": [
            "Feature Extraction: 100%|██████████| 1/1 [00:04<00:00,  4.45s/it]\n",
            "WARNING:tsfresh.feature_extraction.settings:Dependency not available for matrix_profile, this feature will be disabled!\n"
          ]
        },
        {
          "output_type": "stream",
          "name": "stdout",
          "text": [
            "EL tamaño de feature id es:  (1, 777)\n",
            "✅ Características de ID=171 guardadas en: /content/drive/MyDrive/features_blocks/features_id_171.pkl\n",
            "Procesando ID: 172...\n"
          ]
        },
        {
          "output_type": "stream",
          "name": "stderr",
          "text": [
            "Feature Extraction: 100%|██████████| 1/1 [00:07<00:00,  7.64s/it]\n",
            "WARNING:tsfresh.feature_extraction.settings:Dependency not available for matrix_profile, this feature will be disabled!\n"
          ]
        },
        {
          "output_type": "stream",
          "name": "stdout",
          "text": [
            "EL tamaño de feature id es:  (1, 777)\n",
            "✅ Características de ID=172 guardadas en: /content/drive/MyDrive/features_blocks/features_id_172.pkl\n",
            "Procesando ID: 173...\n"
          ]
        },
        {
          "output_type": "stream",
          "name": "stderr",
          "text": [
            "Feature Extraction: 100%|██████████| 1/1 [00:04<00:00,  4.36s/it]\n",
            "WARNING:tsfresh.feature_extraction.settings:Dependency not available for matrix_profile, this feature will be disabled!\n"
          ]
        },
        {
          "output_type": "stream",
          "name": "stdout",
          "text": [
            "EL tamaño de feature id es:  (1, 777)\n",
            "✅ Características de ID=173 guardadas en: /content/drive/MyDrive/features_blocks/features_id_173.pkl\n",
            "Procesando ID: 174...\n"
          ]
        },
        {
          "output_type": "stream",
          "name": "stderr",
          "text": [
            "Feature Extraction: 100%|██████████| 1/1 [00:04<00:00,  4.75s/it]\n",
            "WARNING:tsfresh.feature_extraction.settings:Dependency not available for matrix_profile, this feature will be disabled!\n"
          ]
        },
        {
          "output_type": "stream",
          "name": "stdout",
          "text": [
            "EL tamaño de feature id es:  (1, 777)\n",
            "✅ Características de ID=174 guardadas en: /content/drive/MyDrive/features_blocks/features_id_174.pkl\n",
            "Procesando ID: 175...\n"
          ]
        },
        {
          "output_type": "stream",
          "name": "stderr",
          "text": [
            "Feature Extraction: 100%|██████████| 1/1 [00:05<00:00,  5.67s/it]\n",
            "WARNING:tsfresh.feature_extraction.settings:Dependency not available for matrix_profile, this feature will be disabled!\n"
          ]
        },
        {
          "output_type": "stream",
          "name": "stdout",
          "text": [
            "EL tamaño de feature id es:  (1, 777)\n",
            "✅ Características de ID=175 guardadas en: /content/drive/MyDrive/features_blocks/features_id_175.pkl\n",
            "Procesando ID: 176...\n"
          ]
        },
        {
          "output_type": "stream",
          "name": "stderr",
          "text": [
            "Feature Extraction: 100%|██████████| 1/1 [00:04<00:00,  4.20s/it]\n",
            "WARNING:tsfresh.feature_extraction.settings:Dependency not available for matrix_profile, this feature will be disabled!\n"
          ]
        },
        {
          "output_type": "stream",
          "name": "stdout",
          "text": [
            "EL tamaño de feature id es:  (1, 777)\n",
            "✅ Características de ID=176 guardadas en: /content/drive/MyDrive/features_blocks/features_id_176.pkl\n",
            "Procesando ID: 177...\n"
          ]
        },
        {
          "output_type": "stream",
          "name": "stderr",
          "text": [
            "Feature Extraction: 100%|██████████| 1/1 [00:07<00:00,  7.19s/it]\n",
            "WARNING:tsfresh.feature_extraction.settings:Dependency not available for matrix_profile, this feature will be disabled!\n"
          ]
        },
        {
          "output_type": "stream",
          "name": "stdout",
          "text": [
            "EL tamaño de feature id es:  (1, 777)\n",
            "✅ Características de ID=177 guardadas en: /content/drive/MyDrive/features_blocks/features_id_177.pkl\n",
            "Procesando ID: 178...\n"
          ]
        },
        {
          "output_type": "stream",
          "name": "stderr",
          "text": [
            "Feature Extraction: 100%|██████████| 1/1 [00:04<00:00,  4.57s/it]\n",
            "WARNING:tsfresh.feature_extraction.settings:Dependency not available for matrix_profile, this feature will be disabled!\n"
          ]
        },
        {
          "output_type": "stream",
          "name": "stdout",
          "text": [
            "EL tamaño de feature id es:  (1, 777)\n",
            "✅ Características de ID=178 guardadas en: /content/drive/MyDrive/features_blocks/features_id_178.pkl\n",
            "Procesando ID: 179...\n"
          ]
        },
        {
          "output_type": "stream",
          "name": "stderr",
          "text": [
            "Feature Extraction: 100%|██████████| 1/1 [00:04<00:00,  4.39s/it]\n",
            "WARNING:tsfresh.feature_extraction.settings:Dependency not available for matrix_profile, this feature will be disabled!\n"
          ]
        },
        {
          "output_type": "stream",
          "name": "stdout",
          "text": [
            "EL tamaño de feature id es:  (1, 777)\n",
            "✅ Características de ID=179 guardadas en: /content/drive/MyDrive/features_blocks/features_id_179.pkl\n",
            "Procesando ID: 180...\n"
          ]
        },
        {
          "output_type": "stream",
          "name": "stderr",
          "text": [
            "Feature Extraction: 100%|██████████| 1/1 [00:07<00:00,  7.37s/it]\n",
            "WARNING:tsfresh.feature_extraction.settings:Dependency not available for matrix_profile, this feature will be disabled!\n"
          ]
        },
        {
          "output_type": "stream",
          "name": "stdout",
          "text": [
            "EL tamaño de feature id es:  (1, 777)\n",
            "✅ Características de ID=180 guardadas en: /content/drive/MyDrive/features_blocks/features_id_180.pkl\n",
            "Procesando ID: 181...\n"
          ]
        },
        {
          "output_type": "stream",
          "name": "stderr",
          "text": [
            "Feature Extraction: 100%|██████████| 1/1 [00:04<00:00,  4.36s/it]\n",
            "WARNING:tsfresh.feature_extraction.settings:Dependency not available for matrix_profile, this feature will be disabled!\n"
          ]
        },
        {
          "output_type": "stream",
          "name": "stdout",
          "text": [
            "EL tamaño de feature id es:  (1, 777)\n",
            "✅ Características de ID=181 guardadas en: /content/drive/MyDrive/features_blocks/features_id_181.pkl\n",
            "Procesando ID: 182...\n"
          ]
        },
        {
          "output_type": "stream",
          "name": "stderr",
          "text": [
            "Feature Extraction: 100%|██████████| 1/1 [00:05<00:00,  5.25s/it]\n",
            "WARNING:tsfresh.feature_extraction.settings:Dependency not available for matrix_profile, this feature will be disabled!\n"
          ]
        },
        {
          "output_type": "stream",
          "name": "stdout",
          "text": [
            "EL tamaño de feature id es:  (1, 777)\n",
            "✅ Características de ID=182 guardadas en: /content/drive/MyDrive/features_blocks/features_id_182.pkl\n",
            "Procesando ID: 183...\n"
          ]
        },
        {
          "output_type": "stream",
          "name": "stderr",
          "text": [
            "Feature Extraction: 100%|██████████| 1/1 [00:05<00:00,  5.55s/it]\n",
            "WARNING:tsfresh.feature_extraction.settings:Dependency not available for matrix_profile, this feature will be disabled!\n"
          ]
        },
        {
          "output_type": "stream",
          "name": "stdout",
          "text": [
            "EL tamaño de feature id es:  (1, 777)\n",
            "✅ Características de ID=183 guardadas en: /content/drive/MyDrive/features_blocks/features_id_183.pkl\n",
            "Procesando ID: 184...\n"
          ]
        },
        {
          "output_type": "stream",
          "name": "stderr",
          "text": [
            "Feature Extraction: 100%|██████████| 1/1 [00:04<00:00,  4.44s/it]\n",
            "WARNING:tsfresh.feature_extraction.settings:Dependency not available for matrix_profile, this feature will be disabled!\n"
          ]
        },
        {
          "output_type": "stream",
          "name": "stdout",
          "text": [
            "EL tamaño de feature id es:  (1, 777)\n",
            "✅ Características de ID=184 guardadas en: /content/drive/MyDrive/features_blocks/features_id_184.pkl\n",
            "Procesando ID: 185...\n"
          ]
        },
        {
          "output_type": "stream",
          "name": "stderr",
          "text": [
            "Feature Extraction: 100%|██████████| 1/1 [00:07<00:00,  7.79s/it]\n",
            "WARNING:tsfresh.feature_extraction.settings:Dependency not available for matrix_profile, this feature will be disabled!\n"
          ]
        },
        {
          "output_type": "stream",
          "name": "stdout",
          "text": [
            "EL tamaño de feature id es:  (1, 777)\n",
            "✅ Características de ID=185 guardadas en: /content/drive/MyDrive/features_blocks/features_id_185.pkl\n",
            "Procesando ID: 186...\n"
          ]
        },
        {
          "output_type": "stream",
          "name": "stderr",
          "text": [
            "Feature Extraction: 100%|██████████| 1/1 [00:04<00:00,  4.26s/it]\n",
            "WARNING:tsfresh.feature_extraction.settings:Dependency not available for matrix_profile, this feature will be disabled!\n"
          ]
        },
        {
          "output_type": "stream",
          "name": "stdout",
          "text": [
            "EL tamaño de feature id es:  (1, 777)\n",
            "✅ Características de ID=186 guardadas en: /content/drive/MyDrive/features_blocks/features_id_186.pkl\n",
            "Procesando ID: 187...\n"
          ]
        },
        {
          "output_type": "stream",
          "name": "stderr",
          "text": [
            "Feature Extraction: 100%|██████████| 1/1 [00:04<00:00,  4.39s/it]\n",
            "WARNING:tsfresh.feature_extraction.settings:Dependency not available for matrix_profile, this feature will be disabled!\n"
          ]
        },
        {
          "output_type": "stream",
          "name": "stdout",
          "text": [
            "EL tamaño de feature id es:  (1, 777)\n",
            "✅ Características de ID=187 guardadas en: /content/drive/MyDrive/features_blocks/features_id_187.pkl\n",
            "Procesando ID: 188...\n"
          ]
        },
        {
          "output_type": "stream",
          "name": "stderr",
          "text": [
            "Feature Extraction: 100%|██████████| 1/1 [00:06<00:00,  6.79s/it]\n",
            "WARNING:tsfresh.feature_extraction.settings:Dependency not available for matrix_profile, this feature will be disabled!\n"
          ]
        },
        {
          "output_type": "stream",
          "name": "stdout",
          "text": [
            "EL tamaño de feature id es:  (1, 777)\n",
            "✅ Características de ID=188 guardadas en: /content/drive/MyDrive/features_blocks/features_id_188.pkl\n",
            "Procesando ID: 189...\n"
          ]
        },
        {
          "output_type": "stream",
          "name": "stderr",
          "text": [
            "Feature Extraction: 100%|██████████| 1/1 [00:04<00:00,  4.57s/it]\n",
            "WARNING:tsfresh.feature_extraction.settings:Dependency not available for matrix_profile, this feature will be disabled!\n"
          ]
        },
        {
          "output_type": "stream",
          "name": "stdout",
          "text": [
            "EL tamaño de feature id es:  (1, 777)\n",
            "✅ Características de ID=189 guardadas en: /content/drive/MyDrive/features_blocks/features_id_189.pkl\n",
            "Procesando ID: 190...\n"
          ]
        },
        {
          "output_type": "stream",
          "name": "stderr",
          "text": [
            "Feature Extraction: 100%|██████████| 1/1 [00:05<00:00,  5.47s/it]\n",
            "WARNING:tsfresh.feature_extraction.settings:Dependency not available for matrix_profile, this feature will be disabled!\n"
          ]
        },
        {
          "output_type": "stream",
          "name": "stdout",
          "text": [
            "EL tamaño de feature id es:  (1, 777)\n",
            "✅ Características de ID=190 guardadas en: /content/drive/MyDrive/features_blocks/features_id_190.pkl\n",
            "Procesando ID: 191...\n"
          ]
        },
        {
          "output_type": "stream",
          "name": "stderr",
          "text": [
            "Feature Extraction: 100%|██████████| 1/1 [00:05<00:00,  5.64s/it]\n",
            "WARNING:tsfresh.feature_extraction.settings:Dependency not available for matrix_profile, this feature will be disabled!\n"
          ]
        },
        {
          "output_type": "stream",
          "name": "stdout",
          "text": [
            "EL tamaño de feature id es:  (1, 777)\n",
            "✅ Características de ID=191 guardadas en: /content/drive/MyDrive/features_blocks/features_id_191.pkl\n",
            "Procesando ID: 192...\n"
          ]
        },
        {
          "output_type": "stream",
          "name": "stderr",
          "text": [
            "Feature Extraction: 100%|██████████| 1/1 [00:04<00:00,  4.37s/it]\n",
            "WARNING:tsfresh.feature_extraction.settings:Dependency not available for matrix_profile, this feature will be disabled!\n"
          ]
        },
        {
          "output_type": "stream",
          "name": "stdout",
          "text": [
            "EL tamaño de feature id es:  (1, 777)\n",
            "✅ Características de ID=192 guardadas en: /content/drive/MyDrive/features_blocks/features_id_192.pkl\n",
            "Procesando ID: 193...\n"
          ]
        },
        {
          "output_type": "stream",
          "name": "stderr",
          "text": [
            "Feature Extraction: 100%|██████████| 1/1 [00:07<00:00,  7.79s/it]\n",
            "WARNING:tsfresh.feature_extraction.settings:Dependency not available for matrix_profile, this feature will be disabled!\n"
          ]
        },
        {
          "output_type": "stream",
          "name": "stdout",
          "text": [
            "EL tamaño de feature id es:  (1, 777)\n",
            "✅ Características de ID=193 guardadas en: /content/drive/MyDrive/features_blocks/features_id_193.pkl\n",
            "Procesando ID: 194...\n"
          ]
        },
        {
          "output_type": "stream",
          "name": "stderr",
          "text": [
            "Feature Extraction: 100%|██████████| 1/1 [00:04<00:00,  4.49s/it]\n",
            "WARNING:tsfresh.feature_extraction.settings:Dependency not available for matrix_profile, this feature will be disabled!\n"
          ]
        },
        {
          "output_type": "stream",
          "name": "stdout",
          "text": [
            "EL tamaño de feature id es:  (1, 777)\n",
            "✅ Características de ID=194 guardadas en: /content/drive/MyDrive/features_blocks/features_id_194.pkl\n",
            "Procesando ID: 195...\n"
          ]
        },
        {
          "output_type": "stream",
          "name": "stderr",
          "text": [
            "Feature Extraction: 100%|██████████| 1/1 [00:04<00:00,  4.64s/it]\n",
            "WARNING:tsfresh.feature_extraction.settings:Dependency not available for matrix_profile, this feature will be disabled!\n"
          ]
        },
        {
          "output_type": "stream",
          "name": "stdout",
          "text": [
            "EL tamaño de feature id es:  (1, 777)\n",
            "✅ Características de ID=195 guardadas en: /content/drive/MyDrive/features_blocks/features_id_195.pkl\n",
            "Procesando ID: 196...\n"
          ]
        },
        {
          "output_type": "stream",
          "name": "stderr",
          "text": [
            "Feature Extraction: 100%|██████████| 1/1 [00:05<00:00,  5.67s/it]\n",
            "WARNING:tsfresh.feature_extraction.settings:Dependency not available for matrix_profile, this feature will be disabled!\n"
          ]
        },
        {
          "output_type": "stream",
          "name": "stdout",
          "text": [
            "EL tamaño de feature id es:  (1, 777)\n",
            "✅ Características de ID=196 guardadas en: /content/drive/MyDrive/features_blocks/features_id_196.pkl\n",
            "Procesando ID: 197...\n"
          ]
        },
        {
          "output_type": "stream",
          "name": "stderr",
          "text": [
            "Feature Extraction: 100%|██████████| 1/1 [00:04<00:00,  4.34s/it]\n",
            "WARNING:tsfresh.feature_extraction.settings:Dependency not available for matrix_profile, this feature will be disabled!\n"
          ]
        },
        {
          "output_type": "stream",
          "name": "stdout",
          "text": [
            "EL tamaño de feature id es:  (1, 777)\n",
            "✅ Características de ID=197 guardadas en: /content/drive/MyDrive/features_blocks/features_id_197.pkl\n",
            "Procesando ID: 198...\n"
          ]
        },
        {
          "output_type": "stream",
          "name": "stderr",
          "text": [
            "Feature Extraction: 100%|██████████| 1/1 [00:07<00:00,  7.63s/it]\n",
            "WARNING:tsfresh.feature_extraction.settings:Dependency not available for matrix_profile, this feature will be disabled!\n"
          ]
        },
        {
          "output_type": "stream",
          "name": "stdout",
          "text": [
            "EL tamaño de feature id es:  (1, 777)\n",
            "✅ Características de ID=198 guardadas en: /content/drive/MyDrive/features_blocks/features_id_198.pkl\n",
            "Procesando ID: 199...\n"
          ]
        },
        {
          "output_type": "stream",
          "name": "stderr",
          "text": [
            "Feature Extraction: 100%|██████████| 1/1 [00:04<00:00,  4.59s/it]\n",
            "WARNING:tsfresh.feature_extraction.settings:Dependency not available for matrix_profile, this feature will be disabled!\n"
          ]
        },
        {
          "output_type": "stream",
          "name": "stdout",
          "text": [
            "EL tamaño de feature id es:  (1, 777)\n",
            "✅ Características de ID=199 guardadas en: /content/drive/MyDrive/features_blocks/features_id_199.pkl\n",
            "Procesando ID: 200...\n"
          ]
        },
        {
          "output_type": "stream",
          "name": "stderr",
          "text": [
            "Feature Extraction: 100%|██████████| 1/1 [00:04<00:00,  4.84s/it]\n",
            "WARNING:tsfresh.feature_extraction.settings:Dependency not available for matrix_profile, this feature will be disabled!\n"
          ]
        },
        {
          "output_type": "stream",
          "name": "stdout",
          "text": [
            "EL tamaño de feature id es:  (1, 777)\n",
            "✅ Características de ID=200 guardadas en: /content/drive/MyDrive/features_blocks/features_id_200.pkl\n",
            "Procesando ID: 201...\n"
          ]
        },
        {
          "output_type": "stream",
          "name": "stderr",
          "text": [
            "Feature Extraction: 100%|██████████| 1/1 [00:06<00:00,  6.42s/it]\n",
            "WARNING:tsfresh.feature_extraction.settings:Dependency not available for matrix_profile, this feature will be disabled!\n"
          ]
        },
        {
          "output_type": "stream",
          "name": "stdout",
          "text": [
            "EL tamaño de feature id es:  (1, 777)\n",
            "✅ Características de ID=201 guardadas en: /content/drive/MyDrive/features_blocks/features_id_201.pkl\n",
            "Procesando ID: 202...\n"
          ]
        },
        {
          "output_type": "stream",
          "name": "stderr",
          "text": [
            "Feature Extraction: 100%|██████████| 1/1 [00:04<00:00,  4.29s/it]\n",
            "WARNING:tsfresh.feature_extraction.settings:Dependency not available for matrix_profile, this feature will be disabled!\n"
          ]
        },
        {
          "output_type": "stream",
          "name": "stdout",
          "text": [
            "EL tamaño de feature id es:  (1, 777)\n",
            "✅ Características de ID=202 guardadas en: /content/drive/MyDrive/features_blocks/features_id_202.pkl\n",
            "Procesando ID: 203...\n"
          ]
        },
        {
          "output_type": "stream",
          "name": "stderr",
          "text": [
            "Feature Extraction: 100%|██████████| 1/1 [00:04<00:00,  4.89s/it]"
          ]
        },
        {
          "output_type": "stream",
          "name": "stdout",
          "text": [
            "EL tamaño de feature id es:  (1, 777)\n",
            "✅ Características de ID=203 guardadas en: /content/drive/MyDrive/features_blocks/features_id_203.pkl\n"
          ]
        },
        {
          "output_type": "stream",
          "name": "stderr",
          "text": [
            "\n"
          ]
        }
      ],
      "source": [
        "\n",
        "\n",
        "# Montamos Google Drive\n",
        "drive.mount('/content/drive')\n",
        "\n",
        "# Definimos la ruta de salida\n",
        "output_dir = \"/content/drive/MyDrive/features_blocks\"\n",
        "os.makedirs(output_dir, exist_ok=True)\n",
        "\n",
        "# Iterar sobre cada ID único en el DataFrame\n",
        "unique_ids = df_ready[\"id\"].unique()\n",
        "\n",
        "# Procesar cada ID individualmente\n",
        "for id_value in unique_ids:\n",
        "    print(f\"Procesando ID: {id_value}...\")\n",
        "\n",
        "    # Filtrar el DataFrame para solo ese ID\n",
        "    df_id = df_ready[df_ready[\"id\"] == id_value]\n",
        "\n",
        "    # Extraer características para ese ID\n",
        "    features_id = extract_features(df_id,\n",
        "                                   column_id=\"id\",\n",
        "                                   column_sort=\"time\",\n",
        "                                   default_fc_parameters=EfficientFCParameters(),\n",
        "                                   disable_progressbar=False,\n",
        "                                   n_jobs=multiprocessing.cpu_count())\n",
        "    # Rellenamos con 0 los NaN\n",
        "    features_id = features_id.fillna(0)\n",
        "    print(\"EL tamaño de feature id es: \",features_id.shape)\n",
        "\n",
        "    # Guardar las características de ese ID en un archivo\n",
        "    features_id_path = os.path.join(output_dir, f\"features_id_{id_value}.pkl\")\n",
        "\n",
        "    features_id.to_pickle(features_id_path)\n",
        "\n",
        "    print(f\"Características de ID={id_value} guardadas en: {features_id_path}\")\n"
      ]
    },
    {
      "cell_type": "markdown",
      "source": [
        "Procedemos a juntar todos los bloques"
      ],
      "metadata": {
        "id": "zxcGRHvFMXDO"
      },
      "id": "zxcGRHvFMXDO"
    },
    {
      "cell_type": "code",
      "source": [
        "\n",
        "\n",
        "# Ruta donde están guardados los archivos de características\n",
        "input_dir = \"/content/drive/MyDrive/features_blocks\"\n",
        "output_dir = \"/content/drive/MyDrive/features_blocks/all_features\"\n",
        "os.makedirs(output_dir, exist_ok=True)\n",
        "# Montamos Google Drive\n",
        "drive.mount('/content/drive')\n",
        "# Lista para almacenar cada DataFrame cargado\n",
        "features_list = []\n",
        "\n",
        "def extract_id_number(filename):\n",
        "    \"\"\"Se encarga de buscar el id del nombre del archivo para procesar de manera ordenada\"\"\"\n",
        "    match = re.search(r\"features_id_(\\d+)\\.pkl\", filename)\n",
        "    return int(match.group(1)) if match else -1\n",
        "\n",
        "files = [f for f in os.listdir(input_dir) if f.startswith(\"features_id_\") and f.endswith(\".pkl\")]\n",
        "files_sorted = sorted(files, key=extract_id_number)\n",
        "\n",
        "features_list = []\n",
        "for file in files_sorted:\n",
        "    print(f\"Procesando archivo: {file}...\")\n",
        "    df = pd.read_pickle(os.path.join(input_dir, file))\n",
        "    features_list.append(df)\n",
        "\n",
        "\n",
        "# Concatenamos todos los DataFrames en uno solo\n",
        "full_features_df = pd.concat(features_list, axis=0)\n",
        "\n",
        "full_features_df.reset_index(drop=True, inplace=True)\n",
        "\n",
        "full_features_df.to_pickle(os.path.join(output_dir, \"all_features.pkl\"))\n",
        "# Mostrar información del DataFrame final\n",
        "print(\"Shape del dataset final es: \", full_features_df.shape)\n",
        "full_features_df.head()\n",
        "\n"
      ],
      "metadata": {
        "colab": {
          "base_uri": "https://localhost:8080/",
          "height": 1000
        },
        "id": "_XNv366uMWcv",
        "outputId": "6274463e-8957-4b31-9329-4f6f3d9d20f9"
      },
      "id": "_XNv366uMWcv",
      "execution_count": null,
      "outputs": [
        {
          "output_type": "stream",
          "name": "stdout",
          "text": [
            "Drive already mounted at /content/drive; to attempt to forcibly remount, call drive.mount(\"/content/drive\", force_remount=True).\n",
            "Procesando archivo: features_id_0.pkl...\n",
            "Procesando archivo: features_id_1.pkl...\n",
            "Procesando archivo: features_id_2.pkl...\n",
            "Procesando archivo: features_id_3.pkl...\n",
            "Procesando archivo: features_id_4.pkl...\n",
            "Procesando archivo: features_id_5.pkl...\n",
            "Procesando archivo: features_id_6.pkl...\n",
            "Procesando archivo: features_id_7.pkl...\n",
            "Procesando archivo: features_id_8.pkl...\n",
            "Procesando archivo: features_id_9.pkl...\n",
            "Procesando archivo: features_id_10.pkl...\n",
            "Procesando archivo: features_id_11.pkl...\n",
            "Procesando archivo: features_id_12.pkl...\n",
            "Procesando archivo: features_id_13.pkl...\n",
            "Procesando archivo: features_id_14.pkl...\n",
            "Procesando archivo: features_id_15.pkl...\n",
            "Procesando archivo: features_id_16.pkl...\n",
            "Procesando archivo: features_id_17.pkl...\n",
            "Procesando archivo: features_id_18.pkl...\n",
            "Procesando archivo: features_id_19.pkl...\n",
            "Procesando archivo: features_id_20.pkl...\n",
            "Procesando archivo: features_id_21.pkl...\n",
            "Procesando archivo: features_id_22.pkl...\n",
            "Procesando archivo: features_id_23.pkl...\n",
            "Procesando archivo: features_id_24.pkl...\n",
            "Procesando archivo: features_id_25.pkl...\n",
            "Procesando archivo: features_id_26.pkl...\n",
            "Procesando archivo: features_id_27.pkl...\n",
            "Procesando archivo: features_id_28.pkl...\n",
            "Procesando archivo: features_id_29.pkl...\n",
            "Procesando archivo: features_id_30.pkl...\n",
            "Procesando archivo: features_id_31.pkl...\n",
            "Procesando archivo: features_id_32.pkl...\n",
            "Procesando archivo: features_id_33.pkl...\n",
            "Procesando archivo: features_id_34.pkl...\n",
            "Procesando archivo: features_id_35.pkl...\n",
            "Procesando archivo: features_id_36.pkl...\n",
            "Procesando archivo: features_id_37.pkl...\n",
            "Procesando archivo: features_id_38.pkl...\n",
            "Procesando archivo: features_id_39.pkl...\n",
            "Procesando archivo: features_id_40.pkl...\n",
            "Procesando archivo: features_id_41.pkl...\n",
            "Procesando archivo: features_id_42.pkl...\n",
            "Procesando archivo: features_id_43.pkl...\n",
            "Procesando archivo: features_id_44.pkl...\n",
            "Procesando archivo: features_id_45.pkl...\n",
            "Procesando archivo: features_id_46.pkl...\n",
            "Procesando archivo: features_id_47.pkl...\n",
            "Procesando archivo: features_id_48.pkl...\n",
            "Procesando archivo: features_id_49.pkl...\n",
            "Procesando archivo: features_id_50.pkl...\n",
            "Procesando archivo: features_id_51.pkl...\n",
            "Procesando archivo: features_id_52.pkl...\n",
            "Procesando archivo: features_id_53.pkl...\n",
            "Procesando archivo: features_id_54.pkl...\n",
            "Procesando archivo: features_id_55.pkl...\n",
            "Procesando archivo: features_id_56.pkl...\n",
            "Procesando archivo: features_id_57.pkl...\n",
            "Procesando archivo: features_id_58.pkl...\n",
            "Procesando archivo: features_id_59.pkl...\n",
            "Procesando archivo: features_id_60.pkl...\n",
            "Procesando archivo: features_id_61.pkl...\n",
            "Procesando archivo: features_id_62.pkl...\n",
            "Procesando archivo: features_id_63.pkl...\n",
            "Procesando archivo: features_id_64.pkl...\n",
            "Procesando archivo: features_id_65.pkl...\n",
            "Procesando archivo: features_id_66.pkl...\n",
            "Procesando archivo: features_id_67.pkl...\n",
            "Procesando archivo: features_id_68.pkl...\n",
            "Procesando archivo: features_id_69.pkl...\n",
            "Procesando archivo: features_id_70.pkl...\n",
            "Procesando archivo: features_id_71.pkl...\n",
            "Procesando archivo: features_id_72.pkl...\n",
            "Procesando archivo: features_id_73.pkl...\n",
            "Procesando archivo: features_id_74.pkl...\n",
            "Procesando archivo: features_id_75.pkl...\n",
            "Procesando archivo: features_id_76.pkl...\n",
            "Procesando archivo: features_id_77.pkl...\n",
            "Procesando archivo: features_id_78.pkl...\n",
            "Procesando archivo: features_id_79.pkl...\n",
            "Procesando archivo: features_id_80.pkl...\n",
            "Procesando archivo: features_id_81.pkl...\n",
            "Procesando archivo: features_id_82.pkl...\n",
            "Procesando archivo: features_id_83.pkl...\n",
            "Procesando archivo: features_id_84.pkl...\n",
            "Procesando archivo: features_id_85.pkl...\n",
            "Procesando archivo: features_id_86.pkl...\n",
            "Procesando archivo: features_id_87.pkl...\n",
            "Procesando archivo: features_id_88.pkl...\n",
            "Procesando archivo: features_id_89.pkl...\n",
            "Procesando archivo: features_id_90.pkl...\n",
            "Procesando archivo: features_id_91.pkl...\n",
            "Procesando archivo: features_id_92.pkl...\n",
            "Procesando archivo: features_id_93.pkl...\n",
            "Procesando archivo: features_id_94.pkl...\n",
            "Procesando archivo: features_id_95.pkl...\n",
            "Procesando archivo: features_id_96.pkl...\n",
            "Procesando archivo: features_id_97.pkl...\n",
            "Procesando archivo: features_id_98.pkl...\n",
            "Procesando archivo: features_id_99.pkl...\n",
            "Procesando archivo: features_id_100.pkl...\n",
            "Procesando archivo: features_id_101.pkl...\n",
            "Procesando archivo: features_id_102.pkl...\n",
            "Procesando archivo: features_id_103.pkl...\n",
            "Procesando archivo: features_id_104.pkl...\n",
            "Procesando archivo: features_id_105.pkl...\n",
            "Procesando archivo: features_id_106.pkl...\n",
            "Procesando archivo: features_id_107.pkl...\n",
            "Procesando archivo: features_id_108.pkl...\n",
            "Procesando archivo: features_id_109.pkl...\n",
            "Procesando archivo: features_id_110.pkl...\n",
            "Procesando archivo: features_id_111.pkl...\n",
            "Procesando archivo: features_id_112.pkl...\n",
            "Procesando archivo: features_id_113.pkl...\n",
            "Procesando archivo: features_id_114.pkl...\n",
            "Procesando archivo: features_id_115.pkl...\n",
            "Procesando archivo: features_id_116.pkl...\n",
            "Procesando archivo: features_id_117.pkl...\n",
            "Procesando archivo: features_id_118.pkl...\n",
            "Procesando archivo: features_id_119.pkl...\n",
            "Procesando archivo: features_id_120.pkl...\n",
            "Procesando archivo: features_id_121.pkl...\n",
            "Procesando archivo: features_id_122.pkl...\n",
            "Procesando archivo: features_id_123.pkl...\n",
            "Procesando archivo: features_id_124.pkl...\n",
            "Procesando archivo: features_id_125.pkl...\n",
            "Procesando archivo: features_id_126.pkl...\n",
            "Procesando archivo: features_id_127.pkl...\n",
            "Procesando archivo: features_id_128.pkl...\n",
            "Procesando archivo: features_id_129.pkl...\n",
            "Procesando archivo: features_id_130.pkl...\n",
            "Procesando archivo: features_id_131.pkl...\n",
            "Procesando archivo: features_id_132.pkl...\n",
            "Procesando archivo: features_id_133.pkl...\n",
            "Procesando archivo: features_id_134.pkl...\n",
            "Procesando archivo: features_id_135.pkl...\n",
            "Procesando archivo: features_id_136.pkl...\n",
            "Procesando archivo: features_id_137.pkl...\n",
            "Procesando archivo: features_id_138.pkl...\n",
            "Procesando archivo: features_id_139.pkl...\n",
            "Procesando archivo: features_id_140.pkl...\n",
            "Procesando archivo: features_id_141.pkl...\n",
            "Procesando archivo: features_id_142.pkl...\n",
            "Procesando archivo: features_id_143.pkl...\n",
            "Procesando archivo: features_id_144.pkl...\n",
            "Procesando archivo: features_id_145.pkl...\n",
            "Procesando archivo: features_id_146.pkl...\n",
            "Procesando archivo: features_id_147.pkl...\n",
            "Procesando archivo: features_id_148.pkl...\n",
            "Procesando archivo: features_id_149.pkl...\n",
            "Procesando archivo: features_id_150.pkl...\n",
            "Procesando archivo: features_id_151.pkl...\n",
            "Procesando archivo: features_id_152.pkl...\n",
            "Procesando archivo: features_id_153.pkl...\n",
            "Procesando archivo: features_id_154.pkl...\n",
            "Procesando archivo: features_id_155.pkl...\n",
            "Procesando archivo: features_id_156.pkl...\n",
            "Procesando archivo: features_id_157.pkl...\n",
            "Procesando archivo: features_id_158.pkl...\n",
            "Procesando archivo: features_id_159.pkl...\n",
            "Procesando archivo: features_id_160.pkl...\n",
            "Procesando archivo: features_id_161.pkl...\n",
            "Procesando archivo: features_id_162.pkl...\n",
            "Procesando archivo: features_id_163.pkl...\n",
            "Procesando archivo: features_id_164.pkl...\n",
            "Procesando archivo: features_id_165.pkl...\n",
            "Procesando archivo: features_id_166.pkl...\n",
            "Procesando archivo: features_id_167.pkl...\n",
            "Procesando archivo: features_id_168.pkl...\n",
            "Procesando archivo: features_id_169.pkl...\n",
            "Procesando archivo: features_id_170.pkl...\n",
            "Procesando archivo: features_id_171.pkl...\n",
            "Procesando archivo: features_id_172.pkl...\n",
            "Procesando archivo: features_id_173.pkl...\n",
            "Procesando archivo: features_id_174.pkl...\n",
            "Procesando archivo: features_id_175.pkl...\n",
            "Procesando archivo: features_id_176.pkl...\n",
            "Procesando archivo: features_id_177.pkl...\n",
            "Procesando archivo: features_id_178.pkl...\n",
            "Procesando archivo: features_id_179.pkl...\n",
            "Procesando archivo: features_id_180.pkl...\n",
            "Procesando archivo: features_id_181.pkl...\n",
            "Procesando archivo: features_id_182.pkl...\n",
            "Procesando archivo: features_id_183.pkl...\n",
            "Procesando archivo: features_id_184.pkl...\n",
            "Procesando archivo: features_id_185.pkl...\n",
            "Procesando archivo: features_id_186.pkl...\n",
            "Procesando archivo: features_id_187.pkl...\n",
            "Procesando archivo: features_id_188.pkl...\n",
            "Procesando archivo: features_id_189.pkl...\n",
            "Procesando archivo: features_id_190.pkl...\n",
            "Procesando archivo: features_id_191.pkl...\n",
            "Procesando archivo: features_id_192.pkl...\n",
            "Procesando archivo: features_id_193.pkl...\n",
            "Procesando archivo: features_id_194.pkl...\n",
            "Procesando archivo: features_id_195.pkl...\n",
            "Procesando archivo: features_id_196.pkl...\n",
            "Procesando archivo: features_id_197.pkl...\n",
            "Procesando archivo: features_id_198.pkl...\n",
            "Procesando archivo: features_id_199.pkl...\n",
            "Procesando archivo: features_id_200.pkl...\n",
            "Procesando archivo: features_id_201.pkl...\n",
            "Procesando archivo: features_id_202.pkl...\n",
            "Procesando archivo: features_id_203.pkl...\n",
            "Shape del dataset final es:  (204, 777)\n"
          ]
        },
        {
          "output_type": "execute_result",
          "data": {
            "text/plain": [
              "   valor__variance_larger_than_standard_deviation  valor__has_duplicate_max  \\\n",
              "0                                             0.0                       0.0   \n",
              "1                                             0.0                       0.0   \n",
              "2                                             0.0                       0.0   \n",
              "3                                             0.0                       0.0   \n",
              "4                                             0.0                       0.0   \n",
              "\n",
              "   valor__has_duplicate_min  valor__has_duplicate  valor__sum_values  \\\n",
              "0                       0.0                   1.0          -0.734864   \n",
              "1                       0.0                   1.0           0.300720   \n",
              "2                       0.0                   1.0          -0.477569   \n",
              "3                       0.0                   1.0           0.007569   \n",
              "4                       0.0                   1.0          -0.562194   \n",
              "\n",
              "   valor__abs_energy  valor__mean_abs_change  valor__mean_change  \\\n",
              "0          33.127876                0.003897       -7.016291e-07   \n",
              "1          34.903172                0.004165       -5.418686e-07   \n",
              "2          16.164088                0.002264       -4.119189e-06   \n",
              "3           6.087861                0.001689       -1.726074e-06   \n",
              "4          28.034003                0.004050        1.992890e-07   \n",
              "\n",
              "   valor__mean_second_derivative_central  valor__median  ...  \\\n",
              "0                           2.248299e-07      -0.000244  ...   \n",
              "1                          -1.194152e-07      -0.001068  ...   \n",
              "2                          -1.837347e-06      -0.000092  ...   \n",
              "3                          -1.227095e-07       0.000244  ...   \n",
              "4                          -9.882629e-09       0.000809  ...   \n",
              "\n",
              "   valor__fourier_entropy__bins_5  valor__fourier_entropy__bins_10  \\\n",
              "0                        0.314393                         0.418924   \n",
              "1                        0.273489                         0.370036   \n",
              "2                        0.235155                         0.305728   \n",
              "3                        0.239211                         0.339942   \n",
              "4                        0.367289                         0.493589   \n",
              "\n",
              "   valor__fourier_entropy__bins_100  \\\n",
              "0                          0.652842   \n",
              "1                          0.793862   \n",
              "2                          0.574520   \n",
              "3                          0.553027   \n",
              "4                          0.808665   \n",
              "\n",
              "   valor__permutation_entropy__dimension_3__tau_1  \\\n",
              "0                                        1.222197   \n",
              "1                                        1.148054   \n",
              "2                                        1.649418   \n",
              "3                                        1.663552   \n",
              "4                                        1.479723   \n",
              "\n",
              "   valor__permutation_entropy__dimension_4__tau_1  \\\n",
              "0                                        1.779523   \n",
              "1                                        1.645622   \n",
              "2                                        2.545695   \n",
              "3                                        2.610122   \n",
              "4                                        2.184056   \n",
              "\n",
              "   valor__permutation_entropy__dimension_5__tau_1  \\\n",
              "0                                        2.375477   \n",
              "1                                        2.196140   \n",
              "2                                        3.470808   \n",
              "3                                        3.569896   \n",
              "4                                        2.926665   \n",
              "\n",
              "   valor__permutation_entropy__dimension_6__tau_1  \\\n",
              "0                                        3.002084   \n",
              "1                                        2.777400   \n",
              "2                                        4.431796   \n",
              "3                                        4.564650   \n",
              "4                                        3.690862   \n",
              "\n",
              "   valor__permutation_entropy__dimension_7__tau_1  \\\n",
              "0                                        3.596227   \n",
              "1                                        3.365738   \n",
              "2                                        5.335461   \n",
              "3                                        5.506580   \n",
              "4                                        4.417537   \n",
              "\n",
              "   valor__query_similarity_count__query_None__threshold_0.0  \\\n",
              "0                                                0.0          \n",
              "1                                                0.0          \n",
              "2                                                0.0          \n",
              "3                                                0.0          \n",
              "4                                                0.0          \n",
              "\n",
              "   valor__mean_n_absolute_max__number_of_maxima_7  \n",
              "0                                        0.232910  \n",
              "1                                        0.266963  \n",
              "2                                        0.207986  \n",
              "3                                        0.154306  \n",
              "4                                        0.336108  \n",
              "\n",
              "[5 rows x 777 columns]"
            ],
            "text/html": [
              "\n",
              "  <div id=\"df-d63ad9c3-ccd5-4774-8738-6f699972c82b\" class=\"colab-df-container\">\n",
              "    <div>\n",
              "<style scoped>\n",
              "    .dataframe tbody tr th:only-of-type {\n",
              "        vertical-align: middle;\n",
              "    }\n",
              "\n",
              "    .dataframe tbody tr th {\n",
              "        vertical-align: top;\n",
              "    }\n",
              "\n",
              "    .dataframe thead th {\n",
              "        text-align: right;\n",
              "    }\n",
              "</style>\n",
              "<table border=\"1\" class=\"dataframe\">\n",
              "  <thead>\n",
              "    <tr style=\"text-align: right;\">\n",
              "      <th></th>\n",
              "      <th>valor__variance_larger_than_standard_deviation</th>\n",
              "      <th>valor__has_duplicate_max</th>\n",
              "      <th>valor__has_duplicate_min</th>\n",
              "      <th>valor__has_duplicate</th>\n",
              "      <th>valor__sum_values</th>\n",
              "      <th>valor__abs_energy</th>\n",
              "      <th>valor__mean_abs_change</th>\n",
              "      <th>valor__mean_change</th>\n",
              "      <th>valor__mean_second_derivative_central</th>\n",
              "      <th>valor__median</th>\n",
              "      <th>...</th>\n",
              "      <th>valor__fourier_entropy__bins_5</th>\n",
              "      <th>valor__fourier_entropy__bins_10</th>\n",
              "      <th>valor__fourier_entropy__bins_100</th>\n",
              "      <th>valor__permutation_entropy__dimension_3__tau_1</th>\n",
              "      <th>valor__permutation_entropy__dimension_4__tau_1</th>\n",
              "      <th>valor__permutation_entropy__dimension_5__tau_1</th>\n",
              "      <th>valor__permutation_entropy__dimension_6__tau_1</th>\n",
              "      <th>valor__permutation_entropy__dimension_7__tau_1</th>\n",
              "      <th>valor__query_similarity_count__query_None__threshold_0.0</th>\n",
              "      <th>valor__mean_n_absolute_max__number_of_maxima_7</th>\n",
              "    </tr>\n",
              "  </thead>\n",
              "  <tbody>\n",
              "    <tr>\n",
              "      <th>0</th>\n",
              "      <td>0.0</td>\n",
              "      <td>0.0</td>\n",
              "      <td>0.0</td>\n",
              "      <td>1.0</td>\n",
              "      <td>-0.734864</td>\n",
              "      <td>33.127876</td>\n",
              "      <td>0.003897</td>\n",
              "      <td>-7.016291e-07</td>\n",
              "      <td>2.248299e-07</td>\n",
              "      <td>-0.000244</td>\n",
              "      <td>...</td>\n",
              "      <td>0.314393</td>\n",
              "      <td>0.418924</td>\n",
              "      <td>0.652842</td>\n",
              "      <td>1.222197</td>\n",
              "      <td>1.779523</td>\n",
              "      <td>2.375477</td>\n",
              "      <td>3.002084</td>\n",
              "      <td>3.596227</td>\n",
              "      <td>0.0</td>\n",
              "      <td>0.232910</td>\n",
              "    </tr>\n",
              "    <tr>\n",
              "      <th>1</th>\n",
              "      <td>0.0</td>\n",
              "      <td>0.0</td>\n",
              "      <td>0.0</td>\n",
              "      <td>1.0</td>\n",
              "      <td>0.300720</td>\n",
              "      <td>34.903172</td>\n",
              "      <td>0.004165</td>\n",
              "      <td>-5.418686e-07</td>\n",
              "      <td>-1.194152e-07</td>\n",
              "      <td>-0.001068</td>\n",
              "      <td>...</td>\n",
              "      <td>0.273489</td>\n",
              "      <td>0.370036</td>\n",
              "      <td>0.793862</td>\n",
              "      <td>1.148054</td>\n",
              "      <td>1.645622</td>\n",
              "      <td>2.196140</td>\n",
              "      <td>2.777400</td>\n",
              "      <td>3.365738</td>\n",
              "      <td>0.0</td>\n",
              "      <td>0.266963</td>\n",
              "    </tr>\n",
              "    <tr>\n",
              "      <th>2</th>\n",
              "      <td>0.0</td>\n",
              "      <td>0.0</td>\n",
              "      <td>0.0</td>\n",
              "      <td>1.0</td>\n",
              "      <td>-0.477569</td>\n",
              "      <td>16.164088</td>\n",
              "      <td>0.002264</td>\n",
              "      <td>-4.119189e-06</td>\n",
              "      <td>-1.837347e-06</td>\n",
              "      <td>-0.000092</td>\n",
              "      <td>...</td>\n",
              "      <td>0.235155</td>\n",
              "      <td>0.305728</td>\n",
              "      <td>0.574520</td>\n",
              "      <td>1.649418</td>\n",
              "      <td>2.545695</td>\n",
              "      <td>3.470808</td>\n",
              "      <td>4.431796</td>\n",
              "      <td>5.335461</td>\n",
              "      <td>0.0</td>\n",
              "      <td>0.207986</td>\n",
              "    </tr>\n",
              "    <tr>\n",
              "      <th>3</th>\n",
              "      <td>0.0</td>\n",
              "      <td>0.0</td>\n",
              "      <td>0.0</td>\n",
              "      <td>1.0</td>\n",
              "      <td>0.007569</td>\n",
              "      <td>6.087861</td>\n",
              "      <td>0.001689</td>\n",
              "      <td>-1.726074e-06</td>\n",
              "      <td>-1.227095e-07</td>\n",
              "      <td>0.000244</td>\n",
              "      <td>...</td>\n",
              "      <td>0.239211</td>\n",
              "      <td>0.339942</td>\n",
              "      <td>0.553027</td>\n",
              "      <td>1.663552</td>\n",
              "      <td>2.610122</td>\n",
              "      <td>3.569896</td>\n",
              "      <td>4.564650</td>\n",
              "      <td>5.506580</td>\n",
              "      <td>0.0</td>\n",
              "      <td>0.154306</td>\n",
              "    </tr>\n",
              "    <tr>\n",
              "      <th>4</th>\n",
              "      <td>0.0</td>\n",
              "      <td>0.0</td>\n",
              "      <td>0.0</td>\n",
              "      <td>1.0</td>\n",
              "      <td>-0.562194</td>\n",
              "      <td>28.034003</td>\n",
              "      <td>0.004050</td>\n",
              "      <td>1.992890e-07</td>\n",
              "      <td>-9.882629e-09</td>\n",
              "      <td>0.000809</td>\n",
              "      <td>...</td>\n",
              "      <td>0.367289</td>\n",
              "      <td>0.493589</td>\n",
              "      <td>0.808665</td>\n",
              "      <td>1.479723</td>\n",
              "      <td>2.184056</td>\n",
              "      <td>2.926665</td>\n",
              "      <td>3.690862</td>\n",
              "      <td>4.417537</td>\n",
              "      <td>0.0</td>\n",
              "      <td>0.336108</td>\n",
              "    </tr>\n",
              "  </tbody>\n",
              "</table>\n",
              "<p>5 rows × 777 columns</p>\n",
              "</div>\n",
              "    <div class=\"colab-df-buttons\">\n",
              "\n",
              "  <div class=\"colab-df-container\">\n",
              "    <button class=\"colab-df-convert\" onclick=\"convertToInteractive('df-d63ad9c3-ccd5-4774-8738-6f699972c82b')\"\n",
              "            title=\"Convert this dataframe to an interactive table.\"\n",
              "            style=\"display:none;\">\n",
              "\n",
              "  <svg xmlns=\"http://www.w3.org/2000/svg\" height=\"24px\" viewBox=\"0 -960 960 960\">\n",
              "    <path d=\"M120-120v-720h720v720H120Zm60-500h600v-160H180v160Zm220 220h160v-160H400v160Zm0 220h160v-160H400v160ZM180-400h160v-160H180v160Zm440 0h160v-160H620v160ZM180-180h160v-160H180v160Zm440 0h160v-160H620v160Z\"/>\n",
              "  </svg>\n",
              "    </button>\n",
              "\n",
              "  <style>\n",
              "    .colab-df-container {\n",
              "      display:flex;\n",
              "      gap: 12px;\n",
              "    }\n",
              "\n",
              "    .colab-df-convert {\n",
              "      background-color: #E8F0FE;\n",
              "      border: none;\n",
              "      border-radius: 50%;\n",
              "      cursor: pointer;\n",
              "      display: none;\n",
              "      fill: #1967D2;\n",
              "      height: 32px;\n",
              "      padding: 0 0 0 0;\n",
              "      width: 32px;\n",
              "    }\n",
              "\n",
              "    .colab-df-convert:hover {\n",
              "      background-color: #E2EBFA;\n",
              "      box-shadow: 0px 1px 2px rgba(60, 64, 67, 0.3), 0px 1px 3px 1px rgba(60, 64, 67, 0.15);\n",
              "      fill: #174EA6;\n",
              "    }\n",
              "\n",
              "    .colab-df-buttons div {\n",
              "      margin-bottom: 4px;\n",
              "    }\n",
              "\n",
              "    [theme=dark] .colab-df-convert {\n",
              "      background-color: #3B4455;\n",
              "      fill: #D2E3FC;\n",
              "    }\n",
              "\n",
              "    [theme=dark] .colab-df-convert:hover {\n",
              "      background-color: #434B5C;\n",
              "      box-shadow: 0px 1px 3px 1px rgba(0, 0, 0, 0.15);\n",
              "      filter: drop-shadow(0px 1px 2px rgba(0, 0, 0, 0.3));\n",
              "      fill: #FFFFFF;\n",
              "    }\n",
              "  </style>\n",
              "\n",
              "    <script>\n",
              "      const buttonEl =\n",
              "        document.querySelector('#df-d63ad9c3-ccd5-4774-8738-6f699972c82b button.colab-df-convert');\n",
              "      buttonEl.style.display =\n",
              "        google.colab.kernel.accessAllowed ? 'block' : 'none';\n",
              "\n",
              "      async function convertToInteractive(key) {\n",
              "        const element = document.querySelector('#df-d63ad9c3-ccd5-4774-8738-6f699972c82b');\n",
              "        const dataTable =\n",
              "          await google.colab.kernel.invokeFunction('convertToInteractive',\n",
              "                                                    [key], {});\n",
              "        if (!dataTable) return;\n",
              "\n",
              "        const docLinkHtml = 'Like what you see? Visit the ' +\n",
              "          '<a target=\"_blank\" href=https://colab.research.google.com/notebooks/data_table.ipynb>data table notebook</a>'\n",
              "          + ' to learn more about interactive tables.';\n",
              "        element.innerHTML = '';\n",
              "        dataTable['output_type'] = 'display_data';\n",
              "        await google.colab.output.renderOutput(dataTable, element);\n",
              "        const docLink = document.createElement('div');\n",
              "        docLink.innerHTML = docLinkHtml;\n",
              "        element.appendChild(docLink);\n",
              "      }\n",
              "    </script>\n",
              "  </div>\n",
              "\n",
              "\n",
              "    <div id=\"df-5efd2e91-c6ca-4e85-9055-16f34735793c\">\n",
              "      <button class=\"colab-df-quickchart\" onclick=\"quickchart('df-5efd2e91-c6ca-4e85-9055-16f34735793c')\"\n",
              "                title=\"Suggest charts\"\n",
              "                style=\"display:none;\">\n",
              "\n",
              "<svg xmlns=\"http://www.w3.org/2000/svg\" height=\"24px\"viewBox=\"0 0 24 24\"\n",
              "     width=\"24px\">\n",
              "    <g>\n",
              "        <path d=\"M19 3H5c-1.1 0-2 .9-2 2v14c0 1.1.9 2 2 2h14c1.1 0 2-.9 2-2V5c0-1.1-.9-2-2-2zM9 17H7v-7h2v7zm4 0h-2V7h2v10zm4 0h-2v-4h2v4z\"/>\n",
              "    </g>\n",
              "</svg>\n",
              "      </button>\n",
              "\n",
              "<style>\n",
              "  .colab-df-quickchart {\n",
              "      --bg-color: #E8F0FE;\n",
              "      --fill-color: #1967D2;\n",
              "      --hover-bg-color: #E2EBFA;\n",
              "      --hover-fill-color: #174EA6;\n",
              "      --disabled-fill-color: #AAA;\n",
              "      --disabled-bg-color: #DDD;\n",
              "  }\n",
              "\n",
              "  [theme=dark] .colab-df-quickchart {\n",
              "      --bg-color: #3B4455;\n",
              "      --fill-color: #D2E3FC;\n",
              "      --hover-bg-color: #434B5C;\n",
              "      --hover-fill-color: #FFFFFF;\n",
              "      --disabled-bg-color: #3B4455;\n",
              "      --disabled-fill-color: #666;\n",
              "  }\n",
              "\n",
              "  .colab-df-quickchart {\n",
              "    background-color: var(--bg-color);\n",
              "    border: none;\n",
              "    border-radius: 50%;\n",
              "    cursor: pointer;\n",
              "    display: none;\n",
              "    fill: var(--fill-color);\n",
              "    height: 32px;\n",
              "    padding: 0;\n",
              "    width: 32px;\n",
              "  }\n",
              "\n",
              "  .colab-df-quickchart:hover {\n",
              "    background-color: var(--hover-bg-color);\n",
              "    box-shadow: 0 1px 2px rgba(60, 64, 67, 0.3), 0 1px 3px 1px rgba(60, 64, 67, 0.15);\n",
              "    fill: var(--button-hover-fill-color);\n",
              "  }\n",
              "\n",
              "  .colab-df-quickchart-complete:disabled,\n",
              "  .colab-df-quickchart-complete:disabled:hover {\n",
              "    background-color: var(--disabled-bg-color);\n",
              "    fill: var(--disabled-fill-color);\n",
              "    box-shadow: none;\n",
              "  }\n",
              "\n",
              "  .colab-df-spinner {\n",
              "    border: 2px solid var(--fill-color);\n",
              "    border-color: transparent;\n",
              "    border-bottom-color: var(--fill-color);\n",
              "    animation:\n",
              "      spin 1s steps(1) infinite;\n",
              "  }\n",
              "\n",
              "  @keyframes spin {\n",
              "    0% {\n",
              "      border-color: transparent;\n",
              "      border-bottom-color: var(--fill-color);\n",
              "      border-left-color: var(--fill-color);\n",
              "    }\n",
              "    20% {\n",
              "      border-color: transparent;\n",
              "      border-left-color: var(--fill-color);\n",
              "      border-top-color: var(--fill-color);\n",
              "    }\n",
              "    30% {\n",
              "      border-color: transparent;\n",
              "      border-left-color: var(--fill-color);\n",
              "      border-top-color: var(--fill-color);\n",
              "      border-right-color: var(--fill-color);\n",
              "    }\n",
              "    40% {\n",
              "      border-color: transparent;\n",
              "      border-right-color: var(--fill-color);\n",
              "      border-top-color: var(--fill-color);\n",
              "    }\n",
              "    60% {\n",
              "      border-color: transparent;\n",
              "      border-right-color: var(--fill-color);\n",
              "    }\n",
              "    80% {\n",
              "      border-color: transparent;\n",
              "      border-right-color: var(--fill-color);\n",
              "      border-bottom-color: var(--fill-color);\n",
              "    }\n",
              "    90% {\n",
              "      border-color: transparent;\n",
              "      border-bottom-color: var(--fill-color);\n",
              "    }\n",
              "  }\n",
              "</style>\n",
              "\n",
              "      <script>\n",
              "        async function quickchart(key) {\n",
              "          const quickchartButtonEl =\n",
              "            document.querySelector('#' + key + ' button');\n",
              "          quickchartButtonEl.disabled = true;  // To prevent multiple clicks.\n",
              "          quickchartButtonEl.classList.add('colab-df-spinner');\n",
              "          try {\n",
              "            const charts = await google.colab.kernel.invokeFunction(\n",
              "                'suggestCharts', [key], {});\n",
              "          } catch (error) {\n",
              "            console.error('Error during call to suggestCharts:', error);\n",
              "          }\n",
              "          quickchartButtonEl.classList.remove('colab-df-spinner');\n",
              "          quickchartButtonEl.classList.add('colab-df-quickchart-complete');\n",
              "        }\n",
              "        (() => {\n",
              "          let quickchartButtonEl =\n",
              "            document.querySelector('#df-5efd2e91-c6ca-4e85-9055-16f34735793c button');\n",
              "          quickchartButtonEl.style.display =\n",
              "            google.colab.kernel.accessAllowed ? 'block' : 'none';\n",
              "        })();\n",
              "      </script>\n",
              "    </div>\n",
              "\n",
              "    </div>\n",
              "  </div>\n"
            ],
            "application/vnd.google.colaboratory.intrinsic+json": {
              "type": "dataframe",
              "variable_name": "full_features_df"
            }
          },
          "metadata": {},
          "execution_count": 18
        }
      ]
    },
    {
      "cell_type": "markdown",
      "source": [
        "Repetimos el mismo procedimiento con la data de testeo"
      ],
      "metadata": {
        "id": "3mkdtB-5PimK"
      },
      "id": "3mkdtB-5PimK"
    },
    {
      "cell_type": "code",
      "execution_count": null,
      "id": "08822b05",
      "metadata": {
        "id": "08822b05"
      },
      "outputs": [],
      "source": [
        "\n"
      ]
    }
  ],
  "metadata": {
    "colab": {
      "provenance": []
    },
    "kernelspec": {
      "display_name": "venv",
      "language": "python",
      "name": "python3"
    },
    "language_info": {
      "codemirror_mode": {
        "name": "ipython",
        "version": 3
      },
      "file_extension": ".py",
      "mimetype": "text/x-python",
      "name": "python",
      "nbconvert_exporter": "python",
      "pygments_lexer": "ipython3",
      "version": "3.11.6"
    }
  },
  "nbformat": 4,
  "nbformat_minor": 5
}
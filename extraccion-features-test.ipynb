{
 "cells": [
  {
   "cell_type": "code",
   "execution_count": 1,
   "id": "759f0432",
   "metadata": {},
   "outputs": [
    {
     "name": "stdout",
     "output_type": "stream",
     "text": [
      "Requirement already satisfied: h5py in ./venv/lib/python3.11/site-packages (3.13.0)\n",
      "Requirement already satisfied: numpy>=1.19.3 in ./venv/lib/python3.11/site-packages (from h5py) (2.2.5)\n",
      "Requirement already satisfied: pandas in ./venv/lib/python3.11/site-packages (2.2.3)\n",
      "Requirement already satisfied: numpy>=1.23.2 in ./venv/lib/python3.11/site-packages (from pandas) (2.2.5)\n",
      "Requirement already satisfied: python-dateutil>=2.8.2 in ./venv/lib/python3.11/site-packages (from pandas) (2.9.0.post0)\n",
      "Requirement already satisfied: pytz>=2020.1 in ./venv/lib/python3.11/site-packages (from pandas) (2025.2)\n",
      "Requirement already satisfied: tzdata>=2022.7 in ./venv/lib/python3.11/site-packages (from pandas) (2025.2)\n",
      "Requirement already satisfied: six>=1.5 in ./venv/lib/python3.11/site-packages (from python-dateutil>=2.8.2->pandas) (1.17.0)\n",
      "Requirement already satisfied: tsfresh in ./venv/lib/python3.11/site-packages (0.21.0)\n",
      "Requirement already satisfied: requests>=2.9.1 in ./venv/lib/python3.11/site-packages (from tsfresh) (2.32.3)\n",
      "Requirement already satisfied: numpy>=1.15.1 in ./venv/lib/python3.11/site-packages (from tsfresh) (2.2.5)\n",
      "Requirement already satisfied: pandas>=0.25.0 in ./venv/lib/python3.11/site-packages (from tsfresh) (2.2.3)\n",
      "Requirement already satisfied: statsmodels>=0.13 in ./venv/lib/python3.11/site-packages (from tsfresh) (0.14.4)\n",
      "Requirement already satisfied: patsy>=0.4.1 in ./venv/lib/python3.11/site-packages (from tsfresh) (1.0.1)\n",
      "Requirement already satisfied: pywavelets in ./venv/lib/python3.11/site-packages (from tsfresh) (1.8.0)\n",
      "Requirement already satisfied: scikit-learn>=0.22.0 in ./venv/lib/python3.11/site-packages (from tsfresh) (1.6.1)\n",
      "Requirement already satisfied: tqdm>=4.10.0 in ./venv/lib/python3.11/site-packages (from tsfresh) (4.67.1)\n",
      "Requirement already satisfied: stumpy>=1.7.2 in ./venv/lib/python3.11/site-packages (from tsfresh) (1.13.0)\n",
      "Requirement already satisfied: cloudpickle in ./venv/lib/python3.11/site-packages (from tsfresh) (3.1.1)\n",
      "Requirement already satisfied: scipy>=1.14.0 in ./venv/lib/python3.11/site-packages (from tsfresh) (1.15.2)\n",
      "Requirement already satisfied: python-dateutil>=2.8.2 in ./venv/lib/python3.11/site-packages (from pandas>=0.25.0->tsfresh) (2.9.0.post0)\n",
      "Requirement already satisfied: pytz>=2020.1 in ./venv/lib/python3.11/site-packages (from pandas>=0.25.0->tsfresh) (2025.2)\n",
      "Requirement already satisfied: tzdata>=2022.7 in ./venv/lib/python3.11/site-packages (from pandas>=0.25.0->tsfresh) (2025.2)\n",
      "Requirement already satisfied: charset-normalizer<4,>=2 in ./venv/lib/python3.11/site-packages (from requests>=2.9.1->tsfresh) (3.4.2)\n",
      "Requirement already satisfied: idna<4,>=2.5 in ./venv/lib/python3.11/site-packages (from requests>=2.9.1->tsfresh) (3.10)\n",
      "Requirement already satisfied: urllib3<3,>=1.21.1 in ./venv/lib/python3.11/site-packages (from requests>=2.9.1->tsfresh) (2.4.0)\n",
      "Requirement already satisfied: certifi>=2017.4.17 in ./venv/lib/python3.11/site-packages (from requests>=2.9.1->tsfresh) (2025.4.26)\n",
      "Requirement already satisfied: joblib>=1.2.0 in ./venv/lib/python3.11/site-packages (from scikit-learn>=0.22.0->tsfresh) (1.4.2)\n",
      "Requirement already satisfied: threadpoolctl>=3.1.0 in ./venv/lib/python3.11/site-packages (from scikit-learn>=0.22.0->tsfresh) (3.6.0)\n",
      "Requirement already satisfied: packaging>=21.3 in ./venv/lib/python3.11/site-packages (from statsmodels>=0.13->tsfresh) (25.0)\n",
      "Requirement already satisfied: numba>=0.57.1 in ./venv/lib/python3.11/site-packages (from stumpy>=1.7.2->tsfresh) (0.61.2)\n",
      "Requirement already satisfied: llvmlite<0.45,>=0.44.0dev0 in ./venv/lib/python3.11/site-packages (from numba>=0.57.1->stumpy>=1.7.2->tsfresh) (0.44.0)\n",
      "Requirement already satisfied: six>=1.5 in ./venv/lib/python3.11/site-packages (from python-dateutil>=2.8.2->pandas>=0.25.0->tsfresh) (1.17.0)\n"
     ]
    }
   ],
   "source": [
    "!pip install h5py\n",
    "!pip install pandas\n",
    "!pip install tsfresh\n"
   ]
  },
  {
   "cell_type": "code",
   "execution_count": 16,
   "id": "ced5dd4b",
   "metadata": {},
   "outputs": [],
   "source": [
    "import h5py\n",
    "import pandas as pd\n",
    "from tsfresh import extract_features, select_features\n",
    "from tsfresh.feature_extraction import EfficientFCParameters\n",
    "import multiprocessing\n",
    "import os\n",
    "import pickle\n",
    "import re"
   ]
  },
  {
   "cell_type": "code",
   "execution_count": null,
   "id": "9481d445",
   "metadata": {},
   "outputs": [
    {
     "name": "stdout",
     "output_type": "stream",
     "text": [
      "Keys (datasets disponibles): ['x', 'y']\n",
      "Shape de 'x': (204, 1, 18530)\n",
      "Tipos de datos de 'x':  float64\n",
      "Shape de 'y': (204,)\n",
      "Tipos de datos de 'y':  int64\n"
     ]
    }
   ],
   "source": [
    "\n",
    "with h5py.File(\"test.h5\", \"r\") as f:\n",
    "    # Explorar las claves disponibles\n",
    "    print(\"Keys (datasets disponibles):\", list(f.keys()))\n",
    "    # Cargar datos de 'x' y 'y'\n",
    "    x = f['x'][:]\n",
    "    \n",
    "    print(\"Shape de 'x':\", x.shape) # 1 representa el canal por el caul se tomo\n",
    "    print(\"Tipos de datos de 'x': \", x.dtype)\n"
   ]
  },
  {
   "cell_type": "code",
   "execution_count": 3,
   "id": "1873fd08",
   "metadata": {},
   "outputs": [
    {
     "name": "stdout",
     "output_type": "stream",
     "text": [
      "Shape de 'x': (205, 18530)\n"
     ]
    },
    {
     "data": {
      "text/html": [
       "<div>\n",
       "<style scoped>\n",
       "    .dataframe tbody tr th:only-of-type {\n",
       "        vertical-align: middle;\n",
       "    }\n",
       "\n",
       "    .dataframe tbody tr th {\n",
       "        vertical-align: top;\n",
       "    }\n",
       "\n",
       "    .dataframe thead th {\n",
       "        text-align: right;\n",
       "    }\n",
       "</style>\n",
       "<table border=\"1\" class=\"dataframe\">\n",
       "  <thead>\n",
       "    <tr style=\"text-align: right;\">\n",
       "      <th></th>\n",
       "      <th>0</th>\n",
       "      <th>1</th>\n",
       "      <th>2</th>\n",
       "      <th>3</th>\n",
       "      <th>4</th>\n",
       "      <th>5</th>\n",
       "      <th>6</th>\n",
       "      <th>7</th>\n",
       "      <th>8</th>\n",
       "      <th>9</th>\n",
       "      <th>...</th>\n",
       "      <th>18520</th>\n",
       "      <th>18521</th>\n",
       "      <th>18522</th>\n",
       "      <th>18523</th>\n",
       "      <th>18524</th>\n",
       "      <th>18525</th>\n",
       "      <th>18526</th>\n",
       "      <th>18527</th>\n",
       "      <th>18528</th>\n",
       "      <th>18529</th>\n",
       "    </tr>\n",
       "  </thead>\n",
       "  <tbody>\n",
       "    <tr>\n",
       "      <th>0</th>\n",
       "      <td>0.029938</td>\n",
       "      <td>0.061432</td>\n",
       "      <td>0.072388</td>\n",
       "      <td>0.081329</td>\n",
       "      <td>0.078033</td>\n",
       "      <td>0.089691</td>\n",
       "      <td>0.071564</td>\n",
       "      <td>0.072205</td>\n",
       "      <td>0.062988</td>\n",
       "      <td>0.057098</td>\n",
       "      <td>...</td>\n",
       "      <td>-0.000580</td>\n",
       "      <td>0.001617</td>\n",
       "      <td>0.003540</td>\n",
       "      <td>0.003662</td>\n",
       "      <td>0.002411</td>\n",
       "      <td>0.003143</td>\n",
       "      <td>0.002594</td>\n",
       "      <td>0.002045</td>\n",
       "      <td>0.002594</td>\n",
       "      <td>0.000549</td>\n",
       "    </tr>\n",
       "    <tr>\n",
       "      <th>1</th>\n",
       "      <td>0.000275</td>\n",
       "      <td>0.001160</td>\n",
       "      <td>0.001556</td>\n",
       "      <td>0.001740</td>\n",
       "      <td>0.002380</td>\n",
       "      <td>0.003693</td>\n",
       "      <td>0.004883</td>\n",
       "      <td>0.005310</td>\n",
       "      <td>0.005676</td>\n",
       "      <td>0.005310</td>\n",
       "      <td>...</td>\n",
       "      <td>0.013000</td>\n",
       "      <td>0.009399</td>\n",
       "      <td>0.005981</td>\n",
       "      <td>0.001801</td>\n",
       "      <td>-0.002045</td>\n",
       "      <td>-0.006378</td>\n",
       "      <td>-0.010986</td>\n",
       "      <td>-0.015106</td>\n",
       "      <td>-0.019196</td>\n",
       "      <td>-0.022736</td>\n",
       "    </tr>\n",
       "    <tr>\n",
       "      <th>2</th>\n",
       "      <td>-0.002899</td>\n",
       "      <td>-0.003510</td>\n",
       "      <td>0.000458</td>\n",
       "      <td>0.002991</td>\n",
       "      <td>0.005920</td>\n",
       "      <td>0.007355</td>\n",
       "      <td>0.008728</td>\n",
       "      <td>0.008698</td>\n",
       "      <td>0.007507</td>\n",
       "      <td>0.005341</td>\n",
       "      <td>...</td>\n",
       "      <td>-0.014679</td>\n",
       "      <td>-0.019745</td>\n",
       "      <td>-0.022583</td>\n",
       "      <td>-0.023346</td>\n",
       "      <td>-0.020325</td>\n",
       "      <td>-0.014557</td>\n",
       "      <td>-0.006927</td>\n",
       "      <td>0.001343</td>\n",
       "      <td>0.008972</td>\n",
       "      <td>0.015472</td>\n",
       "    </tr>\n",
       "    <tr>\n",
       "      <th>3</th>\n",
       "      <td>0.008636</td>\n",
       "      <td>0.018158</td>\n",
       "      <td>0.015717</td>\n",
       "      <td>0.015991</td>\n",
       "      <td>0.015442</td>\n",
       "      <td>0.015564</td>\n",
       "      <td>0.014679</td>\n",
       "      <td>0.014923</td>\n",
       "      <td>0.013916</td>\n",
       "      <td>0.014008</td>\n",
       "      <td>...</td>\n",
       "      <td>0.007874</td>\n",
       "      <td>0.006989</td>\n",
       "      <td>0.006531</td>\n",
       "      <td>0.006012</td>\n",
       "      <td>0.005066</td>\n",
       "      <td>0.005646</td>\n",
       "      <td>0.004944</td>\n",
       "      <td>0.005127</td>\n",
       "      <td>0.003754</td>\n",
       "      <td>0.003174</td>\n",
       "    </tr>\n",
       "    <tr>\n",
       "      <th>4</th>\n",
       "      <td>-0.011475</td>\n",
       "      <td>-0.022217</td>\n",
       "      <td>-0.017456</td>\n",
       "      <td>-0.018890</td>\n",
       "      <td>-0.019714</td>\n",
       "      <td>-0.021301</td>\n",
       "      <td>-0.025055</td>\n",
       "      <td>-0.033569</td>\n",
       "      <td>-0.039215</td>\n",
       "      <td>-0.038483</td>\n",
       "      <td>...</td>\n",
       "      <td>0.007263</td>\n",
       "      <td>0.008270</td>\n",
       "      <td>0.010071</td>\n",
       "      <td>0.012146</td>\n",
       "      <td>0.014221</td>\n",
       "      <td>0.015442</td>\n",
       "      <td>0.015778</td>\n",
       "      <td>0.015320</td>\n",
       "      <td>0.015198</td>\n",
       "      <td>0.015656</td>\n",
       "    </tr>\n",
       "  </tbody>\n",
       "</table>\n",
       "<p>5 rows × 18530 columns</p>\n",
       "</div>"
      ],
      "text/plain": [
       "      0         1         2         3         4         5         6      \\\n",
       "0  0.029938  0.061432  0.072388  0.081329  0.078033  0.089691  0.071564   \n",
       "1  0.000275  0.001160  0.001556  0.001740  0.002380  0.003693  0.004883   \n",
       "2 -0.002899 -0.003510  0.000458  0.002991  0.005920  0.007355  0.008728   \n",
       "3  0.008636  0.018158  0.015717  0.015991  0.015442  0.015564  0.014679   \n",
       "4 -0.011475 -0.022217 -0.017456 -0.018890 -0.019714 -0.021301 -0.025055   \n",
       "\n",
       "      7         8         9      ...     18520     18521     18522     18523  \\\n",
       "0  0.072205  0.062988  0.057098  ... -0.000580  0.001617  0.003540  0.003662   \n",
       "1  0.005310  0.005676  0.005310  ...  0.013000  0.009399  0.005981  0.001801   \n",
       "2  0.008698  0.007507  0.005341  ... -0.014679 -0.019745 -0.022583 -0.023346   \n",
       "3  0.014923  0.013916  0.014008  ...  0.007874  0.006989  0.006531  0.006012   \n",
       "4 -0.033569 -0.039215 -0.038483  ...  0.007263  0.008270  0.010071  0.012146   \n",
       "\n",
       "      18524     18525     18526     18527     18528     18529  \n",
       "0  0.002411  0.003143  0.002594  0.002045  0.002594  0.000549  \n",
       "1 -0.002045 -0.006378 -0.010986 -0.015106 -0.019196 -0.022736  \n",
       "2 -0.020325 -0.014557 -0.006927  0.001343  0.008972  0.015472  \n",
       "3  0.005066  0.005646  0.004944  0.005127  0.003754  0.003174  \n",
       "4  0.014221  0.015442  0.015778  0.015320  0.015198  0.015656  \n",
       "\n",
       "[5 rows x 18530 columns]"
      ]
     },
     "execution_count": 3,
     "metadata": {},
     "output_type": "execute_result"
    }
   ],
   "source": [
    "with h5py.File(\"test.h5\", \"r\") as f_pd:\n",
    "    x_data = f_pd['x'][:]  \n",
    "x_df = pd.DataFrame(x_data[:,0,:])  \n",
    "\n",
    "print(\"Shape de 'x':\", x_df.shape) \n",
    "\n",
    "# Ver las primeras filas del DataFrame\n",
    "x_df.head()\n"
   ]
  },
  {
   "cell_type": "code",
   "execution_count": 4,
   "id": "5657b27c",
   "metadata": {},
   "outputs": [],
   "source": [
    "# Parseamos el dataset para poder usar la libreía de las series temporales\n",
    "\n",
    "def parsear_time_series(dataset):\n",
    "    parsed = []  \n",
    "\n",
    "    for id, series in enumerate(dataset.values):\n",
    "        # Aplanar la serie (la serie tiene forma (1, N), la aplanamos)\n",
    "        series = series.flatten()\n",
    "\n",
    "        # Crear el DataFrame para cada serie temporal\n",
    "        df = pd.DataFrame({\n",
    "            'id': id,  # Identificador de la serie\n",
    "            'time': range(len(series)),  # Tiempo \n",
    "            'valor': series  # Los valores de la serie temporal\n",
    "        })\n",
    "        parsed.append(df) \n",
    "\n",
    "    # Concatenamos todos los DataFrames en uno solo\n",
    "    result = pd.concat(parsed, ignore_index=True)\n",
    "    \n",
    "    return result\n",
    "\n",
    "    "
   ]
  },
  {
   "cell_type": "code",
   "execution_count": 5,
   "id": "ae4fef09",
   "metadata": {},
   "outputs": [
    {
     "name": "stdout",
     "output_type": "stream",
     "text": [
      "EL shape de df_rady para la extracción es:  (3798650, 3)\n",
      "id         int64\n",
      "time       int64\n",
      "valor    float64\n",
      "dtype: object\n",
      "   id  time     valor\n",
      "0   0     0  0.029938\n",
      "1   0     1  0.061432\n",
      "2   0     2  0.072388\n",
      "3   0     3  0.081329\n",
      "4   0     4  0.078033\n"
     ]
    }
   ],
   "source": [
    "df_ready = parsear_time_series(x_df)\n",
    "\n",
    "print(\"EL shape de df_rady para la extracción es: \", df_ready.shape)\n",
    "print(df_ready.dtypes)\n",
    "print(df_ready.head())\n"
   ]
  },
  {
   "cell_type": "code",
   "execution_count": 7,
   "id": "43dd4486",
   "metadata": {},
   "outputs": [
    {
     "name": "stdout",
     "output_type": "stream",
     "text": [
      "Número de CPUs disponibles: 16\n"
     ]
    }
   ],
   "source": [
    "import multiprocessing\n",
    "print(\"Número de CPUs disponibles:\", multiprocessing.cpu_count())"
   ]
  },
  {
   "cell_type": "code",
   "execution_count": 26,
   "id": "6bac7da3",
   "metadata": {},
   "outputs": [
    {
     "name": "stdout",
     "output_type": "stream",
     "text": [
      "[]\n",
      "Procesando ID: 0...\n"
     ]
    },
    {
     "name": "stderr",
     "output_type": "stream",
     "text": [
      "Feature Extraction: 100%|██████████| 1/1 [00:03<00:00,  3.74s/it]"
     ]
    },
    {
     "name": "stdout",
     "output_type": "stream",
     "text": [
      "EL tamaño de feature id es:  (1, 777)\n",
      "Características de ID=0 guardadas en: featuresTest/features_id_0.pkl\n",
      "Procesando ID: 1...\n"
     ]
    },
    {
     "name": "stderr",
     "output_type": "stream",
     "text": [
      "\n",
      "Feature Extraction: 100%|██████████| 1/1 [00:03<00:00,  3.51s/it]"
     ]
    },
    {
     "name": "stdout",
     "output_type": "stream",
     "text": [
      "EL tamaño de feature id es:  (1, 777)\n",
      "Características de ID=1 guardadas en: featuresTest/features_id_1.pkl\n",
      "Procesando ID: 2...\n"
     ]
    },
    {
     "name": "stderr",
     "output_type": "stream",
     "text": [
      "\n",
      "Feature Extraction: 100%|██████████| 1/1 [00:03<00:00,  3.61s/it]"
     ]
    },
    {
     "name": "stdout",
     "output_type": "stream",
     "text": [
      "EL tamaño de feature id es:  (1, 777)\n",
      "Características de ID=2 guardadas en: featuresTest/features_id_2.pkl\n",
      "Procesando ID: 3...\n"
     ]
    },
    {
     "name": "stderr",
     "output_type": "stream",
     "text": [
      "\n",
      "Feature Extraction: 100%|██████████| 1/1 [00:03<00:00,  3.44s/it]"
     ]
    },
    {
     "name": "stdout",
     "output_type": "stream",
     "text": [
      "EL tamaño de feature id es:  (1, 777)\n",
      "Características de ID=3 guardadas en: featuresTest/features_id_3.pkl\n",
      "Procesando ID: 4...\n"
     ]
    },
    {
     "name": "stderr",
     "output_type": "stream",
     "text": [
      "\n",
      "Feature Extraction: 100%|██████████| 1/1 [00:03<00:00,  3.47s/it]"
     ]
    },
    {
     "name": "stdout",
     "output_type": "stream",
     "text": [
      "EL tamaño de feature id es:  (1, 777)\n",
      "Características de ID=4 guardadas en: featuresTest/features_id_4.pkl\n",
      "Procesando ID: 5...\n"
     ]
    },
    {
     "name": "stderr",
     "output_type": "stream",
     "text": [
      "\n",
      "Feature Extraction: 100%|██████████| 1/1 [00:03<00:00,  3.55s/it]"
     ]
    },
    {
     "name": "stdout",
     "output_type": "stream",
     "text": [
      "EL tamaño de feature id es:  (1, 777)\n",
      "Características de ID=5 guardadas en: featuresTest/features_id_5.pkl\n",
      "Procesando ID: 6...\n"
     ]
    },
    {
     "name": "stderr",
     "output_type": "stream",
     "text": [
      "\n",
      "Feature Extraction: 100%|██████████| 1/1 [00:03<00:00,  3.44s/it]"
     ]
    },
    {
     "name": "stdout",
     "output_type": "stream",
     "text": [
      "EL tamaño de feature id es:  (1, 777)\n",
      "Características de ID=6 guardadas en: featuresTest/features_id_6.pkl\n",
      "Procesando ID: 7...\n"
     ]
    },
    {
     "name": "stderr",
     "output_type": "stream",
     "text": [
      "\n",
      "Feature Extraction: 100%|██████████| 1/1 [00:03<00:00,  3.26s/it]"
     ]
    },
    {
     "name": "stdout",
     "output_type": "stream",
     "text": [
      "EL tamaño de feature id es:  (1, 777)\n",
      "Características de ID=7 guardadas en: featuresTest/features_id_7.pkl\n",
      "Procesando ID: 8...\n"
     ]
    },
    {
     "name": "stderr",
     "output_type": "stream",
     "text": [
      "\n",
      "Feature Extraction: 100%|██████████| 1/1 [00:03<00:00,  3.27s/it]"
     ]
    },
    {
     "name": "stdout",
     "output_type": "stream",
     "text": [
      "EL tamaño de feature id es:  (1, 777)\n",
      "Características de ID=8 guardadas en: featuresTest/features_id_8.pkl\n",
      "Procesando ID: 9...\n"
     ]
    },
    {
     "name": "stderr",
     "output_type": "stream",
     "text": [
      "\n",
      "Feature Extraction: 100%|██████████| 1/1 [00:03<00:00,  3.10s/it]"
     ]
    },
    {
     "name": "stdout",
     "output_type": "stream",
     "text": [
      "EL tamaño de feature id es:  (1, 777)\n",
      "Características de ID=9 guardadas en: featuresTest/features_id_9.pkl\n",
      "Procesando ID: 10...\n"
     ]
    },
    {
     "name": "stderr",
     "output_type": "stream",
     "text": [
      "\n",
      "Feature Extraction: 100%|██████████| 1/1 [00:03<00:00,  3.60s/it]"
     ]
    },
    {
     "name": "stdout",
     "output_type": "stream",
     "text": [
      "EL tamaño de feature id es:  (1, 777)\n",
      "Características de ID=10 guardadas en: featuresTest/features_id_10.pkl\n",
      "Procesando ID: 11...\n"
     ]
    },
    {
     "name": "stderr",
     "output_type": "stream",
     "text": [
      "\n",
      "Feature Extraction: 100%|██████████| 1/1 [00:03<00:00,  3.33s/it]"
     ]
    },
    {
     "name": "stdout",
     "output_type": "stream",
     "text": [
      "EL tamaño de feature id es:  (1, 777)\n",
      "Características de ID=11 guardadas en: featuresTest/features_id_11.pkl\n",
      "Procesando ID: 12...\n"
     ]
    },
    {
     "name": "stderr",
     "output_type": "stream",
     "text": [
      "\n",
      "Feature Extraction: 100%|██████████| 1/1 [00:03<00:00,  3.19s/it]"
     ]
    },
    {
     "name": "stdout",
     "output_type": "stream",
     "text": [
      "EL tamaño de feature id es:  (1, 777)\n",
      "Características de ID=12 guardadas en: featuresTest/features_id_12.pkl\n",
      "Procesando ID: 13...\n"
     ]
    },
    {
     "name": "stderr",
     "output_type": "stream",
     "text": [
      "\n",
      "Feature Extraction: 100%|██████████| 1/1 [00:03<00:00,  3.50s/it]"
     ]
    },
    {
     "name": "stdout",
     "output_type": "stream",
     "text": [
      "EL tamaño de feature id es:  (1, 777)\n",
      "Características de ID=13 guardadas en: featuresTest/features_id_13.pkl\n",
      "Procesando ID: 14...\n"
     ]
    },
    {
     "name": "stderr",
     "output_type": "stream",
     "text": [
      "\n",
      "Feature Extraction: 100%|██████████| 1/1 [00:03<00:00,  3.23s/it]"
     ]
    },
    {
     "name": "stdout",
     "output_type": "stream",
     "text": [
      "EL tamaño de feature id es:  (1, 777)\n",
      "Características de ID=14 guardadas en: featuresTest/features_id_14.pkl\n",
      "Procesando ID: 15...\n"
     ]
    },
    {
     "name": "stderr",
     "output_type": "stream",
     "text": [
      "\n",
      "Feature Extraction: 100%|██████████| 1/1 [00:03<00:00,  3.32s/it]"
     ]
    },
    {
     "name": "stdout",
     "output_type": "stream",
     "text": [
      "EL tamaño de feature id es:  (1, 777)\n",
      "Características de ID=15 guardadas en: featuresTest/features_id_15.pkl\n",
      "Procesando ID: 16...\n"
     ]
    },
    {
     "name": "stderr",
     "output_type": "stream",
     "text": [
      "\n",
      "Feature Extraction: 100%|██████████| 1/1 [00:03<00:00,  3.83s/it]"
     ]
    },
    {
     "name": "stdout",
     "output_type": "stream",
     "text": [
      "EL tamaño de feature id es:  (1, 777)\n",
      "Características de ID=16 guardadas en: featuresTest/features_id_16.pkl\n",
      "Procesando ID: 17...\n"
     ]
    },
    {
     "name": "stderr",
     "output_type": "stream",
     "text": [
      "\n",
      "Feature Extraction: 100%|██████████| 1/1 [00:03<00:00,  3.27s/it]"
     ]
    },
    {
     "name": "stdout",
     "output_type": "stream",
     "text": [
      "EL tamaño de feature id es:  (1, 777)\n",
      "Características de ID=17 guardadas en: featuresTest/features_id_17.pkl\n",
      "Procesando ID: 18...\n"
     ]
    },
    {
     "name": "stderr",
     "output_type": "stream",
     "text": [
      "\n",
      "Feature Extraction: 100%|██████████| 1/1 [00:03<00:00,  3.44s/it]"
     ]
    },
    {
     "name": "stdout",
     "output_type": "stream",
     "text": [
      "EL tamaño de feature id es:  (1, 777)\n",
      "Características de ID=18 guardadas en: featuresTest/features_id_18.pkl\n",
      "Procesando ID: 19...\n"
     ]
    },
    {
     "name": "stderr",
     "output_type": "stream",
     "text": [
      "\n",
      "Feature Extraction: 100%|██████████| 1/1 [00:03<00:00,  3.57s/it]"
     ]
    },
    {
     "name": "stdout",
     "output_type": "stream",
     "text": [
      "EL tamaño de feature id es:  (1, 777)\n",
      "Características de ID=19 guardadas en: featuresTest/features_id_19.pkl\n",
      "Procesando ID: 20...\n"
     ]
    },
    {
     "name": "stderr",
     "output_type": "stream",
     "text": [
      "\n",
      "Feature Extraction: 100%|██████████| 1/1 [00:04<00:00,  4.07s/it]"
     ]
    },
    {
     "name": "stdout",
     "output_type": "stream",
     "text": [
      "EL tamaño de feature id es:  (1, 777)\n",
      "Características de ID=20 guardadas en: featuresTest/features_id_20.pkl\n",
      "Procesando ID: 21...\n"
     ]
    },
    {
     "name": "stderr",
     "output_type": "stream",
     "text": [
      "\n",
      "Feature Extraction: 100%|██████████| 1/1 [00:03<00:00,  3.10s/it]"
     ]
    },
    {
     "name": "stdout",
     "output_type": "stream",
     "text": [
      "EL tamaño de feature id es:  (1, 777)\n",
      "Características de ID=21 guardadas en: featuresTest/features_id_21.pkl\n",
      "Procesando ID: 22...\n"
     ]
    },
    {
     "name": "stderr",
     "output_type": "stream",
     "text": [
      "\n",
      "Feature Extraction: 100%|██████████| 1/1 [00:04<00:00,  4.15s/it]"
     ]
    },
    {
     "name": "stdout",
     "output_type": "stream",
     "text": [
      "EL tamaño de feature id es:  (1, 777)\n",
      "Características de ID=22 guardadas en: featuresTest/features_id_22.pkl\n",
      "Procesando ID: 23...\n"
     ]
    },
    {
     "name": "stderr",
     "output_type": "stream",
     "text": [
      "\n",
      "Feature Extraction: 100%|██████████| 1/1 [00:03<00:00,  3.32s/it]"
     ]
    },
    {
     "name": "stdout",
     "output_type": "stream",
     "text": [
      "EL tamaño de feature id es:  (1, 777)\n",
      "Características de ID=23 guardadas en: featuresTest/features_id_23.pkl\n",
      "Procesando ID: 24...\n"
     ]
    },
    {
     "name": "stderr",
     "output_type": "stream",
     "text": [
      "\n",
      "Feature Extraction: 100%|██████████| 1/1 [00:03<00:00,  3.35s/it]"
     ]
    },
    {
     "name": "stdout",
     "output_type": "stream",
     "text": [
      "EL tamaño de feature id es:  (1, 777)\n",
      "Características de ID=24 guardadas en: featuresTest/features_id_24.pkl\n",
      "Procesando ID: 25...\n"
     ]
    },
    {
     "name": "stderr",
     "output_type": "stream",
     "text": [
      "\n",
      "Feature Extraction: 100%|██████████| 1/1 [00:03<00:00,  3.36s/it]"
     ]
    },
    {
     "name": "stdout",
     "output_type": "stream",
     "text": [
      "EL tamaño de feature id es:  (1, 777)\n",
      "Características de ID=25 guardadas en: featuresTest/features_id_25.pkl\n",
      "Procesando ID: 26...\n"
     ]
    },
    {
     "name": "stderr",
     "output_type": "stream",
     "text": [
      "\n",
      "Feature Extraction: 100%|██████████| 1/1 [00:03<00:00,  3.17s/it]"
     ]
    },
    {
     "name": "stdout",
     "output_type": "stream",
     "text": [
      "EL tamaño de feature id es:  (1, 777)\n",
      "Características de ID=26 guardadas en: featuresTest/features_id_26.pkl\n",
      "Procesando ID: 27...\n"
     ]
    },
    {
     "name": "stderr",
     "output_type": "stream",
     "text": [
      "\n",
      "Feature Extraction: 100%|██████████| 1/1 [00:03<00:00,  3.38s/it]"
     ]
    },
    {
     "name": "stdout",
     "output_type": "stream",
     "text": [
      "EL tamaño de feature id es:  (1, 777)\n",
      "Características de ID=27 guardadas en: featuresTest/features_id_27.pkl\n",
      "Procesando ID: 28...\n"
     ]
    },
    {
     "name": "stderr",
     "output_type": "stream",
     "text": [
      "\n",
      "Feature Extraction: 100%|██████████| 1/1 [00:03<00:00,  3.32s/it]"
     ]
    },
    {
     "name": "stdout",
     "output_type": "stream",
     "text": [
      "EL tamaño de feature id es:  (1, 777)\n",
      "Características de ID=28 guardadas en: featuresTest/features_id_28.pkl\n",
      "Procesando ID: 29...\n"
     ]
    },
    {
     "name": "stderr",
     "output_type": "stream",
     "text": [
      "\n",
      "Feature Extraction: 100%|██████████| 1/1 [00:03<00:00,  3.69s/it]"
     ]
    },
    {
     "name": "stdout",
     "output_type": "stream",
     "text": [
      "EL tamaño de feature id es:  (1, 777)\n",
      "Características de ID=29 guardadas en: featuresTest/features_id_29.pkl\n",
      "Procesando ID: 30...\n"
     ]
    },
    {
     "name": "stderr",
     "output_type": "stream",
     "text": [
      "\n",
      "Feature Extraction: 100%|██████████| 1/1 [00:03<00:00,  3.52s/it]"
     ]
    },
    {
     "name": "stdout",
     "output_type": "stream",
     "text": [
      "EL tamaño de feature id es:  (1, 777)\n",
      "Características de ID=30 guardadas en: featuresTest/features_id_30.pkl\n",
      "Procesando ID: 31...\n"
     ]
    },
    {
     "name": "stderr",
     "output_type": "stream",
     "text": [
      "\n",
      "Feature Extraction: 100%|██████████| 1/1 [00:03<00:00,  3.09s/it]"
     ]
    },
    {
     "name": "stdout",
     "output_type": "stream",
     "text": [
      "EL tamaño de feature id es:  (1, 777)\n",
      "Características de ID=31 guardadas en: featuresTest/features_id_31.pkl\n",
      "Procesando ID: 32...\n"
     ]
    },
    {
     "name": "stderr",
     "output_type": "stream",
     "text": [
      "\n",
      "Feature Extraction: 100%|██████████| 1/1 [00:03<00:00,  3.13s/it]"
     ]
    },
    {
     "name": "stdout",
     "output_type": "stream",
     "text": [
      "EL tamaño de feature id es:  (1, 777)\n",
      "Características de ID=32 guardadas en: featuresTest/features_id_32.pkl\n",
      "Procesando ID: 33...\n"
     ]
    },
    {
     "name": "stderr",
     "output_type": "stream",
     "text": [
      "\n",
      "Feature Extraction: 100%|██████████| 1/1 [00:03<00:00,  3.07s/it]"
     ]
    },
    {
     "name": "stdout",
     "output_type": "stream",
     "text": [
      "EL tamaño de feature id es:  (1, 777)\n",
      "Características de ID=33 guardadas en: featuresTest/features_id_33.pkl\n",
      "Procesando ID: 34...\n"
     ]
    },
    {
     "name": "stderr",
     "output_type": "stream",
     "text": [
      "\n",
      "Feature Extraction: 100%|██████████| 1/1 [00:03<00:00,  3.10s/it]"
     ]
    },
    {
     "name": "stdout",
     "output_type": "stream",
     "text": [
      "EL tamaño de feature id es:  (1, 777)\n",
      "Características de ID=34 guardadas en: featuresTest/features_id_34.pkl\n",
      "Procesando ID: 35...\n"
     ]
    },
    {
     "name": "stderr",
     "output_type": "stream",
     "text": [
      "\n",
      "Feature Extraction: 100%|██████████| 1/1 [00:02<00:00,  2.90s/it]"
     ]
    },
    {
     "name": "stdout",
     "output_type": "stream",
     "text": [
      "EL tamaño de feature id es:  (1, 777)\n",
      "Características de ID=35 guardadas en: featuresTest/features_id_35.pkl\n",
      "Procesando ID: 36...\n"
     ]
    },
    {
     "name": "stderr",
     "output_type": "stream",
     "text": [
      "\n",
      "Feature Extraction: 100%|██████████| 1/1 [00:03<00:00,  3.21s/it]"
     ]
    },
    {
     "name": "stdout",
     "output_type": "stream",
     "text": [
      "EL tamaño de feature id es:  (1, 777)\n",
      "Características de ID=36 guardadas en: featuresTest/features_id_36.pkl\n",
      "Procesando ID: 37...\n"
     ]
    },
    {
     "name": "stderr",
     "output_type": "stream",
     "text": [
      "\n",
      "Feature Extraction: 100%|██████████| 1/1 [00:03<00:00,  3.06s/it]"
     ]
    },
    {
     "name": "stdout",
     "output_type": "stream",
     "text": [
      "EL tamaño de feature id es:  (1, 777)\n",
      "Características de ID=37 guardadas en: featuresTest/features_id_37.pkl\n",
      "Procesando ID: 38...\n"
     ]
    },
    {
     "name": "stderr",
     "output_type": "stream",
     "text": [
      "\n",
      "Feature Extraction: 100%|██████████| 1/1 [00:03<00:00,  3.00s/it]"
     ]
    },
    {
     "name": "stdout",
     "output_type": "stream",
     "text": [
      "EL tamaño de feature id es:  (1, 777)\n",
      "Características de ID=38 guardadas en: featuresTest/features_id_38.pkl\n",
      "Procesando ID: 39...\n"
     ]
    },
    {
     "name": "stderr",
     "output_type": "stream",
     "text": [
      "\n",
      "Feature Extraction: 100%|██████████| 1/1 [00:02<00:00,  2.88s/it]"
     ]
    },
    {
     "name": "stdout",
     "output_type": "stream",
     "text": [
      "EL tamaño de feature id es:  (1, 777)\n",
      "Características de ID=39 guardadas en: featuresTest/features_id_39.pkl\n",
      "Procesando ID: 40...\n"
     ]
    },
    {
     "name": "stderr",
     "output_type": "stream",
     "text": [
      "\n",
      "Feature Extraction: 100%|██████████| 1/1 [00:03<00:00,  3.03s/it]"
     ]
    },
    {
     "name": "stdout",
     "output_type": "stream",
     "text": [
      "EL tamaño de feature id es:  (1, 777)\n",
      "Características de ID=40 guardadas en: featuresTest/features_id_40.pkl\n",
      "Procesando ID: 41...\n"
     ]
    },
    {
     "name": "stderr",
     "output_type": "stream",
     "text": [
      "\n",
      "Feature Extraction: 100%|██████████| 1/1 [00:02<00:00,  2.88s/it]"
     ]
    },
    {
     "name": "stdout",
     "output_type": "stream",
     "text": [
      "EL tamaño de feature id es:  (1, 777)\n",
      "Características de ID=41 guardadas en: featuresTest/features_id_41.pkl\n",
      "Procesando ID: 42...\n"
     ]
    },
    {
     "name": "stderr",
     "output_type": "stream",
     "text": [
      "\n",
      "Feature Extraction: 100%|██████████| 1/1 [00:02<00:00,  2.96s/it]"
     ]
    },
    {
     "name": "stdout",
     "output_type": "stream",
     "text": [
      "EL tamaño de feature id es:  (1, 777)\n",
      "Características de ID=42 guardadas en: featuresTest/features_id_42.pkl\n",
      "Procesando ID: 43...\n"
     ]
    },
    {
     "name": "stderr",
     "output_type": "stream",
     "text": [
      "\n",
      "Feature Extraction: 100%|██████████| 1/1 [00:03<00:00,  3.15s/it]"
     ]
    },
    {
     "name": "stdout",
     "output_type": "stream",
     "text": [
      "EL tamaño de feature id es:  (1, 777)\n",
      "Características de ID=43 guardadas en: featuresTest/features_id_43.pkl\n",
      "Procesando ID: 44...\n"
     ]
    },
    {
     "name": "stderr",
     "output_type": "stream",
     "text": [
      "\n",
      "Feature Extraction: 100%|██████████| 1/1 [00:04<00:00,  4.25s/it]"
     ]
    },
    {
     "name": "stdout",
     "output_type": "stream",
     "text": [
      "EL tamaño de feature id es:  (1, 777)\n",
      "Características de ID=44 guardadas en: featuresTest/features_id_44.pkl\n",
      "Procesando ID: 45...\n"
     ]
    },
    {
     "name": "stderr",
     "output_type": "stream",
     "text": [
      "\n",
      "Feature Extraction: 100%|██████████| 1/1 [00:04<00:00,  4.22s/it]"
     ]
    },
    {
     "name": "stdout",
     "output_type": "stream",
     "text": [
      "EL tamaño de feature id es:  (1, 777)\n",
      "Características de ID=45 guardadas en: featuresTest/features_id_45.pkl\n",
      "Procesando ID: 46...\n"
     ]
    },
    {
     "name": "stderr",
     "output_type": "stream",
     "text": [
      "\n",
      "Feature Extraction: 100%|██████████| 1/1 [00:03<00:00,  3.26s/it]"
     ]
    },
    {
     "name": "stdout",
     "output_type": "stream",
     "text": [
      "EL tamaño de feature id es:  (1, 777)\n",
      "Características de ID=46 guardadas en: featuresTest/features_id_46.pkl\n",
      "Procesando ID: 47...\n"
     ]
    },
    {
     "name": "stderr",
     "output_type": "stream",
     "text": [
      "\n",
      "Feature Extraction: 100%|██████████| 1/1 [00:03<00:00,  3.90s/it]"
     ]
    },
    {
     "name": "stdout",
     "output_type": "stream",
     "text": [
      "EL tamaño de feature id es:  (1, 777)\n",
      "Características de ID=47 guardadas en: featuresTest/features_id_47.pkl\n",
      "Procesando ID: 48...\n"
     ]
    },
    {
     "name": "stderr",
     "output_type": "stream",
     "text": [
      "\n",
      "Feature Extraction: 100%|██████████| 1/1 [00:03<00:00,  3.18s/it]"
     ]
    },
    {
     "name": "stdout",
     "output_type": "stream",
     "text": [
      "EL tamaño de feature id es:  (1, 777)\n",
      "Características de ID=48 guardadas en: featuresTest/features_id_48.pkl\n",
      "Procesando ID: 49...\n"
     ]
    },
    {
     "name": "stderr",
     "output_type": "stream",
     "text": [
      "\n",
      "Feature Extraction: 100%|██████████| 1/1 [00:03<00:00,  3.22s/it]"
     ]
    },
    {
     "name": "stdout",
     "output_type": "stream",
     "text": [
      "EL tamaño de feature id es:  (1, 777)\n",
      "Características de ID=49 guardadas en: featuresTest/features_id_49.pkl\n",
      "Procesando ID: 50...\n"
     ]
    },
    {
     "name": "stderr",
     "output_type": "stream",
     "text": [
      "\n",
      "Feature Extraction: 100%|██████████| 1/1 [00:03<00:00,  3.38s/it]"
     ]
    },
    {
     "name": "stdout",
     "output_type": "stream",
     "text": [
      "EL tamaño de feature id es:  (1, 777)\n",
      "Características de ID=50 guardadas en: featuresTest/features_id_50.pkl\n",
      "Procesando ID: 51...\n"
     ]
    },
    {
     "name": "stderr",
     "output_type": "stream",
     "text": [
      "\n",
      "Feature Extraction: 100%|██████████| 1/1 [00:03<00:00,  3.18s/it]"
     ]
    },
    {
     "name": "stdout",
     "output_type": "stream",
     "text": [
      "EL tamaño de feature id es:  (1, 777)\n",
      "Características de ID=51 guardadas en: featuresTest/features_id_51.pkl\n",
      "Procesando ID: 52...\n"
     ]
    },
    {
     "name": "stderr",
     "output_type": "stream",
     "text": [
      "\n",
      "Feature Extraction: 100%|██████████| 1/1 [00:03<00:00,  3.06s/it]"
     ]
    },
    {
     "name": "stdout",
     "output_type": "stream",
     "text": [
      "EL tamaño de feature id es:  (1, 777)\n",
      "Características de ID=52 guardadas en: featuresTest/features_id_52.pkl\n",
      "Procesando ID: 53...\n"
     ]
    },
    {
     "name": "stderr",
     "output_type": "stream",
     "text": [
      "\n",
      "Feature Extraction: 100%|██████████| 1/1 [00:02<00:00,  2.94s/it]"
     ]
    },
    {
     "name": "stdout",
     "output_type": "stream",
     "text": [
      "EL tamaño de feature id es:  (1, 777)\n",
      "Características de ID=53 guardadas en: featuresTest/features_id_53.pkl\n",
      "Procesando ID: 54...\n"
     ]
    },
    {
     "name": "stderr",
     "output_type": "stream",
     "text": [
      "\n",
      "Feature Extraction: 100%|██████████| 1/1 [00:03<00:00,  3.09s/it]"
     ]
    },
    {
     "name": "stdout",
     "output_type": "stream",
     "text": [
      "EL tamaño de feature id es:  (1, 777)\n",
      "Características de ID=54 guardadas en: featuresTest/features_id_54.pkl\n",
      "Procesando ID: 55...\n"
     ]
    },
    {
     "name": "stderr",
     "output_type": "stream",
     "text": [
      "\n",
      "Feature Extraction: 100%|██████████| 1/1 [00:03<00:00,  3.07s/it]"
     ]
    },
    {
     "name": "stdout",
     "output_type": "stream",
     "text": [
      "EL tamaño de feature id es:  (1, 777)\n",
      "Características de ID=55 guardadas en: featuresTest/features_id_55.pkl\n",
      "Procesando ID: 56...\n"
     ]
    },
    {
     "name": "stderr",
     "output_type": "stream",
     "text": [
      "\n",
      "Feature Extraction: 100%|██████████| 1/1 [00:02<00:00,  3.00s/it]"
     ]
    },
    {
     "name": "stdout",
     "output_type": "stream",
     "text": [
      "EL tamaño de feature id es:  (1, 777)\n",
      "Características de ID=56 guardadas en: featuresTest/features_id_56.pkl\n",
      "Procesando ID: 57...\n"
     ]
    },
    {
     "name": "stderr",
     "output_type": "stream",
     "text": [
      "\n",
      "Feature Extraction: 100%|██████████| 1/1 [00:03<00:00,  3.08s/it]"
     ]
    },
    {
     "name": "stdout",
     "output_type": "stream",
     "text": [
      "EL tamaño de feature id es:  (1, 777)\n",
      "Características de ID=57 guardadas en: featuresTest/features_id_57.pkl\n",
      "Procesando ID: 58...\n"
     ]
    },
    {
     "name": "stderr",
     "output_type": "stream",
     "text": [
      "\n",
      "Feature Extraction: 100%|██████████| 1/1 [00:03<00:00,  3.19s/it]"
     ]
    },
    {
     "name": "stdout",
     "output_type": "stream",
     "text": [
      "EL tamaño de feature id es:  (1, 777)\n",
      "Características de ID=58 guardadas en: featuresTest/features_id_58.pkl\n",
      "Procesando ID: 59...\n"
     ]
    },
    {
     "name": "stderr",
     "output_type": "stream",
     "text": [
      "\n",
      "Feature Extraction: 100%|██████████| 1/1 [00:03<00:00,  3.09s/it]"
     ]
    },
    {
     "name": "stdout",
     "output_type": "stream",
     "text": [
      "EL tamaño de feature id es:  (1, 777)\n",
      "Características de ID=59 guardadas en: featuresTest/features_id_59.pkl\n",
      "Procesando ID: 60...\n"
     ]
    },
    {
     "name": "stderr",
     "output_type": "stream",
     "text": [
      "\n",
      "Feature Extraction: 100%|██████████| 1/1 [00:03<00:00,  3.15s/it]"
     ]
    },
    {
     "name": "stdout",
     "output_type": "stream",
     "text": [
      "EL tamaño de feature id es:  (1, 777)\n",
      "Características de ID=60 guardadas en: featuresTest/features_id_60.pkl\n",
      "Procesando ID: 61...\n"
     ]
    },
    {
     "name": "stderr",
     "output_type": "stream",
     "text": [
      "\n",
      "Feature Extraction: 100%|██████████| 1/1 [00:03<00:00,  3.27s/it]"
     ]
    },
    {
     "name": "stdout",
     "output_type": "stream",
     "text": [
      "EL tamaño de feature id es:  (1, 777)\n",
      "Características de ID=61 guardadas en: featuresTest/features_id_61.pkl\n",
      "Procesando ID: 62...\n"
     ]
    },
    {
     "name": "stderr",
     "output_type": "stream",
     "text": [
      "\n",
      "Feature Extraction: 100%|██████████| 1/1 [00:03<00:00,  3.08s/it]"
     ]
    },
    {
     "name": "stdout",
     "output_type": "stream",
     "text": [
      "EL tamaño de feature id es:  (1, 777)\n",
      "Características de ID=62 guardadas en: featuresTest/features_id_62.pkl\n",
      "Procesando ID: 63...\n"
     ]
    },
    {
     "name": "stderr",
     "output_type": "stream",
     "text": [
      "\n",
      "Feature Extraction: 100%|██████████| 1/1 [00:03<00:00,  3.09s/it]"
     ]
    },
    {
     "name": "stdout",
     "output_type": "stream",
     "text": [
      "EL tamaño de feature id es:  (1, 777)\n",
      "Características de ID=63 guardadas en: featuresTest/features_id_63.pkl\n",
      "Procesando ID: 64...\n"
     ]
    },
    {
     "name": "stderr",
     "output_type": "stream",
     "text": [
      "\n",
      "Feature Extraction: 100%|██████████| 1/1 [00:03<00:00,  3.27s/it]"
     ]
    },
    {
     "name": "stdout",
     "output_type": "stream",
     "text": [
      "EL tamaño de feature id es:  (1, 777)\n",
      "Características de ID=64 guardadas en: featuresTest/features_id_64.pkl\n",
      "Procesando ID: 65...\n"
     ]
    },
    {
     "name": "stderr",
     "output_type": "stream",
     "text": [
      "\n",
      "Feature Extraction: 100%|██████████| 1/1 [00:04<00:00,  4.75s/it]"
     ]
    },
    {
     "name": "stdout",
     "output_type": "stream",
     "text": [
      "EL tamaño de feature id es:  (1, 777)\n",
      "Características de ID=65 guardadas en: featuresTest/features_id_65.pkl\n",
      "Procesando ID: 66...\n"
     ]
    },
    {
     "name": "stderr",
     "output_type": "stream",
     "text": [
      "\n",
      "Feature Extraction: 100%|██████████| 1/1 [00:04<00:00,  4.11s/it]"
     ]
    },
    {
     "name": "stdout",
     "output_type": "stream",
     "text": [
      "EL tamaño de feature id es:  (1, 777)\n",
      "Características de ID=66 guardadas en: featuresTest/features_id_66.pkl\n",
      "Procesando ID: 67...\n"
     ]
    },
    {
     "name": "stderr",
     "output_type": "stream",
     "text": [
      "\n",
      "Feature Extraction: 100%|██████████| 1/1 [00:03<00:00,  3.39s/it]"
     ]
    },
    {
     "name": "stdout",
     "output_type": "stream",
     "text": [
      "EL tamaño de feature id es:  (1, 777)\n",
      "Características de ID=67 guardadas en: featuresTest/features_id_67.pkl\n",
      "Procesando ID: 68...\n"
     ]
    },
    {
     "name": "stderr",
     "output_type": "stream",
     "text": [
      "\n",
      "Feature Extraction: 100%|██████████| 1/1 [00:03<00:00,  3.26s/it]"
     ]
    },
    {
     "name": "stdout",
     "output_type": "stream",
     "text": [
      "EL tamaño de feature id es:  (1, 777)\n",
      "Características de ID=68 guardadas en: featuresTest/features_id_68.pkl\n",
      "Procesando ID: 69...\n"
     ]
    },
    {
     "name": "stderr",
     "output_type": "stream",
     "text": [
      "\n",
      "Feature Extraction: 100%|██████████| 1/1 [00:03<00:00,  3.39s/it]"
     ]
    },
    {
     "name": "stdout",
     "output_type": "stream",
     "text": [
      "EL tamaño de feature id es:  (1, 777)\n",
      "Características de ID=69 guardadas en: featuresTest/features_id_69.pkl\n",
      "Procesando ID: 70...\n"
     ]
    },
    {
     "name": "stderr",
     "output_type": "stream",
     "text": [
      "\n",
      "Feature Extraction: 100%|██████████| 1/1 [00:03<00:00,  3.94s/it]"
     ]
    },
    {
     "name": "stdout",
     "output_type": "stream",
     "text": [
      "EL tamaño de feature id es:  (1, 777)\n",
      "Características de ID=70 guardadas en: featuresTest/features_id_70.pkl\n",
      "Procesando ID: 71...\n"
     ]
    },
    {
     "name": "stderr",
     "output_type": "stream",
     "text": [
      "\n",
      "Feature Extraction: 100%|██████████| 1/1 [00:04<00:00,  4.05s/it]"
     ]
    },
    {
     "name": "stdout",
     "output_type": "stream",
     "text": [
      "EL tamaño de feature id es:  (1, 777)\n",
      "Características de ID=71 guardadas en: featuresTest/features_id_71.pkl\n",
      "Procesando ID: 72...\n"
     ]
    },
    {
     "name": "stderr",
     "output_type": "stream",
     "text": [
      "\n",
      "Feature Extraction: 100%|██████████| 1/1 [00:03<00:00,  3.03s/it]"
     ]
    },
    {
     "name": "stdout",
     "output_type": "stream",
     "text": [
      "EL tamaño de feature id es:  (1, 777)\n",
      "Características de ID=72 guardadas en: featuresTest/features_id_72.pkl\n",
      "Procesando ID: 73...\n"
     ]
    },
    {
     "name": "stderr",
     "output_type": "stream",
     "text": [
      "\n",
      "Feature Extraction: 100%|██████████| 1/1 [00:02<00:00,  2.86s/it]"
     ]
    },
    {
     "name": "stdout",
     "output_type": "stream",
     "text": [
      "EL tamaño de feature id es:  (1, 777)\n",
      "Características de ID=73 guardadas en: featuresTest/features_id_73.pkl\n",
      "Procesando ID: 74...\n"
     ]
    },
    {
     "name": "stderr",
     "output_type": "stream",
     "text": [
      "\n",
      "Feature Extraction: 100%|██████████| 1/1 [00:03<00:00,  3.65s/it]"
     ]
    },
    {
     "name": "stdout",
     "output_type": "stream",
     "text": [
      "EL tamaño de feature id es:  (1, 777)\n",
      "Características de ID=74 guardadas en: featuresTest/features_id_74.pkl\n",
      "Procesando ID: 75...\n"
     ]
    },
    {
     "name": "stderr",
     "output_type": "stream",
     "text": [
      "\n",
      "Feature Extraction: 100%|██████████| 1/1 [00:03<00:00,  3.55s/it]"
     ]
    },
    {
     "name": "stdout",
     "output_type": "stream",
     "text": [
      "EL tamaño de feature id es:  (1, 777)\n",
      "Características de ID=75 guardadas en: featuresTest/features_id_75.pkl\n",
      "Procesando ID: 76...\n"
     ]
    },
    {
     "name": "stderr",
     "output_type": "stream",
     "text": [
      "\n",
      "Feature Extraction: 100%|██████████| 1/1 [00:03<00:00,  3.93s/it]"
     ]
    },
    {
     "name": "stdout",
     "output_type": "stream",
     "text": [
      "EL tamaño de feature id es:  (1, 777)\n",
      "Características de ID=76 guardadas en: featuresTest/features_id_76.pkl\n",
      "Procesando ID: 77...\n"
     ]
    },
    {
     "name": "stderr",
     "output_type": "stream",
     "text": [
      "\n",
      "Feature Extraction: 100%|██████████| 1/1 [00:03<00:00,  3.56s/it]"
     ]
    },
    {
     "name": "stdout",
     "output_type": "stream",
     "text": [
      "EL tamaño de feature id es:  (1, 777)\n",
      "Características de ID=77 guardadas en: featuresTest/features_id_77.pkl\n",
      "Procesando ID: 78...\n"
     ]
    },
    {
     "name": "stderr",
     "output_type": "stream",
     "text": [
      "\n",
      "Feature Extraction: 100%|██████████| 1/1 [00:02<00:00,  2.99s/it]"
     ]
    },
    {
     "name": "stdout",
     "output_type": "stream",
     "text": [
      "EL tamaño de feature id es:  (1, 777)\n",
      "Características de ID=78 guardadas en: featuresTest/features_id_78.pkl\n",
      "Procesando ID: 79...\n"
     ]
    },
    {
     "name": "stderr",
     "output_type": "stream",
     "text": [
      "\n",
      "Feature Extraction: 100%|██████████| 1/1 [00:02<00:00,  2.91s/it]"
     ]
    },
    {
     "name": "stdout",
     "output_type": "stream",
     "text": [
      "EL tamaño de feature id es:  (1, 777)\n",
      "Características de ID=79 guardadas en: featuresTest/features_id_79.pkl\n",
      "Procesando ID: 80...\n"
     ]
    },
    {
     "name": "stderr",
     "output_type": "stream",
     "text": [
      "\n",
      "Feature Extraction: 100%|██████████| 1/1 [00:03<00:00,  3.00s/it]"
     ]
    },
    {
     "name": "stdout",
     "output_type": "stream",
     "text": [
      "EL tamaño de feature id es:  (1, 777)\n",
      "Características de ID=80 guardadas en: featuresTest/features_id_80.pkl\n",
      "Procesando ID: 81...\n"
     ]
    },
    {
     "name": "stderr",
     "output_type": "stream",
     "text": [
      "\n",
      "Feature Extraction: 100%|██████████| 1/1 [00:03<00:00,  3.03s/it]"
     ]
    },
    {
     "name": "stdout",
     "output_type": "stream",
     "text": [
      "EL tamaño de feature id es:  (1, 777)\n",
      "Características de ID=81 guardadas en: featuresTest/features_id_81.pkl\n",
      "Procesando ID: 82...\n"
     ]
    },
    {
     "name": "stderr",
     "output_type": "stream",
     "text": [
      "\n",
      "Feature Extraction: 100%|██████████| 1/1 [00:02<00:00,  2.91s/it]"
     ]
    },
    {
     "name": "stdout",
     "output_type": "stream",
     "text": [
      "EL tamaño de feature id es:  (1, 777)\n",
      "Características de ID=82 guardadas en: featuresTest/features_id_82.pkl\n",
      "Procesando ID: 83...\n"
     ]
    },
    {
     "name": "stderr",
     "output_type": "stream",
     "text": [
      "\n",
      "Feature Extraction: 100%|██████████| 1/1 [00:02<00:00,  2.93s/it]"
     ]
    },
    {
     "name": "stdout",
     "output_type": "stream",
     "text": [
      "EL tamaño de feature id es:  (1, 777)\n",
      "Características de ID=83 guardadas en: featuresTest/features_id_83.pkl\n",
      "Procesando ID: 84...\n"
     ]
    },
    {
     "name": "stderr",
     "output_type": "stream",
     "text": [
      "\n",
      "Feature Extraction: 100%|██████████| 1/1 [00:02<00:00,  2.95s/it]"
     ]
    },
    {
     "name": "stdout",
     "output_type": "stream",
     "text": [
      "EL tamaño de feature id es:  (1, 777)\n",
      "Características de ID=84 guardadas en: featuresTest/features_id_84.pkl\n",
      "Procesando ID: 85...\n"
     ]
    },
    {
     "name": "stderr",
     "output_type": "stream",
     "text": [
      "\n",
      "Feature Extraction: 100%|██████████| 1/1 [00:03<00:00,  3.67s/it]"
     ]
    },
    {
     "name": "stdout",
     "output_type": "stream",
     "text": [
      "EL tamaño de feature id es:  (1, 777)\n",
      "Características de ID=85 guardadas en: featuresTest/features_id_85.pkl\n",
      "Procesando ID: 86...\n"
     ]
    },
    {
     "name": "stderr",
     "output_type": "stream",
     "text": [
      "\n",
      "Feature Extraction: 100%|██████████| 1/1 [00:03<00:00,  3.59s/it]"
     ]
    },
    {
     "name": "stdout",
     "output_type": "stream",
     "text": [
      "EL tamaño de feature id es:  (1, 777)\n",
      "Características de ID=86 guardadas en: featuresTest/features_id_86.pkl\n",
      "Procesando ID: 87...\n"
     ]
    },
    {
     "name": "stderr",
     "output_type": "stream",
     "text": [
      "\n",
      "Feature Extraction: 100%|██████████| 1/1 [00:03<00:00,  3.16s/it]"
     ]
    },
    {
     "name": "stdout",
     "output_type": "stream",
     "text": [
      "EL tamaño de feature id es:  (1, 777)\n",
      "Características de ID=87 guardadas en: featuresTest/features_id_87.pkl\n",
      "Procesando ID: 88...\n"
     ]
    },
    {
     "name": "stderr",
     "output_type": "stream",
     "text": [
      "\n",
      "Feature Extraction: 100%|██████████| 1/1 [00:03<00:00,  3.38s/it]"
     ]
    },
    {
     "name": "stdout",
     "output_type": "stream",
     "text": [
      "EL tamaño de feature id es:  (1, 777)\n",
      "Características de ID=88 guardadas en: featuresTest/features_id_88.pkl\n",
      "Procesando ID: 89...\n"
     ]
    },
    {
     "name": "stderr",
     "output_type": "stream",
     "text": [
      "\n",
      "Feature Extraction: 100%|██████████| 1/1 [00:02<00:00,  2.89s/it]"
     ]
    },
    {
     "name": "stdout",
     "output_type": "stream",
     "text": [
      "EL tamaño de feature id es:  (1, 777)\n",
      "Características de ID=89 guardadas en: featuresTest/features_id_89.pkl\n",
      "Procesando ID: 90...\n"
     ]
    },
    {
     "name": "stderr",
     "output_type": "stream",
     "text": [
      "\n",
      "Feature Extraction: 100%|██████████| 1/1 [00:03<00:00,  3.15s/it]"
     ]
    },
    {
     "name": "stdout",
     "output_type": "stream",
     "text": [
      "EL tamaño de feature id es:  (1, 777)\n",
      "Características de ID=90 guardadas en: featuresTest/features_id_90.pkl\n",
      "Procesando ID: 91...\n"
     ]
    },
    {
     "name": "stderr",
     "output_type": "stream",
     "text": [
      "\n",
      "Feature Extraction: 100%|██████████| 1/1 [00:03<00:00,  3.19s/it]"
     ]
    },
    {
     "name": "stdout",
     "output_type": "stream",
     "text": [
      "EL tamaño de feature id es:  (1, 777)\n",
      "Características de ID=91 guardadas en: featuresTest/features_id_91.pkl\n",
      "Procesando ID: 92...\n"
     ]
    },
    {
     "name": "stderr",
     "output_type": "stream",
     "text": [
      "\n",
      "Feature Extraction: 100%|██████████| 1/1 [00:03<00:00,  3.25s/it]"
     ]
    },
    {
     "name": "stdout",
     "output_type": "stream",
     "text": [
      "EL tamaño de feature id es:  (1, 777)\n",
      "Características de ID=92 guardadas en: featuresTest/features_id_92.pkl\n",
      "Procesando ID: 93...\n"
     ]
    },
    {
     "name": "stderr",
     "output_type": "stream",
     "text": [
      "\n",
      "Feature Extraction: 100%|██████████| 1/1 [00:03<00:00,  3.21s/it]"
     ]
    },
    {
     "name": "stdout",
     "output_type": "stream",
     "text": [
      "EL tamaño de feature id es:  (1, 777)\n",
      "Características de ID=93 guardadas en: featuresTest/features_id_93.pkl\n",
      "Procesando ID: 94...\n"
     ]
    },
    {
     "name": "stderr",
     "output_type": "stream",
     "text": [
      "\n",
      "Feature Extraction: 100%|██████████| 1/1 [00:02<00:00,  2.99s/it]"
     ]
    },
    {
     "name": "stdout",
     "output_type": "stream",
     "text": [
      "EL tamaño de feature id es:  (1, 777)\n",
      "Características de ID=94 guardadas en: featuresTest/features_id_94.pkl\n",
      "Procesando ID: 95...\n"
     ]
    },
    {
     "name": "stderr",
     "output_type": "stream",
     "text": [
      "\n",
      "Feature Extraction: 100%|██████████| 1/1 [00:03<00:00,  3.14s/it]"
     ]
    },
    {
     "name": "stdout",
     "output_type": "stream",
     "text": [
      "EL tamaño de feature id es:  (1, 777)\n",
      "Características de ID=95 guardadas en: featuresTest/features_id_95.pkl\n",
      "Procesando ID: 96...\n"
     ]
    },
    {
     "name": "stderr",
     "output_type": "stream",
     "text": [
      "\n",
      "Feature Extraction: 100%|██████████| 1/1 [00:03<00:00,  3.13s/it]"
     ]
    },
    {
     "name": "stdout",
     "output_type": "stream",
     "text": [
      "EL tamaño de feature id es:  (1, 777)\n",
      "Características de ID=96 guardadas en: featuresTest/features_id_96.pkl\n",
      "Procesando ID: 97...\n"
     ]
    },
    {
     "name": "stderr",
     "output_type": "stream",
     "text": [
      "\n",
      "Feature Extraction: 100%|██████████| 1/1 [00:03<00:00,  3.06s/it]"
     ]
    },
    {
     "name": "stdout",
     "output_type": "stream",
     "text": [
      "EL tamaño de feature id es:  (1, 777)\n",
      "Características de ID=97 guardadas en: featuresTest/features_id_97.pkl\n",
      "Procesando ID: 98...\n"
     ]
    },
    {
     "name": "stderr",
     "output_type": "stream",
     "text": [
      "\n",
      "Feature Extraction: 100%|██████████| 1/1 [00:03<00:00,  3.12s/it]"
     ]
    },
    {
     "name": "stdout",
     "output_type": "stream",
     "text": [
      "EL tamaño de feature id es:  (1, 777)\n",
      "Características de ID=98 guardadas en: featuresTest/features_id_98.pkl\n",
      "Procesando ID: 99...\n"
     ]
    },
    {
     "name": "stderr",
     "output_type": "stream",
     "text": [
      "\n",
      "Feature Extraction: 100%|██████████| 1/1 [00:03<00:00,  3.22s/it]"
     ]
    },
    {
     "name": "stdout",
     "output_type": "stream",
     "text": [
      "EL tamaño de feature id es:  (1, 777)\n",
      "Características de ID=99 guardadas en: featuresTest/features_id_99.pkl\n",
      "Procesando ID: 100...\n"
     ]
    },
    {
     "name": "stderr",
     "output_type": "stream",
     "text": [
      "\n",
      "Feature Extraction: 100%|██████████| 1/1 [00:03<00:00,  3.38s/it]"
     ]
    },
    {
     "name": "stdout",
     "output_type": "stream",
     "text": [
      "EL tamaño de feature id es:  (1, 777)\n",
      "Características de ID=100 guardadas en: featuresTest/features_id_100.pkl\n",
      "Procesando ID: 101...\n"
     ]
    },
    {
     "name": "stderr",
     "output_type": "stream",
     "text": [
      "\n",
      "Feature Extraction: 100%|██████████| 1/1 [00:03<00:00,  3.79s/it]"
     ]
    },
    {
     "name": "stdout",
     "output_type": "stream",
     "text": [
      "EL tamaño de feature id es:  (1, 777)\n",
      "Características de ID=101 guardadas en: featuresTest/features_id_101.pkl\n",
      "Procesando ID: 102...\n"
     ]
    },
    {
     "name": "stderr",
     "output_type": "stream",
     "text": [
      "\n",
      "Feature Extraction: 100%|██████████| 1/1 [00:03<00:00,  3.64s/it]"
     ]
    },
    {
     "name": "stdout",
     "output_type": "stream",
     "text": [
      "EL tamaño de feature id es:  (1, 777)\n",
      "Características de ID=102 guardadas en: featuresTest/features_id_102.pkl\n",
      "Procesando ID: 103...\n"
     ]
    },
    {
     "name": "stderr",
     "output_type": "stream",
     "text": [
      "\n",
      "Feature Extraction: 100%|██████████| 1/1 [00:03<00:00,  3.07s/it]"
     ]
    },
    {
     "name": "stdout",
     "output_type": "stream",
     "text": [
      "EL tamaño de feature id es:  (1, 777)\n",
      "Características de ID=103 guardadas en: featuresTest/features_id_103.pkl\n",
      "Procesando ID: 104...\n"
     ]
    },
    {
     "name": "stderr",
     "output_type": "stream",
     "text": [
      "\n",
      "Feature Extraction: 100%|██████████| 1/1 [00:03<00:00,  3.31s/it]"
     ]
    },
    {
     "name": "stdout",
     "output_type": "stream",
     "text": [
      "EL tamaño de feature id es:  (1, 777)\n",
      "Características de ID=104 guardadas en: featuresTest/features_id_104.pkl\n",
      "Procesando ID: 105...\n"
     ]
    },
    {
     "name": "stderr",
     "output_type": "stream",
     "text": [
      "\n",
      "Feature Extraction: 100%|██████████| 1/1 [00:03<00:00,  3.26s/it]"
     ]
    },
    {
     "name": "stdout",
     "output_type": "stream",
     "text": [
      "EL tamaño de feature id es:  (1, 777)\n",
      "Características de ID=105 guardadas en: featuresTest/features_id_105.pkl\n",
      "Procesando ID: 106...\n"
     ]
    },
    {
     "name": "stderr",
     "output_type": "stream",
     "text": [
      "\n",
      "Feature Extraction: 100%|██████████| 1/1 [00:03<00:00,  3.93s/it]"
     ]
    },
    {
     "name": "stdout",
     "output_type": "stream",
     "text": [
      "EL tamaño de feature id es:  (1, 777)\n",
      "Características de ID=106 guardadas en: featuresTest/features_id_106.pkl\n",
      "Procesando ID: 107...\n"
     ]
    },
    {
     "name": "stderr",
     "output_type": "stream",
     "text": [
      "\n",
      "Feature Extraction: 100%|██████████| 1/1 [00:03<00:00,  3.17s/it]"
     ]
    },
    {
     "name": "stdout",
     "output_type": "stream",
     "text": [
      "EL tamaño de feature id es:  (1, 777)\n",
      "Características de ID=107 guardadas en: featuresTest/features_id_107.pkl\n",
      "Procesando ID: 108...\n"
     ]
    },
    {
     "name": "stderr",
     "output_type": "stream",
     "text": [
      "\n",
      "Feature Extraction: 100%|██████████| 1/1 [00:04<00:00,  4.28s/it]"
     ]
    },
    {
     "name": "stdout",
     "output_type": "stream",
     "text": [
      "EL tamaño de feature id es:  (1, 777)\n",
      "Características de ID=108 guardadas en: featuresTest/features_id_108.pkl\n",
      "Procesando ID: 109...\n"
     ]
    },
    {
     "name": "stderr",
     "output_type": "stream",
     "text": [
      "\n",
      "Feature Extraction: 100%|██████████| 1/1 [00:03<00:00,  3.44s/it]"
     ]
    },
    {
     "name": "stdout",
     "output_type": "stream",
     "text": [
      "EL tamaño de feature id es:  (1, 777)\n",
      "Características de ID=109 guardadas en: featuresTest/features_id_109.pkl\n",
      "Procesando ID: 110...\n"
     ]
    },
    {
     "name": "stderr",
     "output_type": "stream",
     "text": [
      "\n",
      "Feature Extraction: 100%|██████████| 1/1 [00:03<00:00,  3.88s/it]"
     ]
    },
    {
     "name": "stdout",
     "output_type": "stream",
     "text": [
      "EL tamaño de feature id es:  (1, 777)\n",
      "Características de ID=110 guardadas en: featuresTest/features_id_110.pkl\n",
      "Procesando ID: 111...\n"
     ]
    },
    {
     "name": "stderr",
     "output_type": "stream",
     "text": [
      "\n",
      "Feature Extraction: 100%|██████████| 1/1 [00:03<00:00,  3.86s/it]"
     ]
    },
    {
     "name": "stdout",
     "output_type": "stream",
     "text": [
      "EL tamaño de feature id es:  (1, 777)\n",
      "Características de ID=111 guardadas en: featuresTest/features_id_111.pkl\n",
      "Procesando ID: 112...\n"
     ]
    },
    {
     "name": "stderr",
     "output_type": "stream",
     "text": [
      "\n",
      "Feature Extraction: 100%|██████████| 1/1 [00:03<00:00,  3.92s/it]"
     ]
    },
    {
     "name": "stdout",
     "output_type": "stream",
     "text": [
      "EL tamaño de feature id es:  (1, 777)\n",
      "Características de ID=112 guardadas en: featuresTest/features_id_112.pkl\n",
      "Procesando ID: 113...\n"
     ]
    },
    {
     "name": "stderr",
     "output_type": "stream",
     "text": [
      "\n",
      "Feature Extraction: 100%|██████████| 1/1 [00:03<00:00,  3.45s/it]"
     ]
    },
    {
     "name": "stdout",
     "output_type": "stream",
     "text": [
      "EL tamaño de feature id es:  (1, 777)\n",
      "Características de ID=113 guardadas en: featuresTest/features_id_113.pkl\n",
      "Procesando ID: 114...\n"
     ]
    },
    {
     "name": "stderr",
     "output_type": "stream",
     "text": [
      "\n",
      "Feature Extraction: 100%|██████████| 1/1 [00:03<00:00,  3.09s/it]"
     ]
    },
    {
     "name": "stdout",
     "output_type": "stream",
     "text": [
      "EL tamaño de feature id es:  (1, 777)\n",
      "Características de ID=114 guardadas en: featuresTest/features_id_114.pkl\n",
      "Procesando ID: 115...\n"
     ]
    },
    {
     "name": "stderr",
     "output_type": "stream",
     "text": [
      "\n",
      "Feature Extraction: 100%|██████████| 1/1 [00:04<00:00,  4.39s/it]"
     ]
    },
    {
     "name": "stdout",
     "output_type": "stream",
     "text": [
      "EL tamaño de feature id es:  (1, 777)\n",
      "Características de ID=115 guardadas en: featuresTest/features_id_115.pkl\n",
      "Procesando ID: 116...\n"
     ]
    },
    {
     "name": "stderr",
     "output_type": "stream",
     "text": [
      "\n",
      "Feature Extraction: 100%|██████████| 1/1 [00:03<00:00,  3.48s/it]"
     ]
    },
    {
     "name": "stdout",
     "output_type": "stream",
     "text": [
      "EL tamaño de feature id es:  (1, 777)\n",
      "Características de ID=116 guardadas en: featuresTest/features_id_116.pkl\n",
      "Procesando ID: 117...\n"
     ]
    },
    {
     "name": "stderr",
     "output_type": "stream",
     "text": [
      "\n",
      "Feature Extraction: 100%|██████████| 1/1 [00:04<00:00,  4.28s/it]"
     ]
    },
    {
     "name": "stdout",
     "output_type": "stream",
     "text": [
      "EL tamaño de feature id es:  (1, 777)\n",
      "Características de ID=117 guardadas en: featuresTest/features_id_117.pkl\n",
      "Procesando ID: 118...\n"
     ]
    },
    {
     "name": "stderr",
     "output_type": "stream",
     "text": [
      "\n",
      "Feature Extraction: 100%|██████████| 1/1 [00:03<00:00,  3.05s/it]"
     ]
    },
    {
     "name": "stdout",
     "output_type": "stream",
     "text": [
      "EL tamaño de feature id es:  (1, 777)\n",
      "Características de ID=118 guardadas en: featuresTest/features_id_118.pkl\n",
      "Procesando ID: 119...\n"
     ]
    },
    {
     "name": "stderr",
     "output_type": "stream",
     "text": [
      "\n",
      "Feature Extraction: 100%|██████████| 1/1 [00:03<00:00,  3.04s/it]"
     ]
    },
    {
     "name": "stdout",
     "output_type": "stream",
     "text": [
      "EL tamaño de feature id es:  (1, 777)\n",
      "Características de ID=119 guardadas en: featuresTest/features_id_119.pkl\n",
      "Procesando ID: 120...\n"
     ]
    },
    {
     "name": "stderr",
     "output_type": "stream",
     "text": [
      "\n",
      "Feature Extraction: 100%|██████████| 1/1 [00:03<00:00,  3.22s/it]"
     ]
    },
    {
     "name": "stdout",
     "output_type": "stream",
     "text": [
      "EL tamaño de feature id es:  (1, 777)\n",
      "Características de ID=120 guardadas en: featuresTest/features_id_120.pkl\n",
      "Procesando ID: 121...\n"
     ]
    },
    {
     "name": "stderr",
     "output_type": "stream",
     "text": [
      "\n",
      "Feature Extraction: 100%|██████████| 1/1 [00:03<00:00,  3.14s/it]"
     ]
    },
    {
     "name": "stdout",
     "output_type": "stream",
     "text": [
      "EL tamaño de feature id es:  (1, 777)\n",
      "Características de ID=121 guardadas en: featuresTest/features_id_121.pkl\n",
      "Procesando ID: 122...\n"
     ]
    },
    {
     "name": "stderr",
     "output_type": "stream",
     "text": [
      "\n",
      "Feature Extraction: 100%|██████████| 1/1 [00:03<00:00,  3.01s/it]"
     ]
    },
    {
     "name": "stdout",
     "output_type": "stream",
     "text": [
      "EL tamaño de feature id es:  (1, 777)\n",
      "Características de ID=122 guardadas en: featuresTest/features_id_122.pkl\n",
      "Procesando ID: 123...\n"
     ]
    },
    {
     "name": "stderr",
     "output_type": "stream",
     "text": [
      "\n",
      "Feature Extraction: 100%|██████████| 1/1 [00:03<00:00,  3.08s/it]"
     ]
    },
    {
     "name": "stdout",
     "output_type": "stream",
     "text": [
      "EL tamaño de feature id es:  (1, 777)\n",
      "Características de ID=123 guardadas en: featuresTest/features_id_123.pkl\n",
      "Procesando ID: 124...\n"
     ]
    },
    {
     "name": "stderr",
     "output_type": "stream",
     "text": [
      "\n",
      "Feature Extraction: 100%|██████████| 1/1 [00:03<00:00,  3.41s/it]"
     ]
    },
    {
     "name": "stdout",
     "output_type": "stream",
     "text": [
      "EL tamaño de feature id es:  (1, 777)\n",
      "Características de ID=124 guardadas en: featuresTest/features_id_124.pkl\n",
      "Procesando ID: 125...\n"
     ]
    },
    {
     "name": "stderr",
     "output_type": "stream",
     "text": [
      "\n",
      "Feature Extraction: 100%|██████████| 1/1 [00:03<00:00,  3.10s/it]"
     ]
    },
    {
     "name": "stdout",
     "output_type": "stream",
     "text": [
      "EL tamaño de feature id es:  (1, 777)\n",
      "Características de ID=125 guardadas en: featuresTest/features_id_125.pkl\n",
      "Procesando ID: 126...\n"
     ]
    },
    {
     "name": "stderr",
     "output_type": "stream",
     "text": [
      "\n",
      "Feature Extraction: 100%|██████████| 1/1 [00:03<00:00,  3.56s/it]"
     ]
    },
    {
     "name": "stdout",
     "output_type": "stream",
     "text": [
      "EL tamaño de feature id es:  (1, 777)\n",
      "Características de ID=126 guardadas en: featuresTest/features_id_126.pkl\n",
      "Procesando ID: 127...\n"
     ]
    },
    {
     "name": "stderr",
     "output_type": "stream",
     "text": [
      "\n",
      "Feature Extraction: 100%|██████████| 1/1 [00:03<00:00,  3.26s/it]"
     ]
    },
    {
     "name": "stdout",
     "output_type": "stream",
     "text": [
      "EL tamaño de feature id es:  (1, 777)\n",
      "Características de ID=127 guardadas en: featuresTest/features_id_127.pkl\n",
      "Procesando ID: 128...\n"
     ]
    },
    {
     "name": "stderr",
     "output_type": "stream",
     "text": [
      "\n",
      "Feature Extraction: 100%|██████████| 1/1 [00:03<00:00,  3.55s/it]"
     ]
    },
    {
     "name": "stdout",
     "output_type": "stream",
     "text": [
      "EL tamaño de feature id es:  (1, 777)\n",
      "Características de ID=128 guardadas en: featuresTest/features_id_128.pkl\n",
      "Procesando ID: 129...\n"
     ]
    },
    {
     "name": "stderr",
     "output_type": "stream",
     "text": [
      "\n",
      "Feature Extraction: 100%|██████████| 1/1 [00:03<00:00,  3.56s/it]"
     ]
    },
    {
     "name": "stdout",
     "output_type": "stream",
     "text": [
      "EL tamaño de feature id es:  (1, 777)\n",
      "Características de ID=129 guardadas en: featuresTest/features_id_129.pkl\n",
      "Procesando ID: 130...\n"
     ]
    },
    {
     "name": "stderr",
     "output_type": "stream",
     "text": [
      "\n",
      "Feature Extraction: 100%|██████████| 1/1 [00:03<00:00,  3.63s/it]"
     ]
    },
    {
     "name": "stdout",
     "output_type": "stream",
     "text": [
      "EL tamaño de feature id es:  (1, 777)\n",
      "Características de ID=130 guardadas en: featuresTest/features_id_130.pkl\n",
      "Procesando ID: 131...\n"
     ]
    },
    {
     "name": "stderr",
     "output_type": "stream",
     "text": [
      "\n",
      "Feature Extraction: 100%|██████████| 1/1 [00:03<00:00,  3.42s/it]"
     ]
    },
    {
     "name": "stdout",
     "output_type": "stream",
     "text": [
      "EL tamaño de feature id es:  (1, 777)\n",
      "Características de ID=131 guardadas en: featuresTest/features_id_131.pkl\n",
      "Procesando ID: 132...\n"
     ]
    },
    {
     "name": "stderr",
     "output_type": "stream",
     "text": [
      "\n",
      "Feature Extraction: 100%|██████████| 1/1 [00:03<00:00,  3.96s/it]"
     ]
    },
    {
     "name": "stdout",
     "output_type": "stream",
     "text": [
      "EL tamaño de feature id es:  (1, 777)\n",
      "Características de ID=132 guardadas en: featuresTest/features_id_132.pkl\n",
      "Procesando ID: 133...\n"
     ]
    },
    {
     "name": "stderr",
     "output_type": "stream",
     "text": [
      "\n",
      "Feature Extraction: 100%|██████████| 1/1 [00:03<00:00,  3.64s/it]"
     ]
    },
    {
     "name": "stdout",
     "output_type": "stream",
     "text": [
      "EL tamaño de feature id es:  (1, 777)\n",
      "Características de ID=133 guardadas en: featuresTest/features_id_133.pkl\n",
      "Procesando ID: 134...\n"
     ]
    },
    {
     "name": "stderr",
     "output_type": "stream",
     "text": [
      "\n",
      "Feature Extraction: 100%|██████████| 1/1 [00:03<00:00,  3.94s/it]"
     ]
    },
    {
     "name": "stdout",
     "output_type": "stream",
     "text": [
      "EL tamaño de feature id es:  (1, 777)\n",
      "Características de ID=134 guardadas en: featuresTest/features_id_134.pkl\n",
      "Procesando ID: 135...\n"
     ]
    },
    {
     "name": "stderr",
     "output_type": "stream",
     "text": [
      "\n",
      "Feature Extraction: 100%|██████████| 1/1 [00:03<00:00,  3.77s/it]"
     ]
    },
    {
     "name": "stdout",
     "output_type": "stream",
     "text": [
      "EL tamaño de feature id es:  (1, 777)\n",
      "Características de ID=135 guardadas en: featuresTest/features_id_135.pkl\n",
      "Procesando ID: 136...\n"
     ]
    },
    {
     "name": "stderr",
     "output_type": "stream",
     "text": [
      "\n",
      "Feature Extraction: 100%|██████████| 1/1 [00:03<00:00,  3.96s/it]"
     ]
    },
    {
     "name": "stdout",
     "output_type": "stream",
     "text": [
      "EL tamaño de feature id es:  (1, 777)\n",
      "Características de ID=136 guardadas en: featuresTest/features_id_136.pkl\n",
      "Procesando ID: 137...\n"
     ]
    },
    {
     "name": "stderr",
     "output_type": "stream",
     "text": [
      "\n",
      "Feature Extraction: 100%|██████████| 1/1 [00:03<00:00,  3.06s/it]"
     ]
    },
    {
     "name": "stdout",
     "output_type": "stream",
     "text": [
      "EL tamaño de feature id es:  (1, 777)\n",
      "Características de ID=137 guardadas en: featuresTest/features_id_137.pkl\n",
      "Procesando ID: 138...\n"
     ]
    },
    {
     "name": "stderr",
     "output_type": "stream",
     "text": [
      "\n",
      "Feature Extraction: 100%|██████████| 1/1 [00:03<00:00,  3.55s/it]"
     ]
    },
    {
     "name": "stdout",
     "output_type": "stream",
     "text": [
      "EL tamaño de feature id es:  (1, 777)\n",
      "Características de ID=138 guardadas en: featuresTest/features_id_138.pkl\n",
      "Procesando ID: 139...\n"
     ]
    },
    {
     "name": "stderr",
     "output_type": "stream",
     "text": [
      "\n",
      "Feature Extraction: 100%|██████████| 1/1 [00:03<00:00,  3.75s/it]"
     ]
    },
    {
     "name": "stdout",
     "output_type": "stream",
     "text": [
      "EL tamaño de feature id es:  (1, 777)\n",
      "Características de ID=139 guardadas en: featuresTest/features_id_139.pkl\n",
      "Procesando ID: 140...\n"
     ]
    },
    {
     "name": "stderr",
     "output_type": "stream",
     "text": [
      "\n",
      "Feature Extraction: 100%|██████████| 1/1 [00:03<00:00,  3.78s/it]"
     ]
    },
    {
     "name": "stdout",
     "output_type": "stream",
     "text": [
      "EL tamaño de feature id es:  (1, 777)\n",
      "Características de ID=140 guardadas en: featuresTest/features_id_140.pkl\n",
      "Procesando ID: 141...\n"
     ]
    },
    {
     "name": "stderr",
     "output_type": "stream",
     "text": [
      "\n",
      "Feature Extraction: 100%|██████████| 1/1 [00:03<00:00,  3.41s/it]"
     ]
    },
    {
     "name": "stdout",
     "output_type": "stream",
     "text": [
      "EL tamaño de feature id es:  (1, 777)\n",
      "Características de ID=141 guardadas en: featuresTest/features_id_141.pkl\n",
      "Procesando ID: 142...\n"
     ]
    },
    {
     "name": "stderr",
     "output_type": "stream",
     "text": [
      "\n",
      "Feature Extraction: 100%|██████████| 1/1 [00:03<00:00,  3.12s/it]"
     ]
    },
    {
     "name": "stdout",
     "output_type": "stream",
     "text": [
      "EL tamaño de feature id es:  (1, 777)\n",
      "Características de ID=142 guardadas en: featuresTest/features_id_142.pkl\n",
      "Procesando ID: 143...\n"
     ]
    },
    {
     "name": "stderr",
     "output_type": "stream",
     "text": [
      "\n",
      "Feature Extraction: 100%|██████████| 1/1 [00:03<00:00,  3.04s/it]"
     ]
    },
    {
     "name": "stdout",
     "output_type": "stream",
     "text": [
      "EL tamaño de feature id es:  (1, 777)\n",
      "Características de ID=143 guardadas en: featuresTest/features_id_143.pkl\n",
      "Procesando ID: 144...\n"
     ]
    },
    {
     "name": "stderr",
     "output_type": "stream",
     "text": [
      "\n",
      "Feature Extraction: 100%|██████████| 1/1 [00:03<00:00,  3.02s/it]"
     ]
    },
    {
     "name": "stdout",
     "output_type": "stream",
     "text": [
      "EL tamaño de feature id es:  (1, 777)\n",
      "Características de ID=144 guardadas en: featuresTest/features_id_144.pkl\n",
      "Procesando ID: 145...\n"
     ]
    },
    {
     "name": "stderr",
     "output_type": "stream",
     "text": [
      "\n",
      "Feature Extraction: 100%|██████████| 1/1 [00:03<00:00,  3.61s/it]"
     ]
    },
    {
     "name": "stdout",
     "output_type": "stream",
     "text": [
      "EL tamaño de feature id es:  (1, 777)\n",
      "Características de ID=145 guardadas en: featuresTest/features_id_145.pkl\n",
      "Procesando ID: 146...\n"
     ]
    },
    {
     "name": "stderr",
     "output_type": "stream",
     "text": [
      "\n",
      "Feature Extraction: 100%|██████████| 1/1 [00:02<00:00,  2.97s/it]"
     ]
    },
    {
     "name": "stdout",
     "output_type": "stream",
     "text": [
      "EL tamaño de feature id es:  (1, 777)\n",
      "Características de ID=146 guardadas en: featuresTest/features_id_146.pkl\n",
      "Procesando ID: 147...\n"
     ]
    },
    {
     "name": "stderr",
     "output_type": "stream",
     "text": [
      "\n",
      "Feature Extraction: 100%|██████████| 1/1 [00:03<00:00,  3.11s/it]"
     ]
    },
    {
     "name": "stdout",
     "output_type": "stream",
     "text": [
      "EL tamaño de feature id es:  (1, 777)\n",
      "Características de ID=147 guardadas en: featuresTest/features_id_147.pkl\n",
      "Procesando ID: 148...\n"
     ]
    },
    {
     "name": "stderr",
     "output_type": "stream",
     "text": [
      "\n",
      "Feature Extraction: 100%|██████████| 1/1 [00:02<00:00,  2.98s/it]"
     ]
    },
    {
     "name": "stdout",
     "output_type": "stream",
     "text": [
      "EL tamaño de feature id es:  (1, 777)\n",
      "Características de ID=148 guardadas en: featuresTest/features_id_148.pkl\n",
      "Procesando ID: 149...\n"
     ]
    },
    {
     "name": "stderr",
     "output_type": "stream",
     "text": [
      "\n",
      "Feature Extraction: 100%|██████████| 1/1 [00:03<00:00,  3.04s/it]"
     ]
    },
    {
     "name": "stdout",
     "output_type": "stream",
     "text": [
      "EL tamaño de feature id es:  (1, 777)\n",
      "Características de ID=149 guardadas en: featuresTest/features_id_149.pkl\n",
      "Procesando ID: 150...\n"
     ]
    },
    {
     "name": "stderr",
     "output_type": "stream",
     "text": [
      "\n",
      "Feature Extraction: 100%|██████████| 1/1 [00:03<00:00,  3.00s/it]"
     ]
    },
    {
     "name": "stdout",
     "output_type": "stream",
     "text": [
      "EL tamaño de feature id es:  (1, 777)\n",
      "Características de ID=150 guardadas en: featuresTest/features_id_150.pkl\n",
      "Procesando ID: 151...\n"
     ]
    },
    {
     "name": "stderr",
     "output_type": "stream",
     "text": [
      "\n",
      "Feature Extraction: 100%|██████████| 1/1 [00:03<00:00,  3.93s/it]"
     ]
    },
    {
     "name": "stdout",
     "output_type": "stream",
     "text": [
      "EL tamaño de feature id es:  (1, 777)\n",
      "Características de ID=151 guardadas en: featuresTest/features_id_151.pkl\n",
      "Procesando ID: 152...\n"
     ]
    },
    {
     "name": "stderr",
     "output_type": "stream",
     "text": [
      "\n",
      "Feature Extraction: 100%|██████████| 1/1 [00:03<00:00,  3.95s/it]"
     ]
    },
    {
     "name": "stdout",
     "output_type": "stream",
     "text": [
      "EL tamaño de feature id es:  (1, 777)\n",
      "Características de ID=152 guardadas en: featuresTest/features_id_152.pkl\n",
      "Procesando ID: 153...\n"
     ]
    },
    {
     "name": "stderr",
     "output_type": "stream",
     "text": [
      "\n",
      "Feature Extraction: 100%|██████████| 1/1 [00:03<00:00,  3.13s/it]"
     ]
    },
    {
     "name": "stdout",
     "output_type": "stream",
     "text": [
      "EL tamaño de feature id es:  (1, 777)\n",
      "Características de ID=153 guardadas en: featuresTest/features_id_153.pkl\n",
      "Procesando ID: 154...\n"
     ]
    },
    {
     "name": "stderr",
     "output_type": "stream",
     "text": [
      "\n",
      "Feature Extraction: 100%|██████████| 1/1 [00:03<00:00,  3.50s/it]"
     ]
    },
    {
     "name": "stdout",
     "output_type": "stream",
     "text": [
      "EL tamaño de feature id es:  (1, 777)\n",
      "Características de ID=154 guardadas en: featuresTest/features_id_154.pkl\n",
      "Procesando ID: 155...\n"
     ]
    },
    {
     "name": "stderr",
     "output_type": "stream",
     "text": [
      "\n",
      "Feature Extraction: 100%|██████████| 1/1 [00:02<00:00,  2.94s/it]"
     ]
    },
    {
     "name": "stdout",
     "output_type": "stream",
     "text": [
      "EL tamaño de feature id es:  (1, 777)\n",
      "Características de ID=155 guardadas en: featuresTest/features_id_155.pkl\n",
      "Procesando ID: 156...\n"
     ]
    },
    {
     "name": "stderr",
     "output_type": "stream",
     "text": [
      "\n",
      "Feature Extraction: 100%|██████████| 1/1 [00:03<00:00,  3.13s/it]"
     ]
    },
    {
     "name": "stdout",
     "output_type": "stream",
     "text": [
      "EL tamaño de feature id es:  (1, 777)\n",
      "Características de ID=156 guardadas en: featuresTest/features_id_156.pkl\n",
      "Procesando ID: 157...\n"
     ]
    },
    {
     "name": "stderr",
     "output_type": "stream",
     "text": [
      "\n",
      "Feature Extraction: 100%|██████████| 1/1 [00:03<00:00,  3.89s/it]"
     ]
    },
    {
     "name": "stdout",
     "output_type": "stream",
     "text": [
      "EL tamaño de feature id es:  (1, 777)\n",
      "Características de ID=157 guardadas en: featuresTest/features_id_157.pkl\n",
      "Procesando ID: 158...\n"
     ]
    },
    {
     "name": "stderr",
     "output_type": "stream",
     "text": [
      "\n",
      "Feature Extraction: 100%|██████████| 1/1 [00:03<00:00,  3.43s/it]"
     ]
    },
    {
     "name": "stdout",
     "output_type": "stream",
     "text": [
      "EL tamaño de feature id es:  (1, 777)\n",
      "Características de ID=158 guardadas en: featuresTest/features_id_158.pkl\n",
      "Procesando ID: 159...\n"
     ]
    },
    {
     "name": "stderr",
     "output_type": "stream",
     "text": [
      "\n",
      "Feature Extraction: 100%|██████████| 1/1 [00:03<00:00,  3.05s/it]"
     ]
    },
    {
     "name": "stdout",
     "output_type": "stream",
     "text": [
      "EL tamaño de feature id es:  (1, 777)\n",
      "Características de ID=159 guardadas en: featuresTest/features_id_159.pkl\n",
      "Procesando ID: 160...\n"
     ]
    },
    {
     "name": "stderr",
     "output_type": "stream",
     "text": [
      "\n",
      "Feature Extraction: 100%|██████████| 1/1 [00:03<00:00,  3.61s/it]"
     ]
    },
    {
     "name": "stdout",
     "output_type": "stream",
     "text": [
      "EL tamaño de feature id es:  (1, 777)\n",
      "Características de ID=160 guardadas en: featuresTest/features_id_160.pkl\n",
      "Procesando ID: 161...\n"
     ]
    },
    {
     "name": "stderr",
     "output_type": "stream",
     "text": [
      "\n",
      "Feature Extraction: 100%|██████████| 1/1 [00:03<00:00,  3.58s/it]"
     ]
    },
    {
     "name": "stdout",
     "output_type": "stream",
     "text": [
      "EL tamaño de feature id es:  (1, 777)\n",
      "Características de ID=161 guardadas en: featuresTest/features_id_161.pkl\n",
      "Procesando ID: 162...\n"
     ]
    },
    {
     "name": "stderr",
     "output_type": "stream",
     "text": [
      "\n",
      "Feature Extraction: 100%|██████████| 1/1 [00:03<00:00,  3.86s/it]"
     ]
    },
    {
     "name": "stdout",
     "output_type": "stream",
     "text": [
      "EL tamaño de feature id es:  (1, 777)\n",
      "Características de ID=162 guardadas en: featuresTest/features_id_162.pkl\n",
      "Procesando ID: 163...\n"
     ]
    },
    {
     "name": "stderr",
     "output_type": "stream",
     "text": [
      "\n",
      "Feature Extraction: 100%|██████████| 1/1 [00:03<00:00,  3.11s/it]"
     ]
    },
    {
     "name": "stdout",
     "output_type": "stream",
     "text": [
      "EL tamaño de feature id es:  (1, 777)\n",
      "Características de ID=163 guardadas en: featuresTest/features_id_163.pkl\n",
      "Procesando ID: 164...\n"
     ]
    },
    {
     "name": "stderr",
     "output_type": "stream",
     "text": [
      "\n",
      "Feature Extraction: 100%|██████████| 1/1 [00:04<00:00,  4.10s/it]"
     ]
    },
    {
     "name": "stdout",
     "output_type": "stream",
     "text": [
      "EL tamaño de feature id es:  (1, 777)\n",
      "Características de ID=164 guardadas en: featuresTest/features_id_164.pkl\n",
      "Procesando ID: 165...\n"
     ]
    },
    {
     "name": "stderr",
     "output_type": "stream",
     "text": [
      "\n",
      "Feature Extraction: 100%|██████████| 1/1 [00:03<00:00,  3.98s/it]"
     ]
    },
    {
     "name": "stdout",
     "output_type": "stream",
     "text": [
      "EL tamaño de feature id es:  (1, 777)\n",
      "Características de ID=165 guardadas en: featuresTest/features_id_165.pkl\n",
      "Procesando ID: 166...\n"
     ]
    },
    {
     "name": "stderr",
     "output_type": "stream",
     "text": [
      "\n",
      "Feature Extraction: 100%|██████████| 1/1 [00:03<00:00,  3.98s/it]"
     ]
    },
    {
     "name": "stdout",
     "output_type": "stream",
     "text": [
      "EL tamaño de feature id es:  (1, 777)\n",
      "Características de ID=166 guardadas en: featuresTest/features_id_166.pkl\n",
      "Procesando ID: 167...\n"
     ]
    },
    {
     "name": "stderr",
     "output_type": "stream",
     "text": [
      "\n",
      "Feature Extraction: 100%|██████████| 1/1 [00:04<00:00,  4.27s/it]"
     ]
    },
    {
     "name": "stdout",
     "output_type": "stream",
     "text": [
      "EL tamaño de feature id es:  (1, 777)\n",
      "Características de ID=167 guardadas en: featuresTest/features_id_167.pkl\n",
      "Procesando ID: 168...\n"
     ]
    },
    {
     "name": "stderr",
     "output_type": "stream",
     "text": [
      "\n",
      "Feature Extraction: 100%|██████████| 1/1 [00:04<00:00,  4.46s/it]"
     ]
    },
    {
     "name": "stdout",
     "output_type": "stream",
     "text": [
      "EL tamaño de feature id es:  (1, 777)\n",
      "Características de ID=168 guardadas en: featuresTest/features_id_168.pkl\n",
      "Procesando ID: 169...\n"
     ]
    },
    {
     "name": "stderr",
     "output_type": "stream",
     "text": [
      "\n",
      "Feature Extraction: 100%|██████████| 1/1 [00:03<00:00,  3.56s/it]"
     ]
    },
    {
     "name": "stdout",
     "output_type": "stream",
     "text": [
      "EL tamaño de feature id es:  (1, 777)\n",
      "Características de ID=169 guardadas en: featuresTest/features_id_169.pkl\n",
      "Procesando ID: 170...\n"
     ]
    },
    {
     "name": "stderr",
     "output_type": "stream",
     "text": [
      "\n",
      "Feature Extraction: 100%|██████████| 1/1 [00:03<00:00,  3.61s/it]"
     ]
    },
    {
     "name": "stdout",
     "output_type": "stream",
     "text": [
      "EL tamaño de feature id es:  (1, 777)\n",
      "Características de ID=170 guardadas en: featuresTest/features_id_170.pkl\n",
      "Procesando ID: 171...\n"
     ]
    },
    {
     "name": "stderr",
     "output_type": "stream",
     "text": [
      "\n",
      "Feature Extraction: 100%|██████████| 1/1 [00:32<00:00, 32.27s/it]"
     ]
    },
    {
     "name": "stdout",
     "output_type": "stream",
     "text": [
      "EL tamaño de feature id es:  (1, 777)\n",
      "Características de ID=171 guardadas en: featuresTest/features_id_171.pkl\n",
      "Procesando ID: 172...\n"
     ]
    },
    {
     "name": "stderr",
     "output_type": "stream",
     "text": [
      "\n",
      "Feature Extraction: 100%|██████████| 1/1 [00:07<00:00,  7.49s/it]"
     ]
    },
    {
     "name": "stdout",
     "output_type": "stream",
     "text": [
      "EL tamaño de feature id es:  (1, 777)\n",
      "Características de ID=172 guardadas en: featuresTest/features_id_172.pkl\n",
      "Procesando ID: 173...\n"
     ]
    },
    {
     "name": "stderr",
     "output_type": "stream",
     "text": [
      "\n",
      "Feature Extraction: 100%|██████████| 1/1 [00:07<00:00,  7.63s/it]"
     ]
    },
    {
     "name": "stdout",
     "output_type": "stream",
     "text": [
      "EL tamaño de feature id es:  (1, 777)\n",
      "Características de ID=173 guardadas en: featuresTest/features_id_173.pkl\n",
      "Procesando ID: 174...\n"
     ]
    },
    {
     "name": "stderr",
     "output_type": "stream",
     "text": [
      "\n",
      "Feature Extraction: 100%|██████████| 1/1 [00:10<00:00, 10.23s/it]"
     ]
    },
    {
     "name": "stdout",
     "output_type": "stream",
     "text": [
      "EL tamaño de feature id es:  (1, 777)\n",
      "Características de ID=174 guardadas en: featuresTest/features_id_174.pkl\n",
      "Procesando ID: 175...\n"
     ]
    },
    {
     "name": "stderr",
     "output_type": "stream",
     "text": [
      "\n",
      "Feature Extraction: 100%|██████████| 1/1 [00:06<00:00,  6.84s/it]"
     ]
    },
    {
     "name": "stdout",
     "output_type": "stream",
     "text": [
      "EL tamaño de feature id es:  (1, 777)\n",
      "Características de ID=175 guardadas en: featuresTest/features_id_175.pkl\n",
      "Procesando ID: 176...\n"
     ]
    },
    {
     "name": "stderr",
     "output_type": "stream",
     "text": [
      "\n",
      "Feature Extraction: 100%|██████████| 1/1 [00:05<00:00,  5.96s/it]"
     ]
    },
    {
     "name": "stdout",
     "output_type": "stream",
     "text": [
      "EL tamaño de feature id es:  (1, 777)\n",
      "Características de ID=176 guardadas en: featuresTest/features_id_176.pkl\n",
      "Procesando ID: 177...\n"
     ]
    },
    {
     "name": "stderr",
     "output_type": "stream",
     "text": [
      "\n",
      "Feature Extraction: 100%|██████████| 1/1 [00:03<00:00,  3.84s/it]"
     ]
    },
    {
     "name": "stdout",
     "output_type": "stream",
     "text": [
      "EL tamaño de feature id es:  (1, 777)\n",
      "Características de ID=177 guardadas en: featuresTest/features_id_177.pkl\n",
      "Procesando ID: 178...\n"
     ]
    },
    {
     "name": "stderr",
     "output_type": "stream",
     "text": [
      "\n",
      "Feature Extraction: 100%|██████████| 1/1 [00:03<00:00,  3.60s/it]"
     ]
    },
    {
     "name": "stdout",
     "output_type": "stream",
     "text": [
      "EL tamaño de feature id es:  (1, 777)\n",
      "Características de ID=178 guardadas en: featuresTest/features_id_178.pkl\n",
      "Procesando ID: 179...\n"
     ]
    },
    {
     "name": "stderr",
     "output_type": "stream",
     "text": [
      "\n",
      "Feature Extraction: 100%|██████████| 1/1 [00:03<00:00,  3.12s/it]"
     ]
    },
    {
     "name": "stdout",
     "output_type": "stream",
     "text": [
      "EL tamaño de feature id es:  (1, 777)\n",
      "Características de ID=179 guardadas en: featuresTest/features_id_179.pkl\n",
      "Procesando ID: 180...\n"
     ]
    },
    {
     "name": "stderr",
     "output_type": "stream",
     "text": [
      "\n",
      "Feature Extraction: 100%|██████████| 1/1 [00:03<00:00,  3.24s/it]"
     ]
    },
    {
     "name": "stdout",
     "output_type": "stream",
     "text": [
      "EL tamaño de feature id es:  (1, 777)\n",
      "Características de ID=180 guardadas en: featuresTest/features_id_180.pkl\n",
      "Procesando ID: 181...\n"
     ]
    },
    {
     "name": "stderr",
     "output_type": "stream",
     "text": [
      "\n",
      "Feature Extraction: 100%|██████████| 1/1 [00:02<00:00,  2.99s/it]"
     ]
    },
    {
     "name": "stdout",
     "output_type": "stream",
     "text": [
      "EL tamaño de feature id es:  (1, 777)\n",
      "Características de ID=181 guardadas en: featuresTest/features_id_181.pkl\n",
      "Procesando ID: 182...\n"
     ]
    },
    {
     "name": "stderr",
     "output_type": "stream",
     "text": [
      "\n",
      "Feature Extraction: 100%|██████████| 1/1 [00:03<00:00,  3.37s/it]"
     ]
    },
    {
     "name": "stdout",
     "output_type": "stream",
     "text": [
      "EL tamaño de feature id es:  (1, 777)\n",
      "Características de ID=182 guardadas en: featuresTest/features_id_182.pkl\n",
      "Procesando ID: 183...\n"
     ]
    },
    {
     "name": "stderr",
     "output_type": "stream",
     "text": [
      "\n",
      "Feature Extraction: 100%|██████████| 1/1 [00:02<00:00,  2.95s/it]"
     ]
    },
    {
     "name": "stdout",
     "output_type": "stream",
     "text": [
      "EL tamaño de feature id es:  (1, 777)\n",
      "Características de ID=183 guardadas en: featuresTest/features_id_183.pkl\n",
      "Procesando ID: 184...\n"
     ]
    },
    {
     "name": "stderr",
     "output_type": "stream",
     "text": [
      "\n",
      "Feature Extraction: 100%|██████████| 1/1 [00:03<00:00,  3.61s/it]"
     ]
    },
    {
     "name": "stdout",
     "output_type": "stream",
     "text": [
      "EL tamaño de feature id es:  (1, 777)\n",
      "Características de ID=184 guardadas en: featuresTest/features_id_184.pkl\n",
      "Procesando ID: 185...\n"
     ]
    },
    {
     "name": "stderr",
     "output_type": "stream",
     "text": [
      "\n",
      "Feature Extraction: 100%|██████████| 1/1 [00:03<00:00,  3.27s/it]"
     ]
    },
    {
     "name": "stdout",
     "output_type": "stream",
     "text": [
      "EL tamaño de feature id es:  (1, 777)\n",
      "Características de ID=185 guardadas en: featuresTest/features_id_185.pkl\n",
      "Procesando ID: 186...\n"
     ]
    },
    {
     "name": "stderr",
     "output_type": "stream",
     "text": [
      "\n",
      "Feature Extraction: 100%|██████████| 1/1 [00:03<00:00,  3.51s/it]"
     ]
    },
    {
     "name": "stdout",
     "output_type": "stream",
     "text": [
      "EL tamaño de feature id es:  (1, 777)\n",
      "Características de ID=186 guardadas en: featuresTest/features_id_186.pkl\n",
      "Procesando ID: 187...\n"
     ]
    },
    {
     "name": "stderr",
     "output_type": "stream",
     "text": [
      "\n",
      "Feature Extraction: 100%|██████████| 1/1 [00:03<00:00,  3.11s/it]"
     ]
    },
    {
     "name": "stdout",
     "output_type": "stream",
     "text": [
      "EL tamaño de feature id es:  (1, 777)\n",
      "Características de ID=187 guardadas en: featuresTest/features_id_187.pkl\n",
      "Procesando ID: 188...\n"
     ]
    },
    {
     "name": "stderr",
     "output_type": "stream",
     "text": [
      "\n",
      "Feature Extraction: 100%|██████████| 1/1 [00:02<00:00,  3.00s/it]"
     ]
    },
    {
     "name": "stdout",
     "output_type": "stream",
     "text": [
      "EL tamaño de feature id es:  (1, 777)\n",
      "Características de ID=188 guardadas en: featuresTest/features_id_188.pkl\n",
      "Procesando ID: 189...\n"
     ]
    },
    {
     "name": "stderr",
     "output_type": "stream",
     "text": [
      "\n",
      "Feature Extraction: 100%|██████████| 1/1 [00:03<00:00,  3.38s/it]"
     ]
    },
    {
     "name": "stdout",
     "output_type": "stream",
     "text": [
      "EL tamaño de feature id es:  (1, 777)\n",
      "Características de ID=189 guardadas en: featuresTest/features_id_189.pkl\n",
      "Procesando ID: 190...\n"
     ]
    },
    {
     "name": "stderr",
     "output_type": "stream",
     "text": [
      "\n",
      "Feature Extraction: 100%|██████████| 1/1 [00:03<00:00,  3.13s/it]"
     ]
    },
    {
     "name": "stdout",
     "output_type": "stream",
     "text": [
      "EL tamaño de feature id es:  (1, 777)\n",
      "Características de ID=190 guardadas en: featuresTest/features_id_190.pkl\n",
      "Procesando ID: 191...\n"
     ]
    },
    {
     "name": "stderr",
     "output_type": "stream",
     "text": [
      "\n",
      "Feature Extraction: 100%|██████████| 1/1 [00:03<00:00,  3.20s/it]"
     ]
    },
    {
     "name": "stdout",
     "output_type": "stream",
     "text": [
      "EL tamaño de feature id es:  (1, 777)\n",
      "Características de ID=191 guardadas en: featuresTest/features_id_191.pkl\n",
      "Procesando ID: 192...\n"
     ]
    },
    {
     "name": "stderr",
     "output_type": "stream",
     "text": [
      "\n",
      "Feature Extraction: 100%|██████████| 1/1 [00:03<00:00,  3.34s/it]"
     ]
    },
    {
     "name": "stdout",
     "output_type": "stream",
     "text": [
      "EL tamaño de feature id es:  (1, 777)\n",
      "Características de ID=192 guardadas en: featuresTest/features_id_192.pkl\n",
      "Procesando ID: 193...\n"
     ]
    },
    {
     "name": "stderr",
     "output_type": "stream",
     "text": [
      "\n",
      "Feature Extraction: 100%|██████████| 1/1 [00:03<00:00,  3.49s/it]"
     ]
    },
    {
     "name": "stdout",
     "output_type": "stream",
     "text": [
      "EL tamaño de feature id es:  (1, 777)\n",
      "Características de ID=193 guardadas en: featuresTest/features_id_193.pkl\n",
      "Procesando ID: 194...\n"
     ]
    },
    {
     "name": "stderr",
     "output_type": "stream",
     "text": [
      "\n",
      "Feature Extraction: 100%|██████████| 1/1 [00:03<00:00,  3.66s/it]"
     ]
    },
    {
     "name": "stdout",
     "output_type": "stream",
     "text": [
      "EL tamaño de feature id es:  (1, 777)\n",
      "Características de ID=194 guardadas en: featuresTest/features_id_194.pkl\n",
      "Procesando ID: 195...\n"
     ]
    },
    {
     "name": "stderr",
     "output_type": "stream",
     "text": [
      "\n",
      "Feature Extraction: 100%|██████████| 1/1 [00:03<00:00,  3.23s/it]"
     ]
    },
    {
     "name": "stdout",
     "output_type": "stream",
     "text": [
      "EL tamaño de feature id es:  (1, 777)\n",
      "Características de ID=195 guardadas en: featuresTest/features_id_195.pkl\n",
      "Procesando ID: 196...\n"
     ]
    },
    {
     "name": "stderr",
     "output_type": "stream",
     "text": [
      "\n",
      "Feature Extraction: 100%|██████████| 1/1 [00:03<00:00,  3.34s/it]"
     ]
    },
    {
     "name": "stdout",
     "output_type": "stream",
     "text": [
      "EL tamaño de feature id es:  (1, 777)\n",
      "Características de ID=196 guardadas en: featuresTest/features_id_196.pkl\n",
      "Procesando ID: 197...\n"
     ]
    },
    {
     "name": "stderr",
     "output_type": "stream",
     "text": [
      "\n",
      "Feature Extraction: 100%|██████████| 1/1 [00:03<00:00,  3.04s/it]"
     ]
    },
    {
     "name": "stdout",
     "output_type": "stream",
     "text": [
      "EL tamaño de feature id es:  (1, 777)\n",
      "Características de ID=197 guardadas en: featuresTest/features_id_197.pkl\n",
      "Procesando ID: 198...\n"
     ]
    },
    {
     "name": "stderr",
     "output_type": "stream",
     "text": [
      "\n",
      "Feature Extraction: 100%|██████████| 1/1 [00:03<00:00,  3.02s/it]"
     ]
    },
    {
     "name": "stdout",
     "output_type": "stream",
     "text": [
      "EL tamaño de feature id es:  (1, 777)\n",
      "Características de ID=198 guardadas en: featuresTest/features_id_198.pkl\n",
      "Procesando ID: 199...\n"
     ]
    },
    {
     "name": "stderr",
     "output_type": "stream",
     "text": [
      "\n",
      "Feature Extraction: 100%|██████████| 1/1 [00:03<00:00,  3.04s/it]"
     ]
    },
    {
     "name": "stdout",
     "output_type": "stream",
     "text": [
      "EL tamaño de feature id es:  (1, 777)\n",
      "Características de ID=199 guardadas en: featuresTest/features_id_199.pkl\n",
      "Procesando ID: 200...\n"
     ]
    },
    {
     "name": "stderr",
     "output_type": "stream",
     "text": [
      "\n",
      "Feature Extraction: 100%|██████████| 1/1 [00:03<00:00,  3.56s/it]"
     ]
    },
    {
     "name": "stdout",
     "output_type": "stream",
     "text": [
      "EL tamaño de feature id es:  (1, 777)\n",
      "Características de ID=200 guardadas en: featuresTest/features_id_200.pkl\n",
      "Procesando ID: 201...\n"
     ]
    },
    {
     "name": "stderr",
     "output_type": "stream",
     "text": [
      "\n",
      "Feature Extraction: 100%|██████████| 1/1 [00:03<00:00,  3.58s/it]"
     ]
    },
    {
     "name": "stdout",
     "output_type": "stream",
     "text": [
      "EL tamaño de feature id es:  (1, 777)\n",
      "Características de ID=201 guardadas en: featuresTest/features_id_201.pkl\n",
      "Procesando ID: 202...\n"
     ]
    },
    {
     "name": "stderr",
     "output_type": "stream",
     "text": [
      "\n",
      "Feature Extraction: 100%|██████████| 1/1 [00:03<00:00,  3.50s/it]"
     ]
    },
    {
     "name": "stdout",
     "output_type": "stream",
     "text": [
      "EL tamaño de feature id es:  (1, 777)\n",
      "Características de ID=202 guardadas en: featuresTest/features_id_202.pkl\n",
      "Procesando ID: 203...\n"
     ]
    },
    {
     "name": "stderr",
     "output_type": "stream",
     "text": [
      "\n",
      "Feature Extraction: 100%|██████████| 1/1 [00:03<00:00,  3.94s/it]"
     ]
    },
    {
     "name": "stdout",
     "output_type": "stream",
     "text": [
      "EL tamaño de feature id es:  (1, 777)\n",
      "Características de ID=203 guardadas en: featuresTest/features_id_203.pkl\n",
      "Procesando ID: 204...\n"
     ]
    },
    {
     "name": "stderr",
     "output_type": "stream",
     "text": [
      "\n",
      "Feature Extraction: 100%|██████████| 1/1 [00:03<00:00,  3.48s/it]"
     ]
    },
    {
     "name": "stdout",
     "output_type": "stream",
     "text": [
      "EL tamaño de feature id es:  (1, 777)\n",
      "Características de ID=204 guardadas en: featuresTest/features_id_204.pkl\n"
     ]
    },
    {
     "name": "stderr",
     "output_type": "stream",
     "text": [
      "\n"
     ]
    }
   ],
   "source": [
    "\n",
    "\n",
    "# Montamos Google Drive\n",
    "\n",
    "# Definimos la ruta de salida\n",
    "output_dir = \"featuresTest\"\n",
    "print(os.listdir(output_dir))\n",
    "\n",
    "# Iterar sobre cada ID único en el DataFrame\n",
    "unique_ids = df_ready[\"id\"].unique()\n",
    "\n",
    "# Procesar cada ID individualmente\n",
    "for id_value in unique_ids:\n",
    "    print(f\"Procesando ID: {id_value}...\")\n",
    "\n",
    "    # Filtrar el DataFrame para solo ese ID\n",
    "    df_id = df_ready[df_ready[\"id\"] == id_value]\n",
    "\n",
    "    # Extraer características para ese ID\n",
    "    features_id = extract_features(df_id,\n",
    "                                   column_id=\"id\",\n",
    "                                   column_sort=\"time\",\n",
    "                                   default_fc_parameters=EfficientFCParameters(),\n",
    "                                   disable_progressbar=False,\n",
    "                                   n_jobs=multiprocessing.cpu_count())\n",
    "    # Rellenamos con 0 los NaN\n",
    "    features_id = features_id.fillna(0)\n",
    "    print(\"EL tamaño de feature id es: \",features_id.shape)\n",
    "\n",
    "    # Guardar las características de ese ID en un archivo\n",
    "    features_id_path = os.path.join(output_dir, f\"features_id_{id_value}.pkl\")\n",
    "\n",
    "    features_id.to_pickle(features_id_path)\n",
    "\n",
    "    print(f\"Características de ID={id_value} guardadas en: {features_id_path}\")\n"
   ]
  },
  {
   "cell_type": "code",
   "execution_count": 27,
   "id": "cbf55b47",
   "metadata": {},
   "outputs": [
    {
     "name": "stdout",
     "output_type": "stream",
     "text": [
      "Procesando archivo: features_id_0.pkl...\n",
      "Procesando archivo: features_id_1.pkl...\n",
      "Procesando archivo: features_id_2.pkl...\n",
      "Procesando archivo: features_id_3.pkl...\n",
      "Procesando archivo: features_id_4.pkl...\n",
      "Procesando archivo: features_id_5.pkl...\n",
      "Procesando archivo: features_id_6.pkl...\n",
      "Procesando archivo: features_id_7.pkl...\n",
      "Procesando archivo: features_id_8.pkl...\n",
      "Procesando archivo: features_id_9.pkl...\n",
      "Procesando archivo: features_id_10.pkl...\n",
      "Procesando archivo: features_id_11.pkl...\n",
      "Procesando archivo: features_id_12.pkl...\n",
      "Procesando archivo: features_id_13.pkl...\n",
      "Procesando archivo: features_id_14.pkl...\n",
      "Procesando archivo: features_id_15.pkl...\n",
      "Procesando archivo: features_id_16.pkl...\n",
      "Procesando archivo: features_id_17.pkl...\n",
      "Procesando archivo: features_id_18.pkl...\n",
      "Procesando archivo: features_id_19.pkl...\n",
      "Procesando archivo: features_id_20.pkl...\n",
      "Procesando archivo: features_id_21.pkl...\n",
      "Procesando archivo: features_id_22.pkl...\n",
      "Procesando archivo: features_id_23.pkl...\n",
      "Procesando archivo: features_id_24.pkl...\n",
      "Procesando archivo: features_id_25.pkl...\n",
      "Procesando archivo: features_id_26.pkl...\n",
      "Procesando archivo: features_id_27.pkl...\n",
      "Procesando archivo: features_id_28.pkl...\n",
      "Procesando archivo: features_id_29.pkl...\n",
      "Procesando archivo: features_id_30.pkl...\n",
      "Procesando archivo: features_id_31.pkl...\n",
      "Procesando archivo: features_id_32.pkl...\n",
      "Procesando archivo: features_id_33.pkl...\n",
      "Procesando archivo: features_id_34.pkl...\n",
      "Procesando archivo: features_id_35.pkl...\n",
      "Procesando archivo: features_id_36.pkl...\n",
      "Procesando archivo: features_id_37.pkl...\n",
      "Procesando archivo: features_id_38.pkl...\n",
      "Procesando archivo: features_id_39.pkl...\n",
      "Procesando archivo: features_id_40.pkl...\n",
      "Procesando archivo: features_id_41.pkl...\n",
      "Procesando archivo: features_id_42.pkl...\n",
      "Procesando archivo: features_id_43.pkl...\n",
      "Procesando archivo: features_id_44.pkl...\n",
      "Procesando archivo: features_id_45.pkl...\n",
      "Procesando archivo: features_id_46.pkl...\n",
      "Procesando archivo: features_id_47.pkl...\n",
      "Procesando archivo: features_id_48.pkl...\n",
      "Procesando archivo: features_id_49.pkl...\n",
      "Procesando archivo: features_id_50.pkl...\n",
      "Procesando archivo: features_id_51.pkl...\n",
      "Procesando archivo: features_id_52.pkl...\n",
      "Procesando archivo: features_id_53.pkl...\n",
      "Procesando archivo: features_id_54.pkl...\n",
      "Procesando archivo: features_id_55.pkl...\n",
      "Procesando archivo: features_id_56.pkl...\n",
      "Procesando archivo: features_id_57.pkl...\n",
      "Procesando archivo: features_id_58.pkl...\n",
      "Procesando archivo: features_id_59.pkl...\n",
      "Procesando archivo: features_id_60.pkl...\n",
      "Procesando archivo: features_id_61.pkl...\n",
      "Procesando archivo: features_id_62.pkl...\n",
      "Procesando archivo: features_id_63.pkl...\n",
      "Procesando archivo: features_id_64.pkl...\n",
      "Procesando archivo: features_id_65.pkl...\n",
      "Procesando archivo: features_id_66.pkl...\n",
      "Procesando archivo: features_id_67.pkl...\n",
      "Procesando archivo: features_id_68.pkl...\n",
      "Procesando archivo: features_id_69.pkl...\n",
      "Procesando archivo: features_id_70.pkl...\n",
      "Procesando archivo: features_id_71.pkl...\n",
      "Procesando archivo: features_id_72.pkl...\n",
      "Procesando archivo: features_id_73.pkl...\n",
      "Procesando archivo: features_id_74.pkl...\n",
      "Procesando archivo: features_id_75.pkl...\n",
      "Procesando archivo: features_id_76.pkl...\n",
      "Procesando archivo: features_id_77.pkl...\n",
      "Procesando archivo: features_id_78.pkl...\n",
      "Procesando archivo: features_id_79.pkl...\n",
      "Procesando archivo: features_id_80.pkl...\n",
      "Procesando archivo: features_id_81.pkl...\n",
      "Procesando archivo: features_id_82.pkl...\n",
      "Procesando archivo: features_id_83.pkl...\n",
      "Procesando archivo: features_id_84.pkl...\n",
      "Procesando archivo: features_id_85.pkl...\n",
      "Procesando archivo: features_id_86.pkl...\n",
      "Procesando archivo: features_id_87.pkl...\n",
      "Procesando archivo: features_id_88.pkl...\n",
      "Procesando archivo: features_id_89.pkl...\n",
      "Procesando archivo: features_id_90.pkl...\n",
      "Procesando archivo: features_id_91.pkl...\n",
      "Procesando archivo: features_id_92.pkl...\n",
      "Procesando archivo: features_id_93.pkl...\n",
      "Procesando archivo: features_id_94.pkl...\n",
      "Procesando archivo: features_id_95.pkl...\n",
      "Procesando archivo: features_id_96.pkl...\n",
      "Procesando archivo: features_id_97.pkl...\n",
      "Procesando archivo: features_id_98.pkl...\n",
      "Procesando archivo: features_id_99.pkl...\n",
      "Procesando archivo: features_id_100.pkl...\n",
      "Procesando archivo: features_id_101.pkl...\n",
      "Procesando archivo: features_id_102.pkl...\n",
      "Procesando archivo: features_id_103.pkl...\n",
      "Procesando archivo: features_id_104.pkl...\n",
      "Procesando archivo: features_id_105.pkl...\n",
      "Procesando archivo: features_id_106.pkl...\n",
      "Procesando archivo: features_id_107.pkl...\n",
      "Procesando archivo: features_id_108.pkl...\n",
      "Procesando archivo: features_id_109.pkl...\n",
      "Procesando archivo: features_id_110.pkl...\n",
      "Procesando archivo: features_id_111.pkl...\n",
      "Procesando archivo: features_id_112.pkl...\n",
      "Procesando archivo: features_id_113.pkl...\n",
      "Procesando archivo: features_id_114.pkl...\n",
      "Procesando archivo: features_id_115.pkl...\n",
      "Procesando archivo: features_id_116.pkl...\n",
      "Procesando archivo: features_id_117.pkl...\n",
      "Procesando archivo: features_id_118.pkl...\n",
      "Procesando archivo: features_id_119.pkl...\n",
      "Procesando archivo: features_id_120.pkl...\n",
      "Procesando archivo: features_id_121.pkl...\n",
      "Procesando archivo: features_id_122.pkl...\n",
      "Procesando archivo: features_id_123.pkl...\n",
      "Procesando archivo: features_id_124.pkl...\n",
      "Procesando archivo: features_id_125.pkl...\n",
      "Procesando archivo: features_id_126.pkl...\n",
      "Procesando archivo: features_id_127.pkl...\n",
      "Procesando archivo: features_id_128.pkl...\n",
      "Procesando archivo: features_id_129.pkl...\n",
      "Procesando archivo: features_id_130.pkl...\n",
      "Procesando archivo: features_id_131.pkl...\n",
      "Procesando archivo: features_id_132.pkl...\n",
      "Procesando archivo: features_id_133.pkl...\n",
      "Procesando archivo: features_id_134.pkl...\n",
      "Procesando archivo: features_id_135.pkl...\n",
      "Procesando archivo: features_id_136.pkl...\n",
      "Procesando archivo: features_id_137.pkl...\n",
      "Procesando archivo: features_id_138.pkl...\n",
      "Procesando archivo: features_id_139.pkl...\n",
      "Procesando archivo: features_id_140.pkl...\n",
      "Procesando archivo: features_id_141.pkl...\n",
      "Procesando archivo: features_id_142.pkl...\n",
      "Procesando archivo: features_id_143.pkl...\n",
      "Procesando archivo: features_id_144.pkl...\n",
      "Procesando archivo: features_id_145.pkl...\n",
      "Procesando archivo: features_id_146.pkl...\n",
      "Procesando archivo: features_id_147.pkl...\n",
      "Procesando archivo: features_id_148.pkl...\n",
      "Procesando archivo: features_id_149.pkl...\n",
      "Procesando archivo: features_id_150.pkl...\n",
      "Procesando archivo: features_id_151.pkl...\n",
      "Procesando archivo: features_id_152.pkl...\n",
      "Procesando archivo: features_id_153.pkl...\n",
      "Procesando archivo: features_id_154.pkl...\n",
      "Procesando archivo: features_id_155.pkl...\n",
      "Procesando archivo: features_id_156.pkl...\n",
      "Procesando archivo: features_id_157.pkl...\n",
      "Procesando archivo: features_id_158.pkl...\n",
      "Procesando archivo: features_id_159.pkl...\n",
      "Procesando archivo: features_id_160.pkl...\n",
      "Procesando archivo: features_id_161.pkl...\n",
      "Procesando archivo: features_id_162.pkl...\n",
      "Procesando archivo: features_id_163.pkl...\n",
      "Procesando archivo: features_id_164.pkl...\n",
      "Procesando archivo: features_id_165.pkl...\n",
      "Procesando archivo: features_id_166.pkl...\n",
      "Procesando archivo: features_id_167.pkl...\n",
      "Procesando archivo: features_id_168.pkl...\n",
      "Procesando archivo: features_id_169.pkl...\n",
      "Procesando archivo: features_id_170.pkl...\n",
      "Procesando archivo: features_id_171.pkl...\n",
      "Procesando archivo: features_id_172.pkl...\n",
      "Procesando archivo: features_id_173.pkl...\n",
      "Procesando archivo: features_id_174.pkl...\n",
      "Procesando archivo: features_id_175.pkl...\n",
      "Procesando archivo: features_id_176.pkl...\n",
      "Procesando archivo: features_id_177.pkl...\n",
      "Procesando archivo: features_id_178.pkl...\n",
      "Procesando archivo: features_id_179.pkl...\n",
      "Procesando archivo: features_id_180.pkl...\n",
      "Procesando archivo: features_id_181.pkl...\n",
      "Procesando archivo: features_id_182.pkl...\n",
      "Procesando archivo: features_id_183.pkl...\n",
      "Procesando archivo: features_id_184.pkl...\n",
      "Procesando archivo: features_id_185.pkl...\n",
      "Procesando archivo: features_id_186.pkl...\n",
      "Procesando archivo: features_id_187.pkl...\n",
      "Procesando archivo: features_id_188.pkl...\n",
      "Procesando archivo: features_id_189.pkl...\n",
      "Procesando archivo: features_id_190.pkl...\n",
      "Procesando archivo: features_id_191.pkl...\n",
      "Procesando archivo: features_id_192.pkl...\n",
      "Procesando archivo: features_id_193.pkl...\n",
      "Procesando archivo: features_id_194.pkl...\n",
      "Procesando archivo: features_id_195.pkl...\n",
      "Procesando archivo: features_id_196.pkl...\n",
      "Procesando archivo: features_id_197.pkl...\n",
      "Procesando archivo: features_id_198.pkl...\n",
      "Procesando archivo: features_id_199.pkl...\n",
      "Procesando archivo: features_id_200.pkl...\n",
      "Procesando archivo: features_id_201.pkl...\n",
      "Procesando archivo: features_id_202.pkl...\n",
      "Procesando archivo: features_id_203.pkl...\n",
      "Procesando archivo: features_id_204.pkl...\n",
      "Shape del dataset final es:  (205, 777)\n"
     ]
    },
    {
     "data": {
      "text/html": [
       "<div>\n",
       "<style scoped>\n",
       "    .dataframe tbody tr th:only-of-type {\n",
       "        vertical-align: middle;\n",
       "    }\n",
       "\n",
       "    .dataframe tbody tr th {\n",
       "        vertical-align: top;\n",
       "    }\n",
       "\n",
       "    .dataframe thead th {\n",
       "        text-align: right;\n",
       "    }\n",
       "</style>\n",
       "<table border=\"1\" class=\"dataframe\">\n",
       "  <thead>\n",
       "    <tr style=\"text-align: right;\">\n",
       "      <th></th>\n",
       "      <th>valor__variance_larger_than_standard_deviation</th>\n",
       "      <th>valor__has_duplicate_max</th>\n",
       "      <th>valor__has_duplicate_min</th>\n",
       "      <th>valor__has_duplicate</th>\n",
       "      <th>valor__sum_values</th>\n",
       "      <th>valor__abs_energy</th>\n",
       "      <th>valor__mean_abs_change</th>\n",
       "      <th>valor__mean_change</th>\n",
       "      <th>valor__mean_second_derivative_central</th>\n",
       "      <th>valor__median</th>\n",
       "      <th>...</th>\n",
       "      <th>valor__fourier_entropy__bins_5</th>\n",
       "      <th>valor__fourier_entropy__bins_10</th>\n",
       "      <th>valor__fourier_entropy__bins_100</th>\n",
       "      <th>valor__permutation_entropy__dimension_3__tau_1</th>\n",
       "      <th>valor__permutation_entropy__dimension_4__tau_1</th>\n",
       "      <th>valor__permutation_entropy__dimension_5__tau_1</th>\n",
       "      <th>valor__permutation_entropy__dimension_6__tau_1</th>\n",
       "      <th>valor__permutation_entropy__dimension_7__tau_1</th>\n",
       "      <th>valor__query_similarity_count__query_None__threshold_0.0</th>\n",
       "      <th>valor__mean_n_absolute_max__number_of_maxima_7</th>\n",
       "    </tr>\n",
       "  </thead>\n",
       "  <tbody>\n",
       "    <tr>\n",
       "      <th>0</th>\n",
       "      <td>0.0</td>\n",
       "      <td>0.0</td>\n",
       "      <td>0.0</td>\n",
       "      <td>1.0</td>\n",
       "      <td>-1.108182</td>\n",
       "      <td>188.142145</td>\n",
       "      <td>0.008619</td>\n",
       "      <td>-1.586077e-06</td>\n",
       "      <td>-9.050847e-07</td>\n",
       "      <td>-0.000534</td>\n",
       "      <td>...</td>\n",
       "      <td>0.249958</td>\n",
       "      <td>0.350689</td>\n",
       "      <td>0.709399</td>\n",
       "      <td>1.088459</td>\n",
       "      <td>1.524412</td>\n",
       "      <td>1.997020</td>\n",
       "      <td>2.493913</td>\n",
       "      <td>3.009824</td>\n",
       "      <td>0.0</td>\n",
       "      <td>0.544525</td>\n",
       "    </tr>\n",
       "    <tr>\n",
       "      <th>1</th>\n",
       "      <td>0.0</td>\n",
       "      <td>0.0</td>\n",
       "      <td>0.0</td>\n",
       "      <td>1.0</td>\n",
       "      <td>-2.736053</td>\n",
       "      <td>2.089645</td>\n",
       "      <td>0.000988</td>\n",
       "      <td>-1.241851e-06</td>\n",
       "      <td>-1.194152e-07</td>\n",
       "      <td>-0.000214</td>\n",
       "      <td>...</td>\n",
       "      <td>0.318449</td>\n",
       "      <td>0.418924</td>\n",
       "      <td>0.741638</td>\n",
       "      <td>1.330092</td>\n",
       "      <td>1.950442</td>\n",
       "      <td>2.631909</td>\n",
       "      <td>3.359304</td>\n",
       "      <td>4.056247</td>\n",
       "      <td>0.0</td>\n",
       "      <td>0.076551</td>\n",
       "    </tr>\n",
       "    <tr>\n",
       "      <th>2</th>\n",
       "      <td>0.0</td>\n",
       "      <td>0.0</td>\n",
       "      <td>0.0</td>\n",
       "      <td>1.0</td>\n",
       "      <td>-0.200805</td>\n",
       "      <td>8.075229</td>\n",
       "      <td>0.002489</td>\n",
       "      <td>9.915041e-07</td>\n",
       "      <td>1.918878e-07</td>\n",
       "      <td>-0.000031</td>\n",
       "      <td>...</td>\n",
       "      <td>0.344487</td>\n",
       "      <td>0.482843</td>\n",
       "      <td>1.042906</td>\n",
       "      <td>1.168164</td>\n",
       "      <td>1.679338</td>\n",
       "      <td>2.239246</td>\n",
       "      <td>2.828654</td>\n",
       "      <td>3.425464</td>\n",
       "      <td>0.0</td>\n",
       "      <td>0.126382</td>\n",
       "    </tr>\n",
       "    <tr>\n",
       "      <th>3</th>\n",
       "      <td>0.0</td>\n",
       "      <td>0.0</td>\n",
       "      <td>0.0</td>\n",
       "      <td>1.0</td>\n",
       "      <td>-0.108185</td>\n",
       "      <td>7.379380</td>\n",
       "      <td>0.001721</td>\n",
       "      <td>-2.948161e-07</td>\n",
       "      <td>-2.725960e-07</td>\n",
       "      <td>0.000305</td>\n",
       "      <td>...</td>\n",
       "      <td>0.341853</td>\n",
       "      <td>0.404122</td>\n",
       "      <td>0.730892</td>\n",
       "      <td>1.336187</td>\n",
       "      <td>1.940234</td>\n",
       "      <td>2.583686</td>\n",
       "      <td>3.257647</td>\n",
       "      <td>3.895326</td>\n",
       "      <td>0.0</td>\n",
       "      <td>0.125427</td>\n",
       "    </tr>\n",
       "    <tr>\n",
       "      <th>4</th>\n",
       "      <td>0.0</td>\n",
       "      <td>0.0</td>\n",
       "      <td>0.0</td>\n",
       "      <td>1.0</td>\n",
       "      <td>-0.873899</td>\n",
       "      <td>32.803556</td>\n",
       "      <td>0.003637</td>\n",
       "      <td>1.464198e-06</td>\n",
       "      <td>3.022442e-07</td>\n",
       "      <td>0.000244</td>\n",
       "      <td>...</td>\n",
       "      <td>0.249958</td>\n",
       "      <td>0.294982</td>\n",
       "      <td>0.730892</td>\n",
       "      <td>1.195760</td>\n",
       "      <td>1.747804</td>\n",
       "      <td>2.355175</td>\n",
       "      <td>2.996904</td>\n",
       "      <td>3.639787</td>\n",
       "      <td>0.0</td>\n",
       "      <td>0.284114</td>\n",
       "    </tr>\n",
       "  </tbody>\n",
       "</table>\n",
       "<p>5 rows × 777 columns</p>\n",
       "</div>"
      ],
      "text/plain": [
       "   valor__variance_larger_than_standard_deviation  valor__has_duplicate_max  \\\n",
       "0                                             0.0                       0.0   \n",
       "1                                             0.0                       0.0   \n",
       "2                                             0.0                       0.0   \n",
       "3                                             0.0                       0.0   \n",
       "4                                             0.0                       0.0   \n",
       "\n",
       "   valor__has_duplicate_min  valor__has_duplicate  valor__sum_values  \\\n",
       "0                       0.0                   1.0          -1.108182   \n",
       "1                       0.0                   1.0          -2.736053   \n",
       "2                       0.0                   1.0          -0.200805   \n",
       "3                       0.0                   1.0          -0.108185   \n",
       "4                       0.0                   1.0          -0.873899   \n",
       "\n",
       "   valor__abs_energy  valor__mean_abs_change  valor__mean_change  \\\n",
       "0         188.142145                0.008619       -1.586077e-06   \n",
       "1           2.089645                0.000988       -1.241851e-06   \n",
       "2           8.075229                0.002489        9.915041e-07   \n",
       "3           7.379380                0.001721       -2.948161e-07   \n",
       "4          32.803556                0.003637        1.464198e-06   \n",
       "\n",
       "   valor__mean_second_derivative_central  valor__median  ...  \\\n",
       "0                          -9.050847e-07      -0.000534  ...   \n",
       "1                          -1.194152e-07      -0.000214  ...   \n",
       "2                           1.918878e-07      -0.000031  ...   \n",
       "3                          -2.725960e-07       0.000305  ...   \n",
       "4                           3.022442e-07       0.000244  ...   \n",
       "\n",
       "   valor__fourier_entropy__bins_5  valor__fourier_entropy__bins_10  \\\n",
       "0                        0.249958                         0.350689   \n",
       "1                        0.318449                         0.418924   \n",
       "2                        0.344487                         0.482843   \n",
       "3                        0.341853                         0.404122   \n",
       "4                        0.249958                         0.294982   \n",
       "\n",
       "   valor__fourier_entropy__bins_100  \\\n",
       "0                          0.709399   \n",
       "1                          0.741638   \n",
       "2                          1.042906   \n",
       "3                          0.730892   \n",
       "4                          0.730892   \n",
       "\n",
       "   valor__permutation_entropy__dimension_3__tau_1  \\\n",
       "0                                        1.088459   \n",
       "1                                        1.330092   \n",
       "2                                        1.168164   \n",
       "3                                        1.336187   \n",
       "4                                        1.195760   \n",
       "\n",
       "   valor__permutation_entropy__dimension_4__tau_1  \\\n",
       "0                                        1.524412   \n",
       "1                                        1.950442   \n",
       "2                                        1.679338   \n",
       "3                                        1.940234   \n",
       "4                                        1.747804   \n",
       "\n",
       "   valor__permutation_entropy__dimension_5__tau_1  \\\n",
       "0                                        1.997020   \n",
       "1                                        2.631909   \n",
       "2                                        2.239246   \n",
       "3                                        2.583686   \n",
       "4                                        2.355175   \n",
       "\n",
       "   valor__permutation_entropy__dimension_6__tau_1  \\\n",
       "0                                        2.493913   \n",
       "1                                        3.359304   \n",
       "2                                        2.828654   \n",
       "3                                        3.257647   \n",
       "4                                        2.996904   \n",
       "\n",
       "   valor__permutation_entropy__dimension_7__tau_1  \\\n",
       "0                                        3.009824   \n",
       "1                                        4.056247   \n",
       "2                                        3.425464   \n",
       "3                                        3.895326   \n",
       "4                                        3.639787   \n",
       "\n",
       "   valor__query_similarity_count__query_None__threshold_0.0  \\\n",
       "0                                                0.0          \n",
       "1                                                0.0          \n",
       "2                                                0.0          \n",
       "3                                                0.0          \n",
       "4                                                0.0          \n",
       "\n",
       "   valor__mean_n_absolute_max__number_of_maxima_7  \n",
       "0                                        0.544525  \n",
       "1                                        0.076551  \n",
       "2                                        0.126382  \n",
       "3                                        0.125427  \n",
       "4                                        0.284114  \n",
       "\n",
       "[5 rows x 777 columns]"
      ]
     },
     "execution_count": 27,
     "metadata": {},
     "output_type": "execute_result"
    }
   ],
   "source": [
    "\n",
    "\n",
    "# Ruta donde están guardados los archivos de características\n",
    "input_dir = \"featuresTest\"\n",
    "output_dir = \"featuresTest/featuresTestAll\"\n",
    "#os.makedirs(output_dir, exist_ok=True)\n",
    "# Montamos Google Drive\n",
    "# Lista para almacenar cada DataFrame cargado\n",
    "features_list = []\n",
    "\n",
    "def extract_id_number(filename):\n",
    "    \"\"\"Se encarga de buscar el id del nombre del archivo para procesar de manera ordenada\"\"\"\n",
    "    match = re.search(r\"features_id_(\\d+)\\.pkl\", filename)\n",
    "    return int(match.group(1)) if match else -1\n",
    "\n",
    "files = [f for f in os.listdir(input_dir) if f.startswith(\"features_id_\") and f.endswith(\".pkl\")]\n",
    "files_sorted = sorted(files, key=extract_id_number)\n",
    "\n",
    "features_list = []\n",
    "for file in files_sorted:\n",
    "    print(f\"Procesando archivo: {file}...\")\n",
    "    df = pd.read_pickle(os.path.join(input_dir, file))\n",
    "    features_list.append(df)\n",
    "\n",
    "\n",
    "# Concatenamos todos los DataFrames en uno solo\n",
    "full_features_df = pd.concat(features_list, axis=0)\n",
    "\n",
    "full_features_df.reset_index(drop=True, inplace=True)\n",
    "\n",
    "full_features_df.to_pickle(os.path.join(output_dir, \"all_features_test.pkl\"))\n",
    "# Mostrar información del DataFrame final\n",
    "print(\"Shape del dataset final es: \", full_features_df.shape)\n",
    "full_features_df.head()\n",
    "\n"
   ]
  },
  {
   "cell_type": "code",
   "execution_count": null,
   "id": "08822b05",
   "metadata": {},
   "outputs": [],
   "source": []
  }
 ],
 "metadata": {
  "kernelspec": {
   "display_name": "venv",
   "language": "python",
   "name": "python3"
  },
  "language_info": {
   "codemirror_mode": {
    "name": "ipython",
    "version": 3
   },
   "file_extension": ".py",
   "mimetype": "text/x-python",
   "name": "python",
   "nbconvert_exporter": "python",
   "pygments_lexer": "ipython3",
   "version": "3.11.6"
  }
 },
 "nbformat": 4,
 "nbformat_minor": 5
}
